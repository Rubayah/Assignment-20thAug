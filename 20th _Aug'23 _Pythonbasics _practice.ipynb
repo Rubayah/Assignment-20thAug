{
 "cells": [
  {
   "cell_type": "markdown",
   "id": "8d2321a9-405d-48d8-b694-da8f33839400",
   "metadata": {},
   "source": [
    "1. Reverse a string "
   ]
  },
  {
   "cell_type": "code",
   "execution_count": 17,
   "id": "2a534883-c641-4449-96f2-bd0f96b89cf1",
   "metadata": {},
   "outputs": [
    {
     "name": "stdin",
     "output_type": "stream",
     "text": [
      "Enter the string: met\n"
     ]
    },
    {
     "name": "stdout",
     "output_type": "stream",
     "text": [
      "Reversed String is: tem\n"
     ]
    }
   ],
   "source": [
    "# Get input from the user\n",
    "string = input(\"Enter the string:\")\n",
    "\n",
    "# Reverse the string\n",
    "rev_str = ''.join(reversed(string))\n",
    "\n",
    "# Print the reversed string\n",
    "print(\"Reversed String is:\", rev_str)"
   ]
  },
  {
   "cell_type": "markdown",
   "id": "612ae6d1-f807-426c-9602-ea07f6e60cfc",
   "metadata": {},
   "source": [
    "2. String is Palindrome"
   ]
  },
  {
   "cell_type": "code",
   "execution_count": 5,
   "id": "5ee981ef-8045-403a-bca0-8b9461307d4a",
   "metadata": {},
   "outputs": [
    {
     "name": "stdin",
     "output_type": "stream",
     "text": [
      "Enter the string: a man, a plan, a canal, panama\n"
     ]
    },
    {
     "name": "stdout",
     "output_type": "stream",
     "text": [
      "palindrome\n"
     ]
    }
   ],
   "source": [
    "# Get input from the user\n",
    "string = input(\"Enter the string:\")\n",
    "\n",
    "# Extract only alphanumeric characters from the input string\n",
    "str_rep = ''.join(re.findall(r'\\w', string))\n",
    "\n",
    "# Reverse the extracted alphanumeric string\n",
    "str_rev = str_rep[::-1]\n",
    "\n",
    "# Check if the reversed string is equal to the original, determine if it's a palindrome\n",
    "if str_rep == str_rev:\n",
    "    print(\"Palindrome\")\n",
    "else:\n",
    "    print(\"Not a palindrome\")"
   ]
  },
  {
   "cell_type": "code",
   "execution_count": 23,
   "id": "83ea846d-b30e-4bac-babc-adc2eef143c2",
   "metadata": {},
   "outputs": [
    {
     "name": "stdin",
     "output_type": "stream",
     "text": [
      "Enter the string: mom pip mom\n"
     ]
    },
    {
     "name": "stdout",
     "output_type": "stream",
     "text": [
      "Palindrome\n"
     ]
    }
   ],
   "source": [
    "# Get input from the user\n",
    "string = input(\"Enter the string:\")\n",
    "\n",
    "# Remove spaces from the input string\n",
    "string_rep = string.replace(\" \", '')\n",
    "\n",
    "# Initialize pointers for checking palindrome\n",
    "first = 0\n",
    "last = len(string_rep) - 1\n",
    "is_palindrome = True\n",
    "\n",
    "# Check if the string is a palindrome\n",
    "while first <= last:\n",
    "    if string_rep[first] == string_rep[last]:\n",
    "        first += 1\n",
    "        last -= 1\n",
    "    else:\n",
    "        is_palindrome = False\n",
    "        break\n",
    "\n",
    "# Print the result\n",
    "if is_palindrome:\n",
    "    print(\"Palindrome\")\n",
    "else:\n",
    "    print(\"Not a palindrome\")\n",
    "\n"
   ]
  },
  {
   "cell_type": "markdown",
   "id": "14e02ee5-badb-471d-b43e-176062214640",
   "metadata": {},
   "source": [
    "3. String to uppercase"
   ]
  },
  {
   "cell_type": "code",
   "execution_count": 1,
   "id": "2333f586-e340-4770-93d1-bcd95c03da7e",
   "metadata": {},
   "outputs": [
    {
     "name": "stdin",
     "output_type": "stream",
     "text": [
      "Enter the string: red\n"
     ]
    },
    {
     "name": "stdout",
     "output_type": "stream",
     "text": [
      " String: RED\n"
     ]
    }
   ],
   "source": [
    "# Get input from the user\n",
    "string = input(\"Enter the string:\")\n",
    "\n",
    "# Convert the string to uppercase\n",
    "str_up = string.upper()\n",
    "\n",
    "# Print the uppercase string\n",
    "print(\"Uppercase String:\", str_up)\n"
   ]
  },
  {
   "cell_type": "markdown",
   "id": "a79e5dda-fa0e-487e-be2b-79b10bffa234",
   "metadata": {},
   "source": [
    "4.String to lowercase"
   ]
  },
  {
   "cell_type": "code",
   "execution_count": 2,
   "id": "705ad4f3-081b-40db-a281-f95e600d10c5",
   "metadata": {},
   "outputs": [
    {
     "name": "stdin",
     "output_type": "stream",
     "text": [
      "Enter the string: JUG\n"
     ]
    },
    {
     "name": "stdout",
     "output_type": "stream",
     "text": [
      " String: jug\n"
     ]
    }
   ],
   "source": [
    "# Get input from the user\n",
    "string = input(\"Enter the string:\")\n",
    "\n",
    "# Convert the string to lowercase\n",
    "str_low = string.lower()\n",
    "\n",
    "# Print the lowercase string\n",
    "print(\"Lowercase String:\", str_low)\n"
   ]
  },
  {
   "cell_type": "markdown",
   "id": "e3d50835-7639-4814-8727-1bb1afb9fd79",
   "metadata": {},
   "source": [
    "5.Count the number of vowels in a string."
   ]
  },
  {
   "cell_type": "code",
   "execution_count": 18,
   "id": "7aa4c03a-3c25-4937-8c47-a22f42cd6d4f",
   "metadata": {},
   "outputs": [
    {
     "name": "stdin",
     "output_type": "stream",
     "text": [
      "Enter the string: My name is RubAyAh\n"
     ]
    },
    {
     "name": "stdout",
     "output_type": "stream",
     "text": [
      "COunt of vowels 6\n"
     ]
    }
   ],
   "source": [
    "# Get input from the user\n",
    "string = input(\"Enter the string:\")\n",
    "\n",
    "# Convert the string to lowercase\n",
    "str_low = string.lower()\n",
    "\n",
    "# Print the lowercase string\n",
    "print(\"Lowercase String:\", str_low)\n"
   ]
  },
  {
   "cell_type": "markdown",
   "id": "876c9388-2f6c-4ff4-858e-a23ce7108872",
   "metadata": {},
   "source": [
    "6. Count the number of consonants in a string."
   ]
  },
  {
   "cell_type": "code",
   "execution_count": 21,
   "id": "e8d5200b-8653-4d11-858a-2c45885bd5a4",
   "metadata": {},
   "outputs": [
    {
     "name": "stdin",
     "output_type": "stream",
     "text": [
      "Enter the string: My name is RubAyAh\n"
     ]
    },
    {
     "name": "stdout",
     "output_type": "stream",
     "text": [
      "COunt of consonants 12\n"
     ]
    }
   ],
   "source": [
    "# Get input from the user\n",
    "string = input(\"Enter the string:\")\n",
    "\n",
    "# Convert the string to lowercase\n",
    "string = string.lower()\n",
    "\n",
    "# Define the vowels\n",
    "vowels = \"aeiou\"\n",
    "\n",
    "# Initialize a counter for consonants\n",
    "count = 0\n",
    "\n",
    "# Count the consonants in the string\n",
    "for char in string:\n",
    "    if char not in vowels:\n",
    "        count += 1\n",
    "\n",
    "# Print the count of consonants\n",
    "print(\"Count of consonants:\", count)\n"
   ]
  },
  {
   "cell_type": "markdown",
   "id": "c27836cf-f3b3-4ca0-9db2-ce884aeecbf6",
   "metadata": {},
   "source": [
    "7. Remove all whitespaces from a string."
   ]
  },
  {
   "cell_type": "code",
   "execution_count": 22,
   "id": "1559b302-b6b3-4ca3-a0cb-29ec677c6db9",
   "metadata": {},
   "outputs": [
    {
     "name": "stdin",
     "output_type": "stream",
     "text": [
      "Enter the string: My name is Rubayah\n"
     ]
    },
    {
     "name": "stdout",
     "output_type": "stream",
     "text": [
      "Replaced String  MynameisRubayah\n"
     ]
    }
   ],
   "source": [
    "# Get input from the user\n",
    "string = input(\"Enter the string:\")\n",
    "\n",
    "# Replace spaces in the string\n",
    "replaced_string = string.replace(\" \", \"\")\n",
    "\n",
    "# Print the replaced string\n",
    "print(\"Replaced String:\", replaced_string)\n"
   ]
  },
  {
   "cell_type": "markdown",
   "id": "5720a457-9b16-4618-bb47-1ce3f463085d",
   "metadata": {},
   "source": [
    "8. Find the length of a string without using the `len()` function."
   ]
  },
  {
   "cell_type": "code",
   "execution_count": 26,
   "id": "abc6c01c-6351-42a5-8ecc-afe02a019cff",
   "metadata": {},
   "outputs": [
    {
     "name": "stdin",
     "output_type": "stream",
     "text": [
      "Enter the string:  data is the new oil\n"
     ]
    },
    {
     "name": "stdout",
     "output_type": "stream",
     "text": [
      "Length of the string 20\n"
     ]
    }
   ],
   "source": [
    "# Get input from the user\n",
    "string = input(\"Enter the string:\")\n",
    "\n",
    "# Initialize a counter for the length of the string\n",
    "count = 0\n",
    "\n",
    "# Count each character in the string\n",
    "for char in string:\n",
    "    count += 1\n",
    "\n",
    "# Print the length of the string\n",
    "print(\"Length of the string:\", count)\n"
   ]
  },
  {
   "cell_type": "markdown",
   "id": "5f6a96eb-fd15-4fc4-bf8f-17436eb320ee",
   "metadata": {},
   "source": [
    "9. Check if a string contains a specific word.\n"
   ]
  },
  {
   "cell_type": "code",
   "execution_count": 27,
   "id": "a260613d-feb8-48b9-b4a1-324a4b3a561f",
   "metadata": {},
   "outputs": [
    {
     "name": "stdin",
     "output_type": "stream",
     "text": [
      "Enter the string: the bridge is collapsing\n"
     ]
    },
    {
     "name": "stdout",
     "output_type": "stream",
     "text": [
      "word the  found\n"
     ]
    }
   ],
   "source": [
    "# Get input from the user\n",
    "string = input(\"Enter the string:\")\n",
    "\n",
    "# Specify the word to search for\n",
    "word = \"the\"\n",
    "\n",
    "# Check if the word is found in the string\n",
    "if word in string:\n",
    "    print(f\"Word '{word}' found\")\n",
    "else:\n",
    "    print(f\"Word '{word}' not found\")\n"
   ]
  },
  {
   "cell_type": "markdown",
   "id": "81a47bca-2724-4e03-a1e3-4ba0860a1b77",
   "metadata": {},
   "source": [
    "11. Count the occurrences of a word in a string."
   ]
  },
  {
   "cell_type": "code",
   "execution_count": 21,
   "id": "d13bbdc9-ccaf-4eb6-a4e7-78fafef4e39e",
   "metadata": {},
   "outputs": [
    {
     "name": "stdin",
     "output_type": "stream",
     "text": [
      "Enter the string: the cat is feeding the kittens \n"
     ]
    },
    {
     "name": "stdout",
     "output_type": "stream",
     "text": [
      "Count of words 2\n"
     ]
    }
   ],
   "source": [
    "# Get input from the user\n",
    "string = input(\"Enter the string:\")\n",
    "\n",
    "# Specify the word to count\n",
    "word = \"the\"\n",
    "\n",
    "# Count occurrences of the word in the string\n",
    "count = string.count(word)\n",
    "\n",
    "# Print the count of occurrences\n",
    "print(\"Count of words\", count)\n"
   ]
  },
  {
   "cell_type": "markdown",
   "id": "29dc6e6a-34f2-4012-a5b6-baa2b2c64d27",
   "metadata": {},
   "source": [
    "12. Find the first and last occurrence of a word in a string."
   ]
  },
  {
   "cell_type": "code",
   "execution_count": 29,
   "id": "7fe0d228-f28c-4bf9-9a5e-042a70eb4c50",
   "metadata": {},
   "outputs": [
    {
     "name": "stdin",
     "output_type": "stream",
     "text": [
      "Enter the string: the book is good \n"
     ]
    },
    {
     "name": "stdout",
     "output_type": "stream",
     "text": [
      "word the is found in the first place\n"
     ]
    }
   ],
   "source": [
    "# Get input from the user\n",
    "string = input(\"Enter the string:\")\n",
    "\n",
    "# Specify the first word to check\n",
    "f_word = \"the\"\n",
    "\n",
    "# Check if the first three characters of the string match the specified word\n",
    "if string[:3] == f_word:\n",
    "    print(f\"Word '{f_word}' is found in the first place\")\n",
    "else:\n",
    "    print(\"Word not found\")\n"
   ]
  },
  {
   "cell_type": "markdown",
   "id": "89f043b5-1935-47b9-86ad-1a91197b2d7b",
   "metadata": {},
   "source": [
    "13. Find the last occurrence of a word in a string."
   ]
  },
  {
   "cell_type": "code",
   "execution_count": 3,
   "id": "538f0432-6433-4f69-8f73-c3bb20475202",
   "metadata": {},
   "outputs": [
    {
     "name": "stdin",
     "output_type": "stream",
     "text": [
      "Enter the string: why is it\n"
     ]
    },
    {
     "name": "stdout",
     "output_type": "stream",
     "text": [
      "Word 'it' is found in the last place\n"
     ]
    }
   ],
   "source": [
    "# Get input from the user\n",
    "string = input(\"Enter the string:\")\n",
    "\n",
    "# Specify the last word to check\n",
    "l_word = \"it\"\n",
    "\n",
    "\n",
    "words = string.split()\n",
    "\n",
    "# Check if the last word in the string matches the specified word\n",
    "if words[-1] == l_word:\n",
    "    print(f\"Word '{l_word}' is found in the last place\")\n",
    "else:\n",
    "    print(\"Word not found\")\n"
   ]
  },
  {
   "cell_type": "markdown",
   "id": "90287ec8-7825-4187-9bcb-30ba9f06b754",
   "metadata": {},
   "source": [
    "15. Join a list of words into a string."
   ]
  },
  {
   "cell_type": "code",
   "execution_count": 17,
   "id": "ccce1d68-2bc2-4157-8067-48cdc7c85873",
   "metadata": {},
   "outputs": [
    {
     "name": "stdout",
     "output_type": "stream",
     "text": [
      "joined words: apple is a fruit\n"
     ]
    }
   ],
   "source": [
    "# List of words\n",
    "words = [\"apple\", \"is\", \"a\", \"fruit\"]\n",
    "\n",
    "# Join the words into a string with spaces between them\n",
    "joined_words = \" \".join(words)\n",
    "\n",
    "# Print the joined string\n",
    "print(\"Joined words:\", joined_words)\n"
   ]
  },
  {
   "cell_type": "markdown",
   "id": "8c6c0bbc-61c5-41df-8d51-e9cd2b7e97cb",
   "metadata": {},
   "source": [
    "16. Convert a string where words are separated by spaces to one where words\n",
    "are separated by underscores."
   ]
  },
  {
   "cell_type": "code",
   "execution_count": 8,
   "id": "d1fac7cb-c4b6-4337-bdbb-b247de07daed",
   "metadata": {},
   "outputs": [
    {
     "name": "stdin",
     "output_type": "stream",
     "text": [
      "Enter the string: wed is \n"
     ]
    },
    {
     "name": "stdout",
     "output_type": "stream",
     "text": [
      "wed_is_\n"
     ]
    }
   ],
   "source": [
    "# Get input from the user\n",
    "string = input(\"Enter the string:\")\n",
    "\n",
    "# Replace spaces with underscores in the string\n",
    "rep_string = string.replace(\" \", \"_\")\n",
    "\n",
    "# Print the modified string\n",
    "print(rep_string)\n"
   ]
  },
  {
   "cell_type": "markdown",
   "id": "d2ede2f3-e8f6-4252-b85a-a2de67eb3872",
   "metadata": {},
   "source": [
    "17. Check if a string starts with a specific word or phrase."
   ]
  },
  {
   "cell_type": "code",
   "execution_count": 12,
   "id": "fa2f022f-6b6b-4c2e-96e4-e56c1852d4ab",
   "metadata": {},
   "outputs": [
    {
     "name": "stdin",
     "output_type": "stream",
     "text": [
      "Enter the string: how are you \n"
     ]
    },
    {
     "name": "stdout",
     "output_type": "stream",
     "text": [
      "yes\n"
     ]
    }
   ],
   "source": [
    "# Get input from the user\n",
    "string = input(\"Enter the string:\")\n",
    "\n",
    "# Specify the word to check at the beginning of the string\n",
    "word = \"how are\"\n",
    "\n",
    "# Check if the string starts with the specified word\n",
    "if string.startswith(word):\n",
    "    print(\"Yes\")\n",
    "else:\n",
    "    print(\"No\")"
   ]
  },
  {
   "cell_type": "markdown",
   "id": "646dee7e-c16f-4089-bc91-f6e7e31f3b03",
   "metadata": {},
   "source": [
    "18. Check if a string ends with a specific word or phrase."
   ]
  },
  {
   "cell_type": "code",
   "execution_count": 20,
   "id": "bfac7e3f-f565-40fa-b932-5a4153ca2c64",
   "metadata": {},
   "outputs": [
    {
     "name": "stdin",
     "output_type": "stream",
     "text": [
      "Enter the string: i am fine\n"
     ]
    },
    {
     "name": "stdout",
     "output_type": "stream",
     "text": [
      "yes\n"
     ]
    }
   ],
   "source": [
    "# Get input from the user\n",
    "string = input(\"Enter the string:\")\n",
    "\n",
    "# Specify the word to check at the end of the string\n",
    "word = \"am fine\"\n",
    "\n",
    "# Check if the string ends with the specified word\n",
    "if string.endswith(word):\n",
    "    print(\"Yes\")\n",
    "else:\n",
    "    print(\"No\")\n"
   ]
  },
  {
   "cell_type": "markdown",
   "id": "b10953a5-d8db-44e0-bf03-acff0f74f83e",
   "metadata": {},
   "source": [
    "19. Convert a string to title case (e.g., \"hello world\" to \"Hello World\")."
   ]
  },
  {
   "cell_type": "code",
   "execution_count": 23,
   "id": "57e87ed4-fc06-477d-a3c4-88877a4b8fd9",
   "metadata": {},
   "outputs": [
    {
     "name": "stdin",
     "output_type": "stream",
     "text": [
      "Enter the string: hello world\n"
     ]
    },
    {
     "name": "stdout",
     "output_type": "stream",
     "text": [
      "Hello World\n"
     ]
    }
   ],
   "source": [
    "# Get input from the user\n",
    "string = input(\"Enter the string:\")\n",
    "\n",
    "# Convert the string to title case\n",
    "title_case_string = string.title()\n",
    "\n",
    "# Print the title case string\n",
    "print(title_case_string)\n"
   ]
  },
  {
   "cell_type": "markdown",
   "id": "7e94fc79-9cab-4ce7-9380-337d44633916",
   "metadata": {},
   "source": [
    "20. Find the longest word in a string."
   ]
  },
  {
   "cell_type": "code",
   "execution_count": 24,
   "id": "29aa68df-ef74-4fcc-a1d8-cbb08ba4baaf",
   "metadata": {},
   "outputs": [
    {
     "name": "stdin",
     "output_type": "stream",
     "text": [
      "Enter the string: i am good \n"
     ]
    },
    {
     "name": "stdout",
     "output_type": "stream",
     "text": [
      "longest word is  good\n"
     ]
    }
   ],
   "source": [
    "# Get input from the user\n",
    "string = input(\"Enter the string:\")\n",
    "\n",
    "# Split the string into a list of words\n",
    "word_list = string.split()\n",
    "\n",
    "# Initialize the longest word\n",
    "long_word = \"\"\n",
    "\n",
    "# Iterate through the words to find the longest one\n",
    "for word in word_list:\n",
    "    if len(word) > len(long_word):\n",
    "        long_word = word\n",
    "\n",
    "# Print the longest word\n",
    "print(\"Longest word is\", long_word)\n"
   ]
  },
  {
   "cell_type": "markdown",
   "id": "0e2f2ffc-f7ef-408f-bd42-3b635c495dff",
   "metadata": {},
   "source": [
    "21. Find the shortest word in a string."
   ]
  },
  {
   "cell_type": "code",
   "execution_count": 13,
   "id": "f2429466-5ec8-4427-b735-6f2be159b46a",
   "metadata": {},
   "outputs": [
    {
     "name": "stdin",
     "output_type": "stream",
     "text": [
      "enter string i am good \n"
     ]
    },
    {
     "name": "stdout",
     "output_type": "stream",
     "text": [
      "shortest word is  i\n"
     ]
    }
   ],
   "source": [
    "# Get input from the user\n",
    "string = input(\"Enter the string:\")\n",
    "\n",
    "# Split the string into a list of words\n",
    "word_list = string.split()\n",
    "\n",
    "# Initialize the shortest word with the first word\n",
    "short_word = word_list[0]\n",
    "\n",
    "# Iterate through the words to find the shortest one\n",
    "for word in word_list:\n",
    "    if len(word) < len(short_word):\n",
    "        short_word = word\n",
    "\n",
    "# Print the shortest word\n",
    "print(\"Shortest word is\", short_word)\n"
   ]
  },
  {
   "cell_type": "markdown",
   "id": "996c7707-9594-4452-82f5-2f9775e1e308",
   "metadata": {},
   "source": [
    "22. Reverse the order of words in a string."
   ]
  },
  {
   "cell_type": "code",
   "execution_count": 36,
   "id": "d511a114-6ef7-4596-941d-a890bd9ce422",
   "metadata": {},
   "outputs": [
    {
     "name": "stdin",
     "output_type": "stream",
     "text": [
      "enter string data is the new oil \n"
     ]
    },
    {
     "name": "stdout",
     "output_type": "stream",
     "text": [
      "['oil', 'new', 'the', 'is', 'data']\n"
     ]
    }
   ],
   "source": [
    "# Get input from the user\n",
    "string = input(\"Enter the string:\")\n",
    "\n",
    "# Split the string into a list of words\n",
    "words = string.split()\n",
    "\n",
    "# Reverse the order of the words\n",
    "rev = words[-1::-1]\n",
    "\n",
    "# Print the reversed list of words\n",
    "print(rev)\n"
   ]
  },
  {
   "cell_type": "code",
   "execution_count": 15,
   "id": "11a54ec5-73bd-437a-93d7-b53ab0ae39ec",
   "metadata": {},
   "outputs": [
    {
     "name": "stdin",
     "output_type": "stream",
     "text": [
      "enter string: data is the new oil!\n"
     ]
    },
    {
     "name": "stdout",
     "output_type": "stream",
     "text": [
      "oil!newtheisdata\n"
     ]
    }
   ],
   "source": [
    "# Get input from the user\n",
    "string = input(\"Enter the string:\")\n",
    "\n",
    "# Split the string into a list of words\n",
    "words = string.split()\n",
    "\n",
    "# Join the reversed list of words into a string\n",
    "rev = \" \".join(reversed(words))\n",
    "\n",
    "# Print the reversed string\n",
    "print(rev)\n"
   ]
  },
  {
   "cell_type": "markdown",
   "id": "aa49e971-b699-4291-8677-330d5429334a",
   "metadata": {},
   "source": [
    "23. Check if a string is alphanumeric."
   ]
  },
  {
   "cell_type": "code",
   "execution_count": 41,
   "id": "5ef66b61-bd3b-4109-b691-c66658b80724",
   "metadata": {},
   "outputs": [
    {
     "name": "stdin",
     "output_type": "stream",
     "text": [
      "enter string iam7\n"
     ]
    },
    {
     "name": "stdout",
     "output_type": "stream",
     "text": [
      "True\n"
     ]
    }
   ],
   "source": [
    "# Get input from the user\n",
    "string = input(\"Enter the string:\")\n",
    "\n",
    "# Check if the string is alphanumeric\n",
    "if string.isalnum():\n",
    "    print(\"True\")\n",
    "else:\n",
    "    print(\"False\")\n"
   ]
  },
  {
   "cell_type": "markdown",
   "id": "4a2b314a-7377-4da3-bcbc-fc3731cbf5a4",
   "metadata": {},
   "source": [
    "25. Extract all alphabets from a string."
   ]
  },
  {
   "cell_type": "code",
   "execution_count": 56,
   "id": "e4f30013-6699-4b07-88b7-a39c0132739f",
   "metadata": {},
   "outputs": [
    {
     "name": "stdin",
     "output_type": "stream",
     "text": [
      "enter string I am 38 years old \n"
     ]
    },
    {
     "name": "stdout",
     "output_type": "stream",
     "text": [
      "Alphabet ['I', 'a', 'm', 'y', 'e', 'a', 'r', 's', 'o', 'l', 'd']\n"
     ]
    }
   ],
   "source": [
    "# Get input from the user\n",
    "string = input(\"Enter the string:\")\n",
    "\n",
    "# Initialize a list to store alphabetic characters\n",
    "alphabet = []\n",
    "\n",
    "# Iterate through the characters in the string and append alphabetic ones to the list\n",
    "for char in string:\n",
    "    if char.isalpha():\n",
    "        alphabet.append(char)\n",
    "\n",
    "# Check if there are alphabetic characters and print the result\n",
    "if alphabet:\n",
    "    print(\"Alphabet:\", alphabet)\n",
    "else:\n",
    "    print(\"No alphabet\")\n"
   ]
  },
  {
   "cell_type": "markdown",
   "id": "1dc17416-9bc9-4628-8c72-ce36944f8c35",
   "metadata": {},
   "source": [
    "24. Extract all digits from a string."
   ]
  },
  {
   "cell_type": "code",
   "execution_count": 58,
   "id": "4c6ca0e4-7c7b-4b25-991e-26c6384dacd5",
   "metadata": {},
   "outputs": [
    {
     "name": "stdin",
     "output_type": "stream",
     "text": [
      "enter string i am 38\n"
     ]
    },
    {
     "name": "stdout",
     "output_type": "stream",
     "text": [
      "Digits : ['3', '8']\n"
     ]
    }
   ],
   "source": [
    "# Get input from the user\n",
    "string = input(\"Enter the string:\")\n",
    "\n",
    "# Initialize a list to store digit characters\n",
    "digits = []\n",
    "\n",
    "# Iterate through the characters in the string and append digit ones to the list\n",
    "for char in string:\n",
    "    if char.isdigit():\n",
    "        digits.append(char)\n",
    "\n",
    "# Print the list of digits\n",
    "print(\"Digits:\", digits)\n"
   ]
  },
  {
   "cell_type": "markdown",
   "id": "32787c00-20c8-4a50-8118-d4378e6a99a9",
   "metadata": {},
   "source": [
    "26. Count the number of uppercase letters in a string."
   ]
  },
  {
   "cell_type": "code",
   "execution_count": 62,
   "id": "4d66ed73-c40b-4508-97fa-4e6d151716b0",
   "metadata": {},
   "outputs": [
    {
     "name": "stdin",
     "output_type": "stream",
     "text": [
      "enter string I am RubayaH\n"
     ]
    },
    {
     "name": "stdout",
     "output_type": "stream",
     "text": [
      "Count 3\n"
     ]
    }
   ],
   "source": [
    "# Get input from the user\n",
    "string = input(\"Enter the string:\")\n",
    "\n",
    "# Initialize a counter for uppercase characters\n",
    "count = 0\n",
    "\n",
    "# Iterate through the characters in the string and count uppercase ones\n",
    "for char in string:\n",
    "    if char.isupper():\n",
    "        count += 1\n",
    "\n",
    "# Print the count of uppercase characters\n",
    "print(\"Count of Uppercase Characters:\", count)\n"
   ]
  },
  {
   "cell_type": "markdown",
   "id": "61b63605-61a7-456e-85d1-f3f1aee1279b",
   "metadata": {},
   "source": [
    "27. Count the number of lowercase letters in a string."
   ]
  },
  {
   "cell_type": "code",
   "execution_count": 63,
   "id": "bc952da5-c4b0-4e67-9aee-92ce0ffac08f",
   "metadata": {},
   "outputs": [
    {
     "name": "stdin",
     "output_type": "stream",
     "text": [
      "enter string I am RubayaH\n"
     ]
    },
    {
     "name": "stdout",
     "output_type": "stream",
     "text": [
      "Count 7\n"
     ]
    }
   ],
   "source": [
    "# Get input from the user\n",
    "string = input(\"Enter the string:\")\n",
    "\n",
    "# Initialize a counter for lowercase characters\n",
    "count = 0\n",
    "\n",
    "# Iterate through the characters in the string and count lowercase ones\n",
    "for char in string:\n",
    "    if char.islower():\n",
    "        count += 1\n",
    "\n",
    "# Print the count of lowercase characters\n",
    "print(\"Count of Lowercase Characters:\", count)\n"
   ]
  },
  {
   "cell_type": "markdown",
   "id": "86bfa85e-11c4-4580-9f14-83923f035b7e",
   "metadata": {},
   "source": [
    "28. Swap the case of each character in a string."
   ]
  },
  {
   "cell_type": "code",
   "execution_count": 79,
   "id": "774880d3-29a1-47fd-90fa-35543880a6e7",
   "metadata": {},
   "outputs": [
    {
     "name": "stdin",
     "output_type": "stream",
     "text": [
      "enter string I Am 37 YearS OlD\n"
     ]
    },
    {
     "name": "stdout",
     "output_type": "stream",
     "text": [
      "Swapped String  i aM 37 yEARs oLd\n"
     ]
    }
   ],
   "source": [
    "# Get input from the user\n",
    "string = input(\"Enter the string:\")\n",
    "\n",
    "# Initialize an empty string for the swapped characters\n",
    "swapped_string = \"\"\n",
    "\n",
    "# Iterate through the characters in the string and swap case\n",
    "for char in string:\n",
    "    if char.isupper():\n",
    "        swapped_string += char.lower()\n",
    "    elif char.islower():\n",
    "        swapped_string += char.upper()\n",
    "    else:\n",
    "        swapped_string += char\n",
    "\n",
    "# Print the swapped string\n",
    "print(\"Swapped String:\", swapped_string)\n"
   ]
  },
  {
   "cell_type": "code",
   "execution_count": 84,
   "id": "ea885bed-4bc3-4adb-b1bd-50bb186f0f13",
   "metadata": {},
   "outputs": [
    {
     "name": "stdin",
     "output_type": "stream",
     "text": [
      "enter String Red is ColoR\n"
     ]
    },
    {
     "name": "stdout",
     "output_type": "stream",
     "text": [
      "rED IS cOLOr\n"
     ]
    }
   ],
   "source": [
    "# Get input from the user\n",
    "string = input(\"Enter the string:\")\n",
    "\n",
    "# Use the swapcase() method to swap the case of each character\n",
    "swap = string.swapcase()\n",
    "\n",
    "# Print the swapped string\n",
    "print(swap)\n"
   ]
  },
  {
   "cell_type": "markdown",
   "id": "6784a106-d46a-4ce8-97e3-ec5a7fd65ef5",
   "metadata": {},
   "source": [
    "29. Remove a specific word from a string."
   ]
  },
  {
   "cell_type": "code",
   "execution_count": 10,
   "id": "9fdde61c-7d2f-4368-a2f7-c8672a2105d8",
   "metadata": {},
   "outputs": [
    {
     "name": "stdin",
     "output_type": "stream",
     "text": [
      "Enter String the book is good\n"
     ]
    },
    {
     "name": "stdout",
     "output_type": "stream",
     "text": [
      "new Words ['book', 'is', 'good']\n"
     ]
    }
   ],
   "source": [
    "# Get input from the user\n",
    "string = input(\"Enter the string:\")\n",
    "\n",
    "# Specify the word to check\n",
    "word_check = \"the\"\n",
    "\n",
    "# Split the string into a list of words\n",
    "words = string.split()\n",
    "\n",
    "# Create a new list excluding the specified word\n",
    "new_words = [word for word in words if word != word_check]\n",
    "\n",
    "# Check if the new list is not empty and print the result\n",
    "if new_words:\n",
    "    print(\"New Words:\", new_words)\n",
    "else:\n",
    "    print(\"Word not found\")\n"
   ]
  },
  {
   "cell_type": "markdown",
   "id": "37885f70-e912-4280-b1b2-e39f29ac045a",
   "metadata": {},
   "source": [
    "30. Check if a string is a valid email address."
   ]
  },
  {
   "cell_type": "code",
   "execution_count": 6,
   "id": "ea5859d2-b6c8-450f-904c-1efad690fc60",
   "metadata": {},
   "outputs": [
    {
     "name": "stdin",
     "output_type": "stream",
     "text": [
      "Enter string sooby7@gmail.com\n"
     ]
    },
    {
     "name": "stdout",
     "output_type": "stream",
     "text": [
      "Valid email address\n"
     ]
    }
   ],
   "source": [
    "import re\n",
    "\n",
    "# Get input from the user\n",
    "string = input(\"Enter string:\")\n",
    "\n",
    "# Define the pattern for a valid email address\n",
    "pattern = r'^[a-zA-Z0-9+-_%]+@[a-zA-Z0-9.]+\\.[a-zA-Z]{2,}$'\n",
    "\n",
    "# Check if the input string matches the pattern\n",
    "if re.match(pattern, string):\n",
    "    print(\"Valid email address\")\n",
    "else:\n",
    "    print(\"Not a valid email address\")\n"
   ]
  },
  {
   "cell_type": "markdown",
   "id": "f91e9c88-9b86-4ce7-9a99-f76f68c219b1",
   "metadata": {},
   "source": [
    "31. Extract the username from an email address string."
   ]
  },
  {
   "cell_type": "code",
   "execution_count": 15,
   "id": "dde15d4b-8ea5-4633-bdaa-3bf5dc3517cf",
   "metadata": {},
   "outputs": [
    {
     "name": "stdin",
     "output_type": "stream",
     "text": [
      "Enter string rub@\n"
     ]
    }
   ],
   "source": [
    "import re\n",
    "\n",
    "# Get input from the user\n",
    "string = input(\"Enter string:\")\n",
    "\n",
    "# Define the pattern for a valid email address\n",
    "pattern = r'^([a-zA-Z0-9+-_%]+)@([a-zA-Z0-9.]+)(\\.[a-zA-Z]+)$'\n",
    "\n",
    "# Check if the input string matches the pattern\n",
    "match = re.match(pattern, string)\n",
    "\n",
    "# If there is a match, extract the username\n",
    "if match:\n",
    "    un = match.group(1)\n",
    "    print(\"Username:\", un)\n",
    "else:\n",
    "    print(\"Not a valid email address\")\n"
   ]
  },
  {
   "cell_type": "code",
   "execution_count": 12,
   "id": "8ac7ec92-a7be-4e4a-ae7d-b2264238ccfa",
   "metadata": {},
   "outputs": [
    {
     "name": "stdin",
     "output_type": "stream",
     "text": [
      "Enter string rubayah@gmail.com\n"
     ]
    },
    {
     "name": "stdout",
     "output_type": "stream",
     "text": [
      "Username: rubayah\n"
     ]
    }
   ],
   "source": [
    "import re\n",
    "\n",
    "# Get input from the user\n",
    "string = input(\"Enter string:\")\n",
    "\n",
    "# Define the pattern for a valid email address\n",
    "pattern = r'^([a-zA-Z0-9+-_%]+)@([a-zA-Z0-9.]+)(\\.[a-zA-Z]+)$'\n",
    "\n",
    "# Check if the input string matches the pattern\n",
    "match = re.match(pattern, string)\n",
    "\n",
    "# If there is a match, extract the username\n",
    "if match:\n",
    "    # Group(1) corresponds to the first part of the pattern, which is the username\n",
    "    username = match.group(1)\n",
    "    print(\"Username:\", username)\n",
    "else:\n",
    "    print(\"No username found\")\n"
   ]
  },
  {
   "cell_type": "markdown",
   "id": "fc0004de-358d-491b-908d-6b9464c2e4b1",
   "metadata": {},
   "source": [
    "32. Extract the domain name from an email address string."
   ]
  },
  {
   "cell_type": "code",
   "execution_count": 1,
   "id": "9a0e22fa-10e0-408f-8133-ccfb5601d0e2",
   "metadata": {},
   "outputs": [
    {
     "name": "stdin",
     "output_type": "stream",
     "text": [
      "Enter string soobby@yahoo.com\n"
     ]
    },
    {
     "name": "stdout",
     "output_type": "stream",
     "text": [
      "Username: yahoo\n"
     ]
    }
   ],
   "source": [
    "import re\n",
    "\n",
    "# Get input from the user\n",
    "string = input(\"Enter string:\")\n",
    "\n",
    "# Define the pattern for a valid email address\n",
    "pattern = r'^([a-zA-Z0-9+-_%]+)@([a-zA-Z0-9.]+)(\\.[a-zA-Z]+)$'\n",
    "\n",
    "# Check if the input string matches the pattern\n",
    "match = re.match(pattern, string)\n",
    "\n",
    "# If there is a match, extract the domain name (group index 2 in the pattern)\n",
    "if match:\n",
    "    username = match.group(2)\n",
    "    print(\"Username:\", username)\n",
    "else:\n",
    "    print(\"No username found\")\n"
   ]
  },
  {
   "cell_type": "markdown",
   "id": "d3a1d25e-c69b-4faf-b020-e812eff19588",
   "metadata": {},
   "source": [
    "33. Replace multiple spaces in a string with a single space."
   ]
  },
  {
   "cell_type": "code",
   "execution_count": 14,
   "id": "163c7473-edb8-47be-aa51-da12c516f7fc",
   "metadata": {},
   "outputs": [
    {
     "name": "stdin",
     "output_type": "stream",
     "text": [
      "Enter string:  my   name is   red\n"
     ]
    },
    {
     "name": "stdout",
     "output_type": "stream",
     "text": [
      "Replaced String: my name is red\n"
     ]
    }
   ],
   "source": [
    "import re\n",
    "\n",
    "# Get input from the user\n",
    "string = input(\"Enter string: \")\n",
    "\n",
    "# Replace one or more consecutive spaces with a single space\n",
    "rep_string = re.sub(\" +\", \" \", string)# (\" +\" : this shows one space and many  consecutive space after that wil be replaced\n",
    "\n",
    "# Print the replaced string\n",
    "print(\"Replaced String:\", rep_string)\n"
   ]
  },
  {
   "cell_type": "code",
   "execution_count": 16,
   "id": "5c64bb8e-1063-4c54-8bcc-8581368c97d7",
   "metadata": {},
   "outputs": [
    {
     "name": "stdin",
     "output_type": "stream",
     "text": [
      "Enter string:    my name    is red\n"
     ]
    },
    {
     "name": "stdout",
     "output_type": "stream",
     "text": [
      "Replaced String: my name is red\n"
     ]
    }
   ],
   "source": [
    "# Get input from the user\n",
    "string = input(\"Enter string: \")\n",
    "\n",
    "# Split the string into words\n",
    "words = string.split()\n",
    "\n",
    "# Join the words back together with a single space between them\n",
    "rep_str = \" \".join(words)\n",
    "\n",
    "# Print the replaced string\n",
    "print(\"Replaced String:\", rep_str)\n"
   ]
  },
  {
   "cell_type": "markdown",
   "id": "16eaa3ab-dc45-4eef-8af6-0930e7e0f797",
   "metadata": {},
   "source": [
    "34. Check if a string is a valid URL."
   ]
  },
  {
   "cell_type": "code",
   "execution_count": 11,
   "id": "28961761-b92a-4551-bc3a-3619e680bd01",
   "metadata": {},
   "outputs": [
    {
     "name": "stdin",
     "output_type": "stream",
     "text": [
      "Enter the string:  https://www.mdx.com\n"
     ]
    },
    {
     "name": "stdout",
     "output_type": "stream",
     "text": [
      "Valid URL\n"
     ]
    }
   ],
   "source": [
    "import re\n",
    "\n",
    "# Get input from the user\n",
    "string = input(\"Enter the string: \")\n",
    "\n",
    "# Define the pattern for a valid URL\n",
    "pattern = r'(https?|ftp)\\:\\/\\/[a-z]+\\.[a-zA-Z0-9]+\\.[a-zA-Z]'\n",
    "\n",
    "# Check if the input string matches the pattern\n",
    "if re.match(pattern, string):\n",
    "    print(\"Valid URL\")\n",
    "else:\n",
    "    print(\"Invalid URL\")\n"
   ]
  },
  {
   "cell_type": "markdown",
   "id": "6173d3a2-cdf5-4453-8ce7-aa35b387fb23",
   "metadata": {},
   "source": [
    "36. Find the frequency of each character in a string."
   ]
  },
  {
   "cell_type": "code",
   "execution_count": 6,
   "id": "90ccca31-b078-4712-bf5a-1ab1f090f19f",
   "metadata": {},
   "outputs": [
    {
     "name": "stdin",
     "output_type": "stream",
     "text": [
      "enter string:  I am in India\n"
     ]
    },
    {
     "name": "stdout",
     "output_type": "stream",
     "text": [
      "{' ': 4, 'i': 4, 'a': 2, 'm': 1, 'n': 2, 'd': 1}\n",
      "' ': 4\n",
      "'i': 4\n",
      "'a': 2\n",
      "'m': 1\n",
      "'n': 2\n",
      "'d': 1\n"
     ]
    }
   ],
   "source": [
    "# Get input from the user\n",
    "string = input(\"Enter string:\")\n",
    "\n",
    "# Convert the string to lowercase for case-insensitive counting\n",
    "string = string.lower()\n",
    "\n",
    "# Initialize a dictionary to store character frequencies\n",
    "char_freq = {}\n",
    "\n",
    "# Count the frequency of each character\n",
    "for char in string:\n",
    "    if char in char_freq:\n",
    "        char_freq[char] += 1\n",
    "    else:\n",
    "        char_freq[char] = 1\n",
    "\n",
    "# Print the overall character frequencies\n",
    "print(\"Character Frequency:\", char_freq)\n",
    "\n",
    "# Print individual character frequencies\n",
    "for char, freq in char_freq.items():\n",
    "    print(f\"'{char}': {freq}\")\n"
   ]
  },
  {
   "cell_type": "code",
   "execution_count": 9,
   "id": "957c2107-3b00-40ad-a305-aa030aec7176",
   "metadata": {},
   "outputs": [
    {
     "data": {
      "text/plain": [
       "4"
      ]
     },
     "execution_count": 9,
     "metadata": {},
     "output_type": "execute_result"
    }
   ],
   "source": [
    "char_freq['i']"
   ]
  },
  {
   "cell_type": "markdown",
   "id": "4838d112-a0ab-4dfd-a053-cfcbe6e01aaf",
   "metadata": {},
   "source": [
    "37. Remove all punctuation from a string."
   ]
  },
  {
   "cell_type": "markdown",
   "id": "f4528d2e-c409-4170-a29d-22e9d2a65cd2",
   "metadata": {},
   "source": [
    "import string\n",
    "in_string=input(\"enter string:\")\n",
    "string_wo_punc=''.join(char for char in in_string if char not in string.punctuation)\n",
    "print(string_wo_punc)"
   ]
  },
  {
   "cell_type": "code",
   "execution_count": 39,
   "id": "6fa94762-f2c9-4e1b-96b6-7de160ae461e",
   "metadata": {},
   "outputs": [
    {
     "name": "stdin",
     "output_type": "stream",
     "text": [
      "enter string: I'm Rubayah,from Dxb!\n"
     ]
    },
    {
     "name": "stdout",
     "output_type": "stream",
     "text": [
      "Im Rubayahfrom Dxb\n"
     ]
    }
   ],
   "source": [
    "import string\n",
    "\n",
    "# Get input from the user\n",
    "in_string = input(\"Enter string:\")\n",
    "\n",
    "# Create a translation table to remove punctuation\n",
    "translator = str.maketrans(\"\", \"\", string.punctuation)\n",
    "\n",
    "# Use translate method to remove punctuation from the input string\n",
    "new_string = in_string.translate(translator)\n",
    "\n",
    "# Print the string without punctuation\n",
    "print(new_string)\n"
   ]
  },
  {
   "cell_type": "markdown",
   "id": "2ec6c6e8-cc10-4bdd-88ab-1456d6c91f2f",
   "metadata": {},
   "source": [
    "38. Check if a string contains only digits."
   ]
  },
  {
   "cell_type": "code",
   "execution_count": 52,
   "id": "e0547073-88db-44d6-95b9-4762bc37cfa7",
   "metadata": {},
   "outputs": [
    {
     "name": "stdin",
     "output_type": "stream",
     "text": [
      "Enter String: I am 35 years old in 2024\n"
     ]
    },
    {
     "name": "stdout",
     "output_type": "stream",
     "text": [
      "The string does not contain only digits\n"
     ]
    }
   ],
   "source": [
    "# Get input from the user\n",
    "string = input(\"Enter String:\")\n",
    "\n",
    "# Check if the string contains only digits\n",
    "if string.isdigit():\n",
    "    print(\"The string contains only digits\")\n",
    "else:\n",
    "    print(\"The string does not contain only digits\")\n"
   ]
  },
  {
   "cell_type": "markdown",
   "id": "8fb9666e-d37f-4ae9-9449-7e4f76a03c13",
   "metadata": {},
   "source": [
    "39. Check if a string contains only alphabets."
   ]
  },
  {
   "cell_type": "code",
   "execution_count": 51,
   "id": "01083318-2959-44fa-adb2-7c48f2f525ff",
   "metadata": {},
   "outputs": [
    {
     "name": "stdin",
     "output_type": "stream",
     "text": [
      "Enter a string:  I am 35 years old in 2024\n"
     ]
    },
    {
     "name": "stdout",
     "output_type": "stream",
     "text": [
      "The string does not contain only alphabets.\n"
     ]
    }
   ],
   "source": [
    "# Get input from the user\n",
    "input_string = input(\"Enter a string: \")\n",
    "\n",
    "# Check if the string contains only alphabets\n",
    "if input_string.isalpha():\n",
    "    print(\"The string contains only alphabets.\")\n",
    "else:\n",
    "    print(\"The string does not contain only alphabets.\")\n"
   ]
  },
  {
   "cell_type": "markdown",
   "id": "b7377563-b42f-4ea4-a126-cc17eb262f14",
   "metadata": {},
   "source": [
    "40. Convert a string to a list of characters."
   ]
  },
  {
   "cell_type": "code",
   "execution_count": 53,
   "id": "89c27af1-11be-4045-b1e9-bbf2ad13c8a8",
   "metadata": {},
   "outputs": [
    {
     "name": "stdin",
     "output_type": "stream",
     "text": [
      "Enter a string:  Apple is red in color\n"
     ]
    },
    {
     "name": "stdout",
     "output_type": "stream",
     "text": [
      "List of string: ['A', 'p', 'p', 'l', 'e', ' ', 'i', 's', ' ', 'r', 'e', 'd', ' ', 'i', 'n', ' ', 'c', 'o', 'l', 'o', 'r']\n"
     ]
    }
   ],
   "source": [
    "# Get input from the user\n",
    "input_string = input(\"Enter a string: \")\n",
    "\n",
    "# Convert the string into a list of individual characters\n",
    "char_list = list(input_string)\n",
    "\n",
    "# Print the list of characters\n",
    "print(\"List of string:\", char_list)\n"
   ]
  },
  {
   "cell_type": "markdown",
   "id": "817e5574-050e-421a-97c2-99bdae672968",
   "metadata": {},
   "source": [
    "41. Check if two strings are anagrams."
   ]
  },
  {
   "cell_type": "code",
   "execution_count": 62,
   "id": "85b267f5-bdc5-4134-8dcb-68a1c4cff3d8",
   "metadata": {},
   "outputs": [
    {
     "name": "stdin",
     "output_type": "stream",
     "text": [
      "Enter word1 smile\n",
      "Enter word2 slime\n"
     ]
    },
    {
     "name": "stdout",
     "output_type": "stream",
     "text": [
      "Words are anagrams\n"
     ]
    }
   ],
   "source": [
    "# Get input for the first word\n",
    "word1 = input(\"Enter word1: \")\n",
    "\n",
    "# Get input for the second word\n",
    "word2 = input(\"Enter word2: \")\n",
    "\n",
    "# Check if the sorted characters of both words are equal\n",
    "if sorted(word1) == sorted(word2):\n",
    "    print(\"Words are anagrams.\")\n",
    "else:\n",
    "    print(\"Words are not anagrams.\")\n"
   ]
  },
  {
   "cell_type": "markdown",
   "id": "74531956-b7fe-492c-9a4c-9baceb3144a5",
   "metadata": {},
   "source": [
    "42. Encode a string using a Caesar cipher."
   ]
  },
  {
   "cell_type": "code",
   "execution_count": 20,
   "id": "c372abea-dbdc-40a0-9068-6cb20cd899ca",
   "metadata": {},
   "outputs": [
    {
     "name": "stdout",
     "output_type": "stream",
     "text": [
      "Jgnnq Yqtnf\n"
     ]
    }
   ],
   "source": [
    "def caesarCipher(text, shift):\n",
    "    encoded_text = \"\"\n",
    "    for char in text:\n",
    "        # Check if the character is an alphabet letter\n",
    "        if char.isalpha():\n",
    "            # Determine the base ASCII value for the alphabet (lowercase or uppercase)\n",
    "            base = ord('a') if char.islower() else ord('A')\n",
    "\n",
    "            # Apply the Caesar Cipher shift and wrap around within the alphabet\n",
    "            encoded_char = chr((ord(char) - base + shift) % 26 + base)\n",
    "        else:\n",
    "            # Non-alphabetic characters remain unchanged\n",
    "            encoded_char = char\n",
    "\n",
    "        # Update the result with the encoded character\n",
    "        encoded_text += encoded_char\n",
    "\n",
    "    return encoded_text\n",
    "\n",
    "# Example usage\n",
    "text = \"Hello World\"\n",
    "shift = 2\n",
    "encoded_text = caesarCipher(text, shift)\n",
    "print(encoded_text)"
   ]
  },
  {
   "cell_type": "markdown",
   "id": "92008317-f5d0-427d-b95e-ef1c3b3d7dc0",
   "metadata": {},
   "source": [
    "43. Decode a Caesar cipher encoded string."
   ]
  },
  {
   "cell_type": "code",
   "execution_count": 4,
   "id": "aaa31341-2f6e-4e67-acab-c2b59a030705",
   "metadata": {},
   "outputs": [
    {
     "name": "stdout",
     "output_type": "stream",
     "text": [
      "Decoded Text:  Hello World\n"
     ]
    }
   ],
   "source": [
    "def decodeCipher(text,shift):\n",
    "    decoded_text=\" \" \n",
    "    for char in text:\n",
    "        if char.isalpha():\n",
    "            base=ord('a') if char.islower() else ord('A')\n",
    "            decoded_char=chr((ord(char)-base-shift)%26+base)\n",
    "           \n",
    "        else:\n",
    "            decoded_char=char\n",
    "        \n",
    "        decoded_text+=decoded_char\n",
    "    return decoded_text\n",
    "\n",
    "text=\"Jgnnq Yqtnf\"\n",
    "shift=2\n",
    "decoded_text=decodeCipher(text,shift)\n",
    "print(\"Decoded Text:\",decoded_text)"
   ]
  },
  {
   "cell_type": "markdown",
   "id": "bf9dbd78-c1e3-47d6-a014-fcc014ac70d6",
   "metadata": {},
   "source": [
    "44. Find the most frequent word in a string."
   ]
  },
  {
   "cell_type": "code",
   "execution_count": 8,
   "id": "415b049a-8b90-4e3b-a68f-c9873cef97ef",
   "metadata": {},
   "outputs": [
    {
     "name": "stdin",
     "output_type": "stream",
     "text": [
      "Enter String work work life\n"
     ]
    },
    {
     "name": "stdout",
     "output_type": "stream",
     "text": [
      "work:2\n",
      "life:1\n",
      "Frequent Word work\n"
     ]
    }
   ],
   "source": [
    "# Get input from the user\n",
    "string = input(\"Enter String\")\n",
    "\n",
    "# Initialize a dictionary to store word frequencies\n",
    "freq = {}\n",
    "\n",
    "# Split the string into words\n",
    "string = string.split()\n",
    "\n",
    "# Count the frequency of each word\n",
    "for word in string:\n",
    "    if word in freq:\n",
    "        freq[word] += 1\n",
    "    else:\n",
    "        freq[word] = 1\n",
    "\n",
    "# Find the word with the maximum frequency\n",
    "max_word = max(freq, key=freq.get)\n",
    "\n",
    "# Print the frequency of each word\n",
    "for word, count in freq.items():\n",
    "    print(f\"{word}: {count}\")\n",
    "\n",
    "# Print the most frequent word\n",
    "print(\"Most Frequent Word:\", max_word)\n"
   ]
  },
  {
   "cell_type": "markdown",
   "id": "6afdde92-7a32-4366-817d-5ae98ca3d9fa",
   "metadata": {},
   "source": [
    "44. Find the most frequent word in a string."
   ]
  },
  {
   "cell_type": "code",
   "execution_count": 7,
   "id": "7979e13f-befa-4bf1-84e4-447fc2bdb684",
   "metadata": {},
   "outputs": [
    {
     "name": "stdout",
     "output_type": "stream",
     "text": [
      "this\n"
     ]
    }
   ],
   "source": [
    "import re\n",
    "from collections import Counter\n",
    "\n",
    "def most_frequent_word(text):\n",
    "    \n",
    "    # Remove punctuation and convert to lowercase\n",
    "    clean_text = re.sub(r'[^\\w\\s]', ' ', text).lower()\n",
    "\n",
    "    # Split the text into words\n",
    "    words = clean_text.split()\n",
    "\n",
    "    # Count the frequency of each word\n",
    "    count_word = Counter(words)\n",
    "\n",
    "    # Find the most common word\n",
    "    most_common_word = count_word.most_common(1)[0][0]\n",
    "\n",
    "    return most_common_word\n",
    "\n",
    "# Example usage\n",
    "text = \"This is a sentence. This sentence contains repeat words.\"\n",
    "result = most_frequent_word(text)\n",
    "print(result)"
   ]
  },
  {
   "cell_type": "markdown",
   "id": "06d4107d-a9c7-486f-8175-eb8fbbea6df7",
   "metadata": {},
   "source": [
    "45. Find all unique words in a string."
   ]
  },
  {
   "cell_type": "code",
   "execution_count": 8,
   "id": "0d279e61-ab31-4311-ae84-a492365d5289",
   "metadata": {},
   "outputs": [
    {
     "name": "stdout",
     "output_type": "stream",
     "text": [
      "{'people', 'world', 'hello'}\n"
     ]
    }
   ],
   "source": [
    "def unique_words(text):\n",
    "    \n",
    "    # Remove punctuation and convert to lowercase\n",
    "    clean_text = re.sub(r'[^\\w\\s]', ' ', text).lower()\n",
    "\n",
    "    # Split the text into words and convert to set to remove duplicates\n",
    "    words = set(clean_text.split())\n",
    "\n",
    "    return words\n",
    "\n",
    "# Example usage\n",
    "text = \"Hello World, Hello people\"\n",
    "unique_words_set = unique_words(text)\n",
    "print(unique_words_set)"
   ]
  },
  {
   "cell_type": "markdown",
   "id": "a4499ad8-7aa1-4ff4-9de8-6edd9d3a7f17",
   "metadata": {},
   "source": [
    "46. Count the number of syllables in a string."
   ]
  },
  {
   "cell_type": "code",
   "execution_count": 3,
   "id": "d992f091-e343-4ccd-87b5-69f0ee6d30d4",
   "metadata": {},
   "outputs": [
    {
     "name": "stdin",
     "output_type": "stream",
     "text": [
      "Enter String I am rubayah\n"
     ]
    },
    {
     "name": "stdout",
     "output_type": "stream",
     "text": [
      "Count of syllables 6\n"
     ]
    }
   ],
   "source": [
    "import re\n",
    "\n",
    "# Get input from the user\n",
    "string = input(\"Enter String\")\n",
    "\n",
    "# Initialize a counter for syllables\n",
    "count = 0\n",
    "\n",
    "# Define the vowels\n",
    "vowels = 'aeiou'\n",
    "\n",
    "# Remove spaces from the input string\n",
    "clean_string = string.replace(' ', '')\n",
    "\n",
    "# Count the number of non-vowel characters\n",
    "for char in clean_string:\n",
    "    if char not in vowels:\n",
    "        count += 1\n",
    "\n",
    "# Print the count of syllables\n",
    "print(\"Count of syllables:\", count)\n"
   ]
  },
  {
   "cell_type": "code",
   "execution_count": 11,
   "id": "344f5063-1393-4674-95bd-f1c641f223d4",
   "metadata": {},
   "outputs": [
    {
     "name": "stdout",
     "output_type": "stream",
     "text": [
      "7\n"
     ]
    }
   ],
   "source": [
    "import re\n",
    "def count_syllables(text):\n",
    "     # Find all sequences of vowels (case-insensitive)\n",
    "    vowels_group = re.findall(r'[aeiou]+', text, re.IGNORECASE)\n",
    "\n",
    "    # Return the count of found vowel sequences\n",
    "    return len(vowels_group)\n",
    "\n",
    "# Example usage\n",
    "text = \"Hello I am Rubayah\"\n",
    "result = count_syllables(text)\n",
    "print(result)   "
   ]
  },
  {
   "cell_type": "markdown",
   "id": "c6c1016c-fa87-46d4-8b41-9a20ab8719f4",
   "metadata": {},
   "source": [
    "47. Check if a string contains any special characters."
   ]
  },
  {
   "cell_type": "code",
   "execution_count": 14,
   "id": "73f0a1a3-f01b-48e2-950e-ea3629c92a9e",
   "metadata": {},
   "outputs": [
    {
     "name": "stdout",
     "output_type": "stream",
     "text": [
      "Hello,I'm Rubayah;aspiring DS!-contains speacial characters :True\n",
      "Hi there- does not contain speacial characters :False\n"
     ]
    }
   ],
   "source": [
    "import re\n",
    "def special_char(text):\n",
    "    pattern=re.compile(r'[!@#$%^&*()_+{}\\[\\]:;<>,.?~\\\\/]') # compile is use if searching in multiple locations otherwsie re.search could be used direct \n",
    "    match=pattern.search(text)\n",
    "    return bool(match)\n",
    "# Example\n",
    "\n",
    "text1=\"Hello,I'm Rubayah;aspiring DS!\"\n",
    "text2=\"Hi there\"\n",
    "result1=special_char(text1)\n",
    "result2=special_char(text2)\n",
    "print(f\"{text1}-contains speacial characters :{result1}\")   \n",
    "print(f\"{text2}- does not contain speacial characters :{result2}\")\n"
   ]
  },
  {
   "cell_type": "markdown",
   "id": "9841a0cc-3b3c-484c-b448-e8d705f2a3dc",
   "metadata": {},
   "source": [
    "48. Remove the nth word from a string."
   ]
  },
  {
   "cell_type": "code",
   "execution_count": 24,
   "id": "cd0503d6-27cb-46a1-909f-737031e67fde",
   "metadata": {},
   "outputs": [
    {
     "name": "stdout",
     "output_type": "stream",
     "text": [
      "OldString:This is an example sentence !\n",
      "Modified String:This is an example !\n",
      "Removed_word:sentence\n"
     ]
    }
   ],
   "source": [
    "def remove_nth_word(input_string,n):\n",
    "    \n",
    "    words=input_string.split()\n",
    "   # Check if the value of n is valid\n",
    "    if 1 <= n <= len(words):\n",
    "        # Pop the nth word from the list of words\n",
    "        removed_word = words.pop(n - 1)\n",
    "\n",
    "        # Join the remaining words to form the modified string\n",
    "        modified_string = ' '.join(words)\n",
    "\n",
    "        return modified_string, removed_word\n",
    "    else:\n",
    "        return None, None\n",
    "\n",
    "# Example usage\n",
    "input_string = \"This is an example sentence !\"\n",
    "n = 5\n",
    "modified_string, removed_word = remove_nth_word(input_string, n)\n",
    "\n",
    "# Print the results\n",
    "print(f\"Old String: {input_string}\")\n",
    "if modified_string is not None:\n",
    "    print(f\"Modified String: {modified_string}\")\n",
    "    print(f\"Removed Word: {removed_word}\")\n",
    "else:\n",
    "    print(\"Invalid n value\")\n",
    "    print(\"Invaid n value\")\n",
    "       \n",
    "    "
   ]
  },
  {
   "cell_type": "markdown",
   "id": "b0056afb-17c4-4ef1-a1aa-e99a37128805",
   "metadata": {},
   "source": [
    "49. Insert a word at the nth position in a string."
   ]
  },
  {
   "cell_type": "code",
   "execution_count": 25,
   "id": "9d0b30f5-bc7d-496a-a0d4-783cb0ca99cd",
   "metadata": {},
   "outputs": [
    {
     "name": "stdout",
     "output_type": "stream",
     "text": [
      "Old String:  This sentence shows an example of inserting nth\n",
      "Modified Sting: This sentence shows an example of inserting nth word\n"
     ]
    }
   ],
   "source": [
    "def insert_word_at_n(input_string,new_word,n):\n",
    "    \n",
    "    words=input_string.split()\n",
    "     # Check if the value of n is valid\n",
    "    if 0 <= n <= len(words):\n",
    "        # Insert the new word at the specified position\n",
    "        words.insert(n, new_word)\n",
    "\n",
    "        # Join the words to form the modified string\n",
    "        modified_string = ' '.join(words)\n",
    "\n",
    "        return modified_string\n",
    "    else:\n",
    "        return \"Invalid n value\"\n",
    "\n",
    "# Example usage\n",
    "input_string = \"This sentence shows an example of inserting nth\"\n",
    "new_word = \"word\"\n",
    "n = 8\n",
    "modified_string = insert_word_at_n(input_string, new_word, n)\n",
    "\n",
    "# Print the results\n",
    "print(\"Old String:\", input_string)\n",
    "print(\"Modified String:\", modified_string)"
   ]
  },
  {
   "cell_type": "markdown",
   "id": "6318d385-d1bc-4c13-a597-93b3708f9c70",
   "metadata": {},
   "source": [
    "50. Convert a CSV string to a list of lists."
   ]
  },
  {
   "cell_type": "code",
   "execution_count": 26,
   "id": "6a2856cf-4c5c-4236-bcc4-2c16fef0b966",
   "metadata": {},
   "outputs": [
    {
     "name": "stdout",
     "output_type": "stream",
     "text": [
      "['Name', ' Age', ' Country']\n",
      "['John', ' 25', ' USA']\n",
      "['Alice', ' 30', ' Canada']\n",
      "['Bob', ' 22', ' UK']\n"
     ]
    }
   ],
   "source": [
    "def csv_string_to_list(csv_string):\n",
    "    # Split the CSV string into lines\n",
    "    lines = csv_string.split('\\n')\n",
    "\n",
    "    # Initialize an empty list to store the result\n",
    "    result = []\n",
    "\n",
    "    for line in lines:\n",
    "        # Split each line into fields using comma as the delimiter\n",
    "        fields = line.split(',')\n",
    "\n",
    "        # Append the fields to the result list as a row\n",
    "        result.append(fields)\n",
    "\n",
    "    return result\n",
    "\n",
    "# Example CSV string\n",
    "csv_data = \"Name, Age, Country\\nJohn, 25, USA\\nAlice, 30, Canada\\nBob, 22, UK\"\n",
    "\n",
    "# Convert CSV string to a list of lists\n",
    "list_of_lists = csv_string_to_list(csv_data)\n",
    "\n",
    "# Print the result\n",
    "for row in list_of_lists:\n",
    "    print(row)"
   ]
  },
  {
   "cell_type": "code",
   "execution_count": null,
   "id": "451a8a0b-35a5-4fd7-a097-2605228e756f",
   "metadata": {},
   "outputs": [],
   "source": []
  },
  {
   "cell_type": "markdown",
   "id": "55be7298-dba9-44d6-8b05-d476d7994096",
   "metadata": {},
   "source": [
    "List Based Practice Problem :\n",
    "\n",
    "1. Create a list with integers from 1 to 10."
   ]
  },
  {
   "cell_type": "code",
   "execution_count": 8,
   "id": "2d57588a-ba05-4545-9498-6a45b3f0ac6a",
   "metadata": {},
   "outputs": [
    {
     "name": "stdout",
     "output_type": "stream",
     "text": [
      "[1, 2, 3, 4, 5, 6, 7, 8, 9, 10]\n"
     ]
    }
   ],
   "source": [
    "# Generate a list of integers from 1 to 10 using list comprehension\n",
    "int_list = [num for num in range(1, 11)]\n",
    "\n",
    "# Print the list\n",
    "print(int_list)"
   ]
  },
  {
   "cell_type": "markdown",
   "id": "01673b2d-a659-4af8-8ada-2407e6d192f9",
   "metadata": {},
   "source": [
    "2. Find the length of a list without using the `len()` function."
   ]
  },
  {
   "cell_type": "code",
   "execution_count": 14,
   "id": "a3f43acf-f2d7-4013-bfd6-0ac58faaa4b3",
   "metadata": {},
   "outputs": [
    {
     "name": "stdout",
     "output_type": "stream",
     "text": [
      "Length of list: 5\n"
     ]
    }
   ],
   "source": [
    "# Define a function to calculate the length of a given list\n",
    "def len_list(input_list):\n",
    "    count=0\n",
    "    for num in input_list:\n",
    "        count+=1\n",
    "    return count\n",
    "\n",
    "# Example Usage\n",
    "input_list=[1,2,3,4,5]\n",
    "length=len_list(input_list)\n",
    "print(\"Length of list:\",length)"
   ]
  },
  {
   "cell_type": "markdown",
   "id": "110f7407-85e1-4226-80a1-47b96a936e05",
   "metadata": {},
   "source": [
    "3. Append an element to the end of a list."
   ]
  },
  {
   "cell_type": "code",
   "execution_count": 18,
   "id": "69a9d015-22bb-4011-8e89-cac7ff2671e2",
   "metadata": {},
   "outputs": [
    {
     "name": "stdout",
     "output_type": "stream",
     "text": [
      "[1, 2, 3, 4, 5, 10]\n"
     ]
    }
   ],
   "source": [
    "# Original list\n",
    "input_list = [1, 2, 3, 4, 5]\n",
    "\n",
    "# Number to be appended\n",
    "new_num = 10\n",
    "\n",
    "# Append the new number to the list\n",
    "input_list.append(new_num)\n",
    "\n",
    "# Print the modified list\n",
    "print(input_list)"
   ]
  },
  {
   "cell_type": "markdown",
   "id": "bf85dab3-3a1f-4783-afc7-2ad42860cc19",
   "metadata": {},
   "source": [
    "4. Insert an element at a specific index in a list."
   ]
  },
  {
   "cell_type": "code",
   "execution_count": 23,
   "id": "cc847d6b-1eba-4aa6-8936-b5a9d7b3548d",
   "metadata": {},
   "outputs": [
    {
     "name": "stdout",
     "output_type": "stream",
     "text": [
      "[1, 2, 3, 10, 4, 5]\n"
     ]
    }
   ],
   "source": [
    "# Original list\n",
    "input_list = [1, 2, 3, 4, 5]\n",
    "\n",
    "# Number to be inserted\n",
    "new_num = 10\n",
    "\n",
    "# Position where the new number will be inserted\n",
    "insert_position = 3\n",
    "\n",
    "# Insert the new number at the specified position\n",
    "input_list.insert(insert_position, new_num)\n",
    "\n",
    "# Print the modified list\n",
    "print(input_list)"
   ]
  },
  {
   "cell_type": "markdown",
   "id": "c8c869b1-218f-44e9-815b-528bc915126c",
   "metadata": {},
   "source": [
    "5. Remove an element from a list by its value."
   ]
  },
  {
   "cell_type": "code",
   "execution_count": 25,
   "id": "3599d9aa-8aa5-43e6-ba12-e2478b10ff05",
   "metadata": {},
   "outputs": [
    {
     "name": "stdout",
     "output_type": "stream",
     "text": [
      "Modified List: [10, 20, 30, 50]\n"
     ]
    }
   ],
   "source": [
    "# Original list\n",
    "my_list = [10, 20, 30, 40, 50]\n",
    "\n",
    "# Element to be removed\n",
    "rem_element = 40\n",
    "\n",
    "# Remove the specified element from the list\n",
    "my_list.remove(rem_element)\n",
    "\n",
    "# Print the modified list after removal\n",
    "print(\"Modified List:\",my_list)"
   ]
  },
  {
   "cell_type": "markdown",
   "id": "bfa93d10-ab5a-4b3c-ae63-231164b624d9",
   "metadata": {},
   "source": [
    "6. Remove an element from a list by its index."
   ]
  },
  {
   "cell_type": "code",
   "execution_count": 28,
   "id": "06afd733-a2fc-4774-afa0-ca356f6d146d",
   "metadata": {},
   "outputs": [
    {
     "name": "stdout",
     "output_type": "stream",
     "text": [
      "Updated List: [12, 13, 14, 15]\n"
     ]
    }
   ],
   "source": [
    "# Original list\n",
    "my_list = [12, 13, 14, 15, 15]\n",
    "\n",
    "# Index of the element to be removed\n",
    "index = 4\n",
    "\n",
    "# Remove the element at the specified index using pop\n",
    "removed_element = my_list.pop(index)\n",
    "\n",
    "# Print the updated list after the removal\n",
    "print(\"Updated List:\", my_list)"
   ]
  },
  {
   "cell_type": "markdown",
   "id": "fbc4c8fa-767f-45a7-8d44-f3f878807f49",
   "metadata": {},
   "source": [
    "7. Check if an element exists in a list."
   ]
  },
  {
   "cell_type": "code",
   "execution_count": 30,
   "id": "63a2bc23-b1b9-481b-b0b0-0bd968adba38",
   "metadata": {},
   "outputs": [
    {
     "name": "stdout",
     "output_type": "stream",
     "text": [
      "Element 0 Found\n"
     ]
    }
   ],
   "source": [
    "# Original list\n",
    "my_list = [23, 14, 5, 6, 7, 0]\n",
    "\n",
    "# Element to be checked for existence in the list\n",
    "element_to_be_checked = 0\n",
    "\n",
    "# Check if the element is present in the list\n",
    "if element_to_be_checked in my_list:\n",
    "    print(f\"Element {element_to_be_checked} Found\")\n",
    "else:\n",
    "    print(f\"Element {element_to_be_checked} not found\")"
   ]
  },
  {
   "cell_type": "markdown",
   "id": "d617d136-02ef-4ffb-9970-ce1cfad8dd90",
   "metadata": {},
   "source": [
    "8. Find the index of the first occurrence of an element in a list."
   ]
  },
  {
   "cell_type": "code",
   "execution_count": 36,
   "id": "a8ba28d3-4408-4226-87aa-0cefba5e5c58",
   "metadata": {},
   "outputs": [
    {
     "name": "stdout",
     "output_type": "stream",
     "text": [
      "The index of element 97 is 2\n"
     ]
    }
   ],
   "source": [
    "# Original list\n",
    "my_list = [98, 99, 97, 95]\n",
    "\n",
    "# Element to find the index of\n",
    "element = 97\n",
    "\n",
    "# Find the index of the specified element in the list\n",
    "find_index = my_list.index(element)\n",
    "\n",
    "# Print the index of the element\n",
    "print(f\"The index of element {element} is {find_index}\")"
   ]
  },
  {
   "cell_type": "markdown",
   "id": "a6386d72-f55e-4024-843a-be938e0d71b6",
   "metadata": {},
   "source": [
    "9. Count the occurrences of an element in a list."
   ]
  },
  {
   "cell_type": "code",
   "execution_count": 38,
   "id": "97873c23-bf87-4d4d-9bc8-ec7a2a8697af",
   "metadata": {},
   "outputs": [
    {
     "name": "stdout",
     "output_type": "stream",
     "text": [
      "The element 20 appears 3 times in the list\n"
     ]
    }
   ],
   "source": [
    "# Original list\n",
    "my_list = [10, 20, 30, 20, 40, 20, 50]\n",
    "\n",
    "# Element whose occurrences need to be counted\n",
    "element_to_count = 20\n",
    "\n",
    "# Count the occurrences of the specified element in the list\n",
    "element_count = my_list.count(element_to_count)\n",
    "\n",
    "# Print the count of occurrences\n",
    "print(f\"The element {element_to_count} appears {element_count} times in the list\")"
   ]
  },
  {
   "cell_type": "markdown",
   "id": "4497448b-2872-426c-9a67-61fc09113911",
   "metadata": {},
   "source": [
    "10. Reverse the order of elements in a list."
   ]
  },
  {
   "cell_type": "code",
   "execution_count": 42,
   "id": "c407d001-1b8c-4cc7-a35d-5048c1d0f392",
   "metadata": {},
   "outputs": [
    {
     "name": "stdout",
     "output_type": "stream",
     "text": [
      "[9, 8, 7, 6, 5, 4, 3, 2, 1]\n"
     ]
    }
   ],
   "source": [
    "my_list=[1,2,3,4,5,6,7,8,9]\n",
    "my_list.reverse()\n",
    "print(my_list)"
   ]
  },
  {
   "cell_type": "code",
   "execution_count": 43,
   "id": "e284764a-bfe4-4562-a4b7-f557924f66bd",
   "metadata": {},
   "outputs": [
    {
     "name": "stdout",
     "output_type": "stream",
     "text": [
      "[9, 8, 7, 6, 5, 4, 3, 2, 1]\n"
     ]
    }
   ],
   "source": [
    "# Original list\n",
    "my_list = [1, 2, 3, 4, 5, 6, 7, 8, 9]\n",
    "\n",
    "# Reverse the order of elements in the list\n",
    "my_list.reverse()\n",
    "\n",
    "# Note: The reverse() method modifies the list in-place and does not return a new list.\n",
    "\n",
    "# Print the modified list after reversal\n",
    "print(my_list)"
   ]
  },
  {
   "cell_type": "markdown",
   "id": "bcc36663-1962-473d-88e8-eb15dd359ac1",
   "metadata": {},
   "source": [
    "11. Sort a list in ascending order."
   ]
  },
  {
   "cell_type": "code",
   "execution_count": 50,
   "id": "76783884-7cdb-4af8-a23f-8abe2b1f089c",
   "metadata": {},
   "outputs": [
    {
     "name": "stdout",
     "output_type": "stream",
     "text": [
      "Sorted List: [12, 23, 34, 54, 67, 89, 98]\n"
     ]
    }
   ],
   "source": [
    "# Original list\n",
    "my_list = [23, 54, 67, 89, 12, 34, 98]\n",
    "\n",
    "# Sort the elements of the list in ascending order (in-place)\n",
    "my_list.sort()\n",
    "\n",
    "# Print the sorted list\n",
    "print(\"Sorted List:\", my_list)"
   ]
  },
  {
   "cell_type": "markdown",
   "id": "895ce0df-3e06-4ad0-b148-1ed32659a9fc",
   "metadata": {},
   "source": [
    "12. Sort a list in descending order."
   ]
  },
  {
   "cell_type": "code",
   "execution_count": 51,
   "id": "3444ce0d-7d7b-4705-8e84-59073bcd0471",
   "metadata": {},
   "outputs": [
    {
     "name": "stdout",
     "output_type": "stream",
     "text": [
      "Sorted List in descending rder: [98, 89, 67, 54, 34, 23, 12]\n"
     ]
    }
   ],
   "source": [
    "# Original list\n",
    "my_list = [23, 54, 67, 89, 12, 34, 98]\n",
    "\n",
    "# Sort the elements of the list in ascending order (in-place)\n",
    "my_list.sort(reverse=True)\n",
    "\n",
    "# Print the sorted list\n",
    "print(\"Sorted List in descending rder:\", my_list)"
   ]
  },
  {
   "cell_type": "markdown",
   "id": "2b5959c1-8bc2-4d61-9b18-777e1d30a6f3",
   "metadata": {},
   "source": [
    "13. Create a list of even numbers from 1 to 20."
   ]
  },
  {
   "cell_type": "code",
   "execution_count": 54,
   "id": "e587e6cc-2bdb-4ae9-a9f0-d51227ab04ff",
   "metadata": {},
   "outputs": [
    {
     "name": "stdout",
     "output_type": "stream",
     "text": [
      "[2, 4, 6, 8, 10, 12, 14, 16, 18, 20]\n"
     ]
    }
   ],
   "source": [
    "my_list=[num for num in range(1,21) if num%2==0]\n",
    "print(my_list)"
   ]
  },
  {
   "cell_type": "code",
   "execution_count": 56,
   "id": "53e7e365-1b9a-46dd-9443-2f3971682a00",
   "metadata": {},
   "outputs": [
    {
     "name": "stdout",
     "output_type": "stream",
     "text": [
      "[2, 4, 6, 8, 10, 12, 14, 16, 18, 20]\n"
     ]
    }
   ],
   "source": [
    "# Create a list of even numbers from 2 to 20 using a list comprehension\n",
    "my_list = [n for n in range(2, 21, 2)]\n",
    "\n",
    "# Print the generated list\n",
    "print(my_list)"
   ]
  },
  {
   "cell_type": "markdown",
   "id": "ca59b012-ddea-42f6-91c6-cf723f9e1260",
   "metadata": {},
   "source": [
    "14. Create a list of odd numbers from 1 to 20."
   ]
  },
  {
   "cell_type": "code",
   "execution_count": 57,
   "id": "e9731b7a-ca45-4331-af87-3567251c40dd",
   "metadata": {},
   "outputs": [
    {
     "name": "stdout",
     "output_type": "stream",
     "text": [
      "[1, 3, 5, 7, 9, 11, 13, 15, 17, 19]\n"
     ]
    }
   ],
   "source": [
    "# Create a list of even numbers from 2 to 20 using a list comprehension\n",
    "my_list = [n for n in range(1, 20, 2)]\n",
    "\n",
    "# Print the generated list\n",
    "print(my_list)"
   ]
  },
  {
   "cell_type": "markdown",
   "id": "43330493-b404-47a6-b835-c07b978c1a06",
   "metadata": {},
   "source": [
    "15. Find the sum of all elements in a list."
   ]
  },
  {
   "cell_type": "code",
   "execution_count": 60,
   "id": "ab03b935-fe85-4173-9e73-92bb42b0a962",
   "metadata": {},
   "outputs": [
    {
     "name": "stdout",
     "output_type": "stream",
     "text": [
      "150\n"
     ]
    }
   ],
   "source": [
    "# Original list\n",
    "my_list = [10, 20, 30, 40, 50]\n",
    "\n",
    "# Calculate the sum of elements in the list using the sum() function\n",
    "sum_list = sum(my_list)\n",
    "\n",
    "# Print the sum of the elements in the list\n",
    "print(sum_list)"
   ]
  },
  {
   "cell_type": "markdown",
   "id": "e43c4ea3-76a0-4a08-8b1a-bba1b9f88045",
   "metadata": {},
   "source": [
    "16. Find the maximum value in a list."
   ]
  },
  {
   "cell_type": "code",
   "execution_count": 62,
   "id": "309e765b-b1fb-46fc-ab76-8ba7c71b6cd3",
   "metadata": {},
   "outputs": [
    {
     "name": "stdout",
     "output_type": "stream",
     "text": [
      "100\n"
     ]
    }
   ],
   "source": [
    "# Original list\n",
    "my_list = [20, 50, 60, 79, 100]\n",
    "\n",
    "# Find the maximum value in the list using the max() function\n",
    "max_value = max(my_list)\n",
    "\n",
    "# Print the maximum value in the list\n",
    "print(max_value)"
   ]
  },
  {
   "cell_type": "markdown",
   "id": "0471bc3a-055d-4ed1-9d5b-01da9279b77f",
   "metadata": {},
   "source": [
    "17. Find the minimum value in a list."
   ]
  },
  {
   "cell_type": "code",
   "execution_count": 63,
   "id": "9bce0cc3-aa91-4050-b04c-9c988e2ac048",
   "metadata": {},
   "outputs": [
    {
     "name": "stdout",
     "output_type": "stream",
     "text": [
      "20\n"
     ]
    }
   ],
   "source": [
    "# Original list\n",
    "my_list = [20, 50, 60, 79, 100]\n",
    "\n",
    "# Find the minimum value in the list using the min() function\n",
    "min_value = min(my_list)\n",
    "\n",
    "# Print the minimum value in the list\n",
    "print(min_value)"
   ]
  },
  {
   "cell_type": "markdown",
   "id": "82d002b7-73ca-44dc-bc4b-f78600b7c6df",
   "metadata": {},
   "source": [
    "18. Create a list of squares of numbers from 1 to 10."
   ]
  },
  {
   "cell_type": "code",
   "execution_count": 65,
   "id": "ece2dc97-69e9-4c3f-8af8-4ceaef5d26c0",
   "metadata": {},
   "outputs": [
    {
     "name": "stdout",
     "output_type": "stream",
     "text": [
      "[1, 4, 9, 16, 25, 36, 49, 64, 81, 100]\n"
     ]
    }
   ],
   "source": [
    "# Create a list of square numbers from 1 to 10 using a list comprehension\n",
    "square_list = [n**2 for n in range(1, 11)]\n",
    "\n",
    "# Print the generated list of square numbers\n",
    "print(square_list)"
   ]
  },
  {
   "cell_type": "markdown",
   "id": "a0b20180-c767-4938-9b52-e0df5402063a",
   "metadata": {},
   "source": [
    "19. Create a list of random numbers."
   ]
  },
  {
   "cell_type": "code",
   "execution_count": 66,
   "id": "ccd1e88d-49f6-49ea-97ae-223deda5f594",
   "metadata": {},
   "outputs": [
    {
     "name": "stdout",
     "output_type": "stream",
     "text": [
      "List of random integers: [79, 45, 58, 30, 85, 79, 10, 35, 16, 85]\n"
     ]
    }
   ],
   "source": [
    "import random\n",
    "\n",
    "# Create a list of random integers between 1 and 100\n",
    "random_integers = [random.randint(1, 100) for _ in range(10)]\n",
    "\n",
    "# Print the list of random integers\n",
    "print(\"List of random integers:\", random_integers)"
   ]
  },
  {
   "cell_type": "markdown",
   "id": "62f07061-7878-4ea5-a903-aef0a8d11080",
   "metadata": {},
   "source": [
    "20. Remove duplicates from a list."
   ]
  },
  {
   "cell_type": "code",
   "execution_count": 70,
   "id": "63da0b59-0d3b-4665-831d-bf0d0c44906e",
   "metadata": {},
   "outputs": [
    {
     "name": "stdout",
     "output_type": "stream",
     "text": [
      "[3, 5, 6, 8, 12, 78]\n"
     ]
    }
   ],
   "source": [
    "# Original list with duplicates\n",
    "my_list = [12, 12, 3, 5, 6, 78, 8, 8]\n",
    "\n",
    "# Create a set to obtain unique elements\n",
    "unique_set = set(my_list)\n",
    "\n",
    "# Convert the set back to a list to retain unique elements' order\n",
    "unique_list = list(unique_set)\n",
    "\n",
    "# Print the list with duplicates removed\n",
    "print(unique_list)"
   ]
  },
  {
   "cell_type": "markdown",
   "id": "0b7c7bc4-b590-4aa2-a1dc-4d2e7642c523",
   "metadata": {},
   "source": [
    "21. Find the common elements between two lists."
   ]
  },
  {
   "cell_type": "code",
   "execution_count": 2,
   "id": "0980a583-ecaa-448b-8119-f1e0a1034969",
   "metadata": {},
   "outputs": [
    {
     "name": "stdout",
     "output_type": "stream",
     "text": [
      "Common List: [10, 20]\n"
     ]
    }
   ],
   "source": [
    "# Two lists with elements\n",
    "list1 = [10, 20, 3, 40]\n",
    "list2 = [10, 20, 31, 41]\n",
    "\n",
    "# List to store common elements\n",
    "common_list = []\n",
    "\n",
    "# Iterate through elements of list1\n",
    "for element1 in list1:\n",
    "    # Iterate through elements of list2\n",
    "    for element2 in list2:\n",
    "        # Check if the elements are equal\n",
    "        if element1 == element2:\n",
    "            # Append the common element to the common_list\n",
    "            common_list.append(element1)\n",
    "\n",
    "# Print the list of common elements\n",
    "print(\"Common List:\",common_list)"
   ]
  },
  {
   "cell_type": "markdown",
   "id": "6268082f-b8a0-44c3-8e99-a3555b4dd08b",
   "metadata": {},
   "source": [
    "22. Find the difference between two lists."
   ]
  },
  {
   "cell_type": "code",
   "execution_count": 7,
   "id": "2ac3982c-5f93-4588-a9c9-4e52da604b34",
   "metadata": {},
   "outputs": [
    {
     "name": "stdout",
     "output_type": "stream",
     "text": [
      "Difference between lists: [20, 10]\n"
     ]
    }
   ],
   "source": [
    "# Example lists\n",
    "list1 = [10, 20, 30, 40, 50]\n",
    "list2 = [30, 40, 50, 60, 70]\n",
    "\n",
    "# Find the difference between lists using the difference() method\n",
    "difference = list(set(list1).difference(list2))\n",
    "\n",
    "# Print the difference\n",
    "print(\"Difference between lists:\", difference)"
   ]
  },
  {
   "cell_type": "markdown",
   "id": "335f6e0c-752b-4d05-8b26-c16cf7c6aaf2",
   "metadata": {},
   "source": [
    "23. Merge two lists."
   ]
  },
  {
   "cell_type": "code",
   "execution_count": 9,
   "id": "19c46997-4618-44c2-99eb-3efb280e862e",
   "metadata": {},
   "outputs": [
    {
     "name": "stdout",
     "output_type": "stream",
     "text": [
      "Merged List: [10, 20, 30, 40, 50, 30, 40, 50, 60, 70]\n"
     ]
    }
   ],
   "source": [
    "# Example lists\n",
    "list1 = [10, 20, 30, 40, 50]\n",
    "list2 = [30, 40, 50, 60, 70]\n",
    "\n",
    "# Concatenate lists to create a merged list\n",
    "merged_list = list1 + list2\n",
    "\n",
    "# Print the merged list\n",
    "print(\"Merged List:\", merged_list)"
   ]
  },
  {
   "cell_type": "markdown",
   "id": "8ffd5790-10d4-4161-b420-a008fd8725d7",
   "metadata": {},
   "source": [
    "24. Multiply all elements in a list by 2."
   ]
  },
  {
   "cell_type": "code",
   "execution_count": 11,
   "id": "d64e2ecd-ebad-4b85-9253-5bc51018e8da",
   "metadata": {},
   "outputs": [
    {
     "name": "stdout",
     "output_type": "stream",
     "text": [
      "List Multiplied by 2: [20, 40, 60, 80, 100]\n"
     ]
    }
   ],
   "source": [
    "# Example list\n",
    "list1 = [10, 20, 30, 40, 50]\n",
    "\n",
    "# Create a new list by multiplying each element of list1 by 2 using a list comprehension\n",
    "multiplied_list = [n*2 for n in list1]\n",
    "\n",
    "# Print the new list with elements multiplied by 2\n",
    "print(\"List Multiplied by 2:\", multiplied_list)"
   ]
  },
  {
   "cell_type": "markdown",
   "id": "25aca981-bd37-40f5-9ad0-5f06d60e097d",
   "metadata": {},
   "source": [
    "25. Filter out all even numbers from a list."
   ]
  },
  {
   "cell_type": "code",
   "execution_count": 14,
   "id": "4a66c9ef-c384-4689-8760-f0bf322bfed8",
   "metadata": {},
   "outputs": [
    {
     "name": "stdout",
     "output_type": "stream",
     "text": [
      "Filtered List: [13, 33, 91]\n"
     ]
    }
   ],
   "source": [
    "# Example list\n",
    "list1 = [10, 12, 13, 24, 26, 33, 91]\n",
    "\n",
    "# Create a new list by filtering out even numbers from list1 using a list comprehension\n",
    "filtered_list = [num for num in list1 if num % 2 != 0]\n",
    "\n",
    "# Print the filtered list containing only odd numbers\n",
    "print(\"Filtered List:\", filtered_list)"
   ]
  },
  {
   "cell_type": "markdown",
   "id": "720dd9c4-f204-40e0-868d-a93d2fe70394",
   "metadata": {},
   "source": [
    "26. Convert a list of strings to a list of integers."
   ]
  },
  {
   "cell_type": "code",
   "execution_count": 17,
   "id": "0fd72a5b-fb9b-4003-afdc-b8639333c242",
   "metadata": {},
   "outputs": [
    {
     "name": "stdout",
     "output_type": "stream",
     "text": [
      "[10, 20, 30, 40]\n"
     ]
    }
   ],
   "source": [
    "# Example list of strings\n",
    "string_list = ['10', '20', '30', '40']\n",
    "\n",
    "# Create a new list by converting each string element to an integer using a list comprehension\n",
    "integer_list = [int(i) for i in string_list]\n",
    "\n",
    "# Print the new list with integer elements\n",
    "print(integer_list)"
   ]
  },
  {
   "cell_type": "markdown",
   "id": "76d6c5fe-2d77-4682-87e1-501273795008",
   "metadata": {},
   "source": [
    "27. Convert a list of integers to a list of strings."
   ]
  },
  {
   "cell_type": "code",
   "execution_count": 18,
   "id": "43baa58d-16e4-4347-b26b-800b8594d014",
   "metadata": {},
   "outputs": [
    {
     "name": "stdout",
     "output_type": "stream",
     "text": [
      "['10', '20', '30', '40']\n"
     ]
    }
   ],
   "source": [
    "# Example list of strings\n",
    "int_list = [10, 20, 30, 40]\n",
    "\n",
    "# Create a new list by converting each integer element to a string using a list comprehension\n",
    "str_list = [str(i) for i in int_list]\n",
    "\n",
    "# Print the new list with string elements\n",
    "print(str_list)"
   ]
  },
  {
   "cell_type": "markdown",
   "id": "95c6ce32-04d9-4b7a-a8a7-53e3c9d95bab",
   "metadata": {},
   "source": [
    "28. Flatten a nested list."
   ]
  },
  {
   "cell_type": "code",
   "execution_count": 23,
   "id": "00ee8964-eaa0-469e-960b-543e9df1f2c0",
   "metadata": {},
   "outputs": [
    {
     "name": "stdout",
     "output_type": "stream",
     "text": [
      "Flattened List: [1, 2, 3, 4, 5, 6, 7, 8, 9, 10]\n"
     ]
    }
   ],
   "source": [
    "nested_list=[[1,2],[3,4],[5,6],[7,8,[9,10]]]\n",
    "\n",
    "def flatten_list(nested_list):\n",
    "    flattened=[]\n",
    "    for sublist in nested_list:\n",
    "        if isinstance(sublist,list):\n",
    "            flattened.extend(flatten_list(sublist))\n",
    "        else:\n",
    "            flattened.append(sublist)\n",
    "            \n",
    "    return flattened\n",
    "\n",
    "print(\"Flattened List:\",flatten_list(nested_list))\n"
   ]
  },
  {
   "cell_type": "markdown",
   "id": "f3aeef14-3ee9-4343-b9b3-61500703089d",
   "metadata": {},
   "source": [
    "29. Create a list of the first 10 Fibonacci numbers."
   ]
  },
  {
   "cell_type": "code",
   "execution_count": 33,
   "id": "0d60b7b2-c96d-4289-9042-5350a9594b1e",
   "metadata": {},
   "outputs": [
    {
     "name": "stdout",
     "output_type": "stream",
     "text": [
      "List of 10 Fibonacci numbers: [0, 1, 1, 2, 3, 5, 8, 13, 21, 34]\n"
     ]
    }
   ],
   "source": [
    "def generate_fibonacci_list(num_range):\n",
    "    fibonacci_sequence = [0, 1]  # Initialize the list with the first two Fibonacci numbers\n",
    "\n",
    "    for i in range(2, num_range):\n",
    "        next_fibonacci = fibonacci_sequence[i - 1] + fibonacci_sequence[i - 2]\n",
    "        fibonacci_sequence.append(next_fibonacci)\n",
    "\n",
    "    return fibonacci_sequence\n",
    "\n",
    "\n",
    "# Example Usage\n",
    "example_fibonacci_list = generate_fibonacci_list(10)\n",
    "print(f\"List of 10 Fibonacci numbers: {example_fibonacci_list}\")"
   ]
  },
  {
   "cell_type": "markdown",
   "id": "64389f44-aec5-41f5-bf52-fb9c9fc699a5",
   "metadata": {},
   "source": [
    "30. Check if a list is sorted."
   ]
  },
  {
   "cell_type": "code",
   "execution_count": 41,
   "id": "4d1a776b-bbcc-49db-911b-6ad6baf8eb34",
   "metadata": {},
   "outputs": [
    {
     "name": "stdout",
     "output_type": "stream",
     "text": [
      "List is not in ascending order\n"
     ]
    }
   ],
   "source": [
    "def is_list_sorted_asc(lst):\n",
    "    for n in range(1, len(lst)):\n",
    "        # Check if the current element is greater than the previous one\n",
    "        if lst[n] > lst[n - 1]:\n",
    "            return False\n",
    "    # If the loop completes without returning False, the list is in ascending order\n",
    "    return True\n",
    "\n",
    "# Example Usage\n",
    "lst = [100, 40, 60, 80]\n",
    "if is_list_sorted_asc(lst):\n",
    "    print(\"List is in ascending order\")\n",
    "else:\n",
    "    print(\"List is not in ascending order\")"
   ]
  },
  {
   "cell_type": "markdown",
   "id": "fefb07af-aea2-439e-b88d-2b2e8df75e66",
   "metadata": {},
   "source": [
    "31. Rotate a list to the left by `n` positions."
   ]
  },
  {
   "cell_type": "code",
   "execution_count": 43,
   "id": "ce67a3e2-f357-4baa-a4fa-6b9f1f626b46",
   "metadata": {},
   "outputs": [
    {
     "name": "stdout",
     "output_type": "stream",
     "text": [
      "Rotated list: [4, 5, 6, 7, 8, 9, 10, 1, 2, 3]\n"
     ]
    }
   ],
   "source": [
    "def rotate_list(lst, n):\n",
    "    # Normalize n to handle cases where n is larger than the list length\n",
    "    n = n % len(lst)\n",
    "    \n",
    "    # Rotate the list to the left by n positions\n",
    "    rotated = lst[n:] + lst[:n]\n",
    "    return rotated\n",
    "\n",
    "# Example list\n",
    "my_list = [1, 2, 3, 4, 5, 6, 7, 8, 9, 10]\n",
    "n = 3\n",
    "\n",
    "# Call the rotate_list function\n",
    "result = rotate_list(my_list, n)\n",
    "\n",
    "# Print the result\n",
    "print(\"Rotated list:\",result)"
   ]
  },
  {
   "cell_type": "markdown",
   "id": "5334e579-cd08-4551-ac2d-2e9a372b8573",
   "metadata": {},
   "source": [
    "32. Rotate a list to the right by `n` positions."
   ]
  },
  {
   "cell_type": "code",
   "execution_count": 46,
   "id": "1d70bfb5-8c12-4186-a6af-e2792b67799c",
   "metadata": {},
   "outputs": [
    {
     "name": "stdout",
     "output_type": "stream",
     "text": [
      "Rotated list: [8, 9, 10, 1, 2, 3, 4, 5, 6, 7]\n"
     ]
    }
   ],
   "source": [
    "def rotate_list(lst, n):\n",
    "    # Normalize n to handle cases where n is larger than the list length\n",
    "    n = n % len(lst)\n",
    "    \n",
    "    # Rotate the list to the left by n positions\n",
    "    rotated = lst[-n:] + lst[:-n]\n",
    "    return rotated\n",
    "\n",
    "# Example list\n",
    "my_list = [1, 2, 3, 4, 5, 6, 7, 8, 9, 10]\n",
    "n = 3\n",
    "\n",
    "# Call the rotate_list function\n",
    "result = rotate_list(my_list, n)\n",
    "\n",
    "# Print the result\n",
    "print(\"Rotated list:\",result)"
   ]
  },
  {
   "cell_type": "markdown",
   "id": "74a7aec5-eba0-4839-a55a-7b782f9cc4fd",
   "metadata": {},
   "source": [
    "33. Create a list of prime numbers up to 50."
   ]
  },
  {
   "cell_type": "code",
   "execution_count": 3,
   "id": "9cfaed06-4bf1-48e1-9404-7cb0e504fa4c",
   "metadata": {},
   "outputs": [
    {
     "name": "stdout",
     "output_type": "stream",
     "text": [
      "List of prime numbers up to 50: [2, 3, 5, 7, 11, 13, 17, 19, 23, 29]\n"
     ]
    }
   ],
   "source": [
    "from sympy import primerange\n",
    "\n",
    "# Create a list of prime numbers up to 50 using sympy\n",
    "prime_numbers = list(primerange(2, 30))\n",
    "\n",
    "# Print the list of prime numbers\n",
    "print(\"List of prime numbers up to 50:\", prime_numbers)"
   ]
  },
  {
   "cell_type": "markdown",
   "id": "5557d892-345b-4308-ad4b-027276fe6d99",
   "metadata": {},
   "source": [
    "34. Split a list into chunks of size `n`."
   ]
  },
  {
   "cell_type": "code",
   "execution_count": 5,
   "id": "e0cc7e2c-4505-4978-8618-e5ca47719464",
   "metadata": {},
   "outputs": [
    {
     "name": "stdout",
     "output_type": "stream",
     "text": [
      "Original List: [1, 2, 3, 4, 5, 6, 7, 8, 9, 10]\n",
      "Splitted List: [[1, 2, 3], [4, 5, 6], [7, 8, 9], [10]]\n"
     ]
    }
   ],
   "source": [
    "def list_to_be_split(lst, n):\n",
    "    return [lst[i:i+n] for i in range(0, len(lst), n)]\n",
    "\n",
    "# Example usage\n",
    "my_list = [1, 2, 3, 4, 5, 6, 7, 8, 9, 10]\n",
    "chunk_size = 3\n",
    "result = list_to_be_split(my_list, chunk_size)\n",
    "\n",
    "# Print the original list and the entire resulting list of chunks\n",
    "print(\"Original List:\", my_list)\n",
    "print(\"Splitted List:\", result)"
   ]
  },
  {
   "cell_type": "markdown",
   "id": "159442c5-665a-427b-ae95-4793c6874b07",
   "metadata": {},
   "source": [
    "35. Find the second largest number in a list."
   ]
  },
  {
   "cell_type": "code",
   "execution_count": 15,
   "id": "43a5ec99-2609-4f71-81cc-a6400b280139",
   "metadata": {},
   "outputs": [
    {
     "name": "stdout",
     "output_type": "stream",
     "text": [
      "160\n"
     ]
    }
   ],
   "source": [
    "my_list = [10, 500, 160, 70, 90, 90, 120]\n",
    "\n",
    "# Remove duplicates and sort in descending order\n",
    "my_list = sorted(set(my_list), reverse=True)\n",
    "\n",
    "# Print the second largest element\n",
    "print(my_list[1])\n"
   ]
  },
  {
   "cell_type": "markdown",
   "id": "2ca7324a-56c2-42ab-acdc-11e42ca2c964",
   "metadata": {},
   "source": [
    "36. Replace every element in a list with its square."
   ]
  },
  {
   "cell_type": "code",
   "execution_count": 5,
   "id": "8c2b7bbd-ba13-411c-ad2b-fee871f148a7",
   "metadata": {},
   "outputs": [
    {
     "name": "stdout",
     "output_type": "stream",
     "text": [
      "[1, 4, 9, 16, 25]\n"
     ]
    }
   ],
   "source": [
    "def square_list(my_list):\n",
    "    # Create a new list with squared elements using list comprehension\n",
    "    squared_elements = [element**2 for element in my_list]\n",
    "    return squared_elements\n",
    "\n",
    "# Example Usage\n",
    "my_list = [1, 2, 3, 4, 5]\n",
    "result = square_list(my_list)\n",
    "print(result)"
   ]
  },
  {
   "cell_type": "markdown",
   "id": "9fb03116-3b1e-462f-b468-8c9d78d1b93a",
   "metadata": {},
   "source": [
    "37. Convert a list to a dictionary where list elements become keys and their\n",
    "indices become values."
   ]
  },
  {
   "cell_type": "code",
   "execution_count": 10,
   "id": "a681c789-9493-44a3-8ce8-74fac8736ce6",
   "metadata": {},
   "outputs": [
    {
     "name": "stdout",
     "output_type": "stream",
     "text": [
      "Converted list to Dictionary: {'Tom': 0, 'Jerry': 1, 'Harry': 2, 'Peter': 3}\n"
     ]
    }
   ],
   "source": [
    "my_list=['Tom','Jerry','Harry','Peter']\n",
    "my_dict={elements:index for index,elements in enumerate(my_list)}\n",
    "print(\"Converted list to Dictionary:\",my_dict)\n",
    "         "
   ]
  },
  {
   "cell_type": "markdown",
   "id": "96177ca0-9363-42fd-9a25-d500c9c681b7",
   "metadata": {},
   "source": [
    "38. Shuffle the elements of a list randomly."
   ]
  },
  {
   "cell_type": "code",
   "execution_count": 14,
   "id": "2cfbe276-949a-4695-b75f-5bb879065465",
   "metadata": {},
   "outputs": [
    {
     "name": "stdout",
     "output_type": "stream",
     "text": [
      "Shuffled List: ['Peter', 'Harry', 'Tom', 'Jerry']\n"
     ]
    }
   ],
   "source": [
    "# List of names\n",
    "my_list = ['Tom', 'Jerry', 'Harry', 'Peter']\n",
    "\n",
    "# Shuffle the list randomly\n",
    "random.shuffle(my_list)\n",
    "\n",
    "# Print the shuffled list\n",
    "print(\"Shuffled List:\", my_list)"
   ]
  },
  {
   "cell_type": "markdown",
   "id": "f0675f6f-f93f-49e1-81c8-14cef0211dcc",
   "metadata": {},
   "source": [
    "39. Create a list of the first 10 factorial numbers."
   ]
  },
  {
   "cell_type": "code",
   "execution_count": 23,
   "id": "9d21e569-4317-4929-a511-dfcdbed555d8",
   "metadata": {},
   "outputs": [
    {
     "name": "stdout",
     "output_type": "stream",
     "text": [
      "The factorial of 0 is 1\n",
      "The factorial of 1 is 1\n",
      "The factorial of 2 is 2\n",
      "The factorial of 3 is 6\n",
      "The factorial of 4 is 24\n",
      "The factorial of 5 is 120\n",
      "The factorial of 6 is 720\n",
      "The factorial of 7 is 5040\n",
      "The factorial of 8 is 40320\n",
      "The factorial of 9 is 362880\n",
      "The factorial of 10 is 3628800\n"
     ]
    }
   ],
   "source": [
    "def factorial_n(n):\n",
    "    if n ==1 or n==0:\n",
    "        return 1 \n",
    "    else:\n",
    "        return n*factorial_n(n-1)\n",
    "    \n",
    "# Print factorials for a range of values\n",
    "for i in range(11):\n",
    "    result = factorial_n(i)\n",
    "    print(f\"The factorial of {i} is {result}\")"
   ]
  },
  {
   "cell_type": "markdown",
   "id": "7fc368ba-1b33-4a01-a67d-267e666d344b",
   "metadata": {},
   "source": [
    "40. Check if two lists have at least one element in common."
   ]
  },
  {
   "cell_type": "code",
   "execution_count": 29,
   "id": "14f50015-9953-4c8c-950f-c2301438e3c8",
   "metadata": {},
   "outputs": [
    {
     "name": "stdout",
     "output_type": "stream",
     "text": [
      "False\n"
     ]
    }
   ],
   "source": [
    "def common_list(list1,list2):\n",
    "    # Iterate through elements in list1\n",
    "    for element in list1:\n",
    "        # Check if the element is in list2\n",
    "        if element in list2:\n",
    "            return True\n",
    "        else:\n",
    "            return False\n",
    "\n",
    "# Example usage\n",
    "result = common_list([1, 2, 3, 4], [11, 12, 13, 5])\n",
    "print(result) "
   ]
  },
  {
   "cell_type": "markdown",
   "id": "6ce960f1-5459-4463-b8d9-d5d64717bc97",
   "metadata": {},
   "source": [
    "41. Remove all elements from a list."
   ]
  },
  {
   "cell_type": "code",
   "execution_count": 31,
   "id": "1d62500a-f0bb-487d-9b4b-b39a1b1a6503",
   "metadata": {},
   "outputs": [
    {
     "name": "stdout",
     "output_type": "stream",
     "text": [
      "Empty List: []\n"
     ]
    }
   ],
   "source": [
    "my_list = [1, 2, 3, 4, 5, 6, 7, 8, 9, 10]\n",
    "\n",
    "# Clear the list, removing all elements\n",
    "my_list.clear()\n",
    "\n",
    "# Print the empty list\n",
    "print(\"Empty List:\",my_list) "
   ]
  },
  {
   "cell_type": "markdown",
   "id": "3d892715-b817-40f7-b496-537f334914df",
   "metadata": {},
   "source": [
    "42. Replace negative numbers in a list with 0."
   ]
  },
  {
   "cell_type": "code",
   "execution_count": 39,
   "id": "7b60d237-d38a-4c21-83d9-b027f635974c",
   "metadata": {},
   "outputs": [
    {
     "name": "stdout",
     "output_type": "stream",
     "text": [
      "Zero replaced List: [1, 2, 3, 4, 0, 0, 0, 0]\n"
     ]
    }
   ],
   "source": [
    "my_list=[1,2,3,4,-2,-6,-7,-8]\n",
    "\n",
    "for i in range(len(my_list)):\n",
    "    # Replace negative values with zero\n",
    "    if my_list[i] < 0:\n",
    "        my_list[i] = 0\n",
    "\n",
    "# Print the list after replacing negative values with zero\n",
    "print(\"Zero replaced List:\", my_list)"
   ]
  },
  {
   "cell_type": "markdown",
   "id": "68acabb1-abbb-42c0-a01e-3a531305d127",
   "metadata": {},
   "source": [
    "43. Convert a string into a list of words."
   ]
  },
  {
   "cell_type": "code",
   "execution_count": 43,
   "id": "218ac2cb-2aac-4379-9d82-74d51ca8ee9c",
   "metadata": {},
   "outputs": [
    {
     "name": "stdout",
     "output_type": "stream",
     "text": [
      "String to List of words: ['Hello', 'Pw', 'Skills']\n"
     ]
    }
   ],
   "source": [
    "my_string=\"Hello Pw Skills\"\n",
    "# Split the string into a list of words\n",
    "my_list = my_string.split()\n",
    "\n",
    "# Print the result\n",
    "print(\"String to List of words:\", my_list)"
   ]
  },
  {
   "cell_type": "markdown",
   "id": "646e7683-bfa1-4810-ae20-d6bd5aeb7113",
   "metadata": {},
   "source": [
    "44. Convert a list of words into a string."
   ]
  },
  {
   "cell_type": "code",
   "execution_count": 45,
   "id": "e96e0f2b-4d00-48b6-966d-7e2efd65df7b",
   "metadata": {},
   "outputs": [
    {
     "name": "stdout",
     "output_type": "stream",
     "text": [
      "List to String: Hello World , Good Morning!\n"
     ]
    }
   ],
   "source": [
    "my_list=[\"Hello\",\"World\",\",\",\"Good\",\"Morning!\"]\n",
    "# Join the elements of the list into a string with spaces in between\n",
    "my_string = \" \".join(my_list)\n",
    "\n",
    "# Print the result\n",
    "print(\"List to String:\", my_string)"
   ]
  },
  {
   "cell_type": "markdown",
   "id": "148a41c0-8715-43bd-a32a-2e9aa97cc820",
   "metadata": {},
   "source": [
    "45. Create a list of the first `n` powers of 2."
   ]
  },
  {
   "cell_type": "code",
   "execution_count": 53,
   "id": "4fc60fed-e8b6-465f-b5e9-18252fad8066",
   "metadata": {},
   "outputs": [
    {
     "name": "stdout",
     "output_type": "stream",
     "text": [
      "List of 5 powers of 2: [1, 2, 4, 8, 16]\n"
     ]
    }
   ],
   "source": [
    "n=5\n",
    "# Generate a list of powers of 2 up to 2^(n-1)\n",
    "power_list = [2**i for i in range(n)]\n",
    "\n",
    "# Print the result\n",
    "print(f\"List of {n} powers of 2: {power_list}\")"
   ]
  },
  {
   "cell_type": "markdown",
   "id": "0747c073-b002-457b-8285-d6f25ff87319",
   "metadata": {},
   "source": [
    "46. Find the longest string in a list of strings."
   ]
  },
  {
   "cell_type": "code",
   "execution_count": 58,
   "id": "4547b2f0-c6d2-47ed-b6e6-44b5928b5f87",
   "metadata": {},
   "outputs": [
    {
     "name": "stdout",
     "output_type": "stream",
     "text": [
      "Longest String: pwskills\n"
     ]
    }
   ],
   "source": [
    "my_string=[\"Hello\",\"pwskills\",\"Data\",\"DSA\"]\n",
    "longest_string = \" \"\n",
    "\n",
    "# Iterate through the words in the list\n",
    "for word in my_string:\n",
    "    # Check if the current word is longer than the current longest string\n",
    "    if len(word) > len(longest_string):\n",
    "        longest_string = word\n",
    "\n",
    "# Print the longest string\n",
    "print(\"Longest String:\", longest_string)"
   ]
  },
  {
   "cell_type": "markdown",
   "id": "70217005-c55a-4317-bb39-c16b9608547f",
   "metadata": {},
   "source": [
    "47. Find the shortest string in a list of strings."
   ]
  },
  {
   "cell_type": "code",
   "execution_count": 61,
   "id": "5d22cb9f-c3a8-4682-b423-8b9e4da591e6",
   "metadata": {},
   "outputs": [
    {
     "name": "stdout",
     "output_type": "stream",
     "text": [
      "Shortest String: DSA\n"
     ]
    }
   ],
   "source": [
    "my_string=[\"Hello\",\"pwskills\",\"Data\",\"DSA\"]\n",
    "shortest_string =my_string[0]\n",
    "\n",
    "# Iterate through the words in the list\n",
    "for word in my_string:\n",
    "    # Check if the current word is shorter than the current shortest string\n",
    "    if len(word) < len(shortest_string):\n",
    "        shortest_string = word\n",
    "\n",
    "# Print the longest string\n",
    "print(\"Shortest String:\", shortest_string)"
   ]
  },
  {
   "cell_type": "markdown",
   "id": "baa4847d-5e8e-4391-8b74-c12f65ac44f3",
   "metadata": {},
   "source": [
    "48. Create a list of the first `n` triangular numbers."
   ]
  },
  {
   "cell_type": "code",
   "execution_count": 68,
   "id": "f0314c4e-0443-46cc-8436-1efaab3074b9",
   "metadata": {},
   "outputs": [
    {
     "name": "stdout",
     "output_type": "stream",
     "text": [
      "[0, 1, 3, 6, 10, 15]\n"
     ]
    }
   ],
   "source": [
    "def triangular_numbers(num):\n",
    "    # Use list comprehension to calculate triangular numbers for each value of n\n",
    "    return [n * (n + 1) // 2 for n in range(num + 1)]\n",
    "\n",
    "# Example usage to generate the first 6 triangular numbers\n",
    "result = triangular_numbers(5)\n",
    "print(result)"
   ]
  },
  {
   "cell_type": "markdown",
   "id": "e4095aa4-3759-42ce-80be-c3147aac775d",
   "metadata": {},
   "source": [
    "49. Check if a list contains another list as a subsequence."
   ]
  },
  {
   "cell_type": "code",
   "execution_count": 72,
   "id": "1038a700-ef93-4b5d-802c-ad576df36c2d",
   "metadata": {},
   "outputs": [
    {
     "name": "stdout",
     "output_type": "stream",
     "text": [
      "Sublist found: ['a', 'b']\n",
      "Sublist found: [7, 8]\n"
     ]
    }
   ],
   "source": [
    "my_list = [1, 2, 3, [\"a\", \"b\"], 6,[7,8]]\n",
    "\n",
    "# Iterate through elements in my_list\n",
    "for element in my_list:\n",
    "    # Check if the element is a list\n",
    "    if isinstance(element, list):\n",
    "        print(\"Sublist found:\", element)"
   ]
  },
  {
   "cell_type": "code",
   "execution_count": 73,
   "id": "672445bd-6b76-442b-836a-e4b01dbf7e8a",
   "metadata": {},
   "outputs": [
    {
     "name": "stdout",
     "output_type": "stream",
     "text": [
      "Main list contains the subsequence.\n"
     ]
    }
   ],
   "source": [
    "# Function to check if a list contains another list as a subsequence\n",
    "def is_subsequence(subsequence, main_list):\n",
    "    subseq_index = 0  # Index for the subsequence elements\n",
    "    for element in main_list:\n",
    "        if element == subsequence[subseq_index]:\n",
    "            subseq_index += 1\n",
    "            if subseq_index == len(subsequence):\n",
    "                return True\n",
    "    return False\n",
    "\n",
    "# Example main list and subsequence\n",
    "main_list = [1, 2, 3, 4, 5, 6, 7, 8, 9, 10]\n",
    "subsequence = [3, 5, 8]\n",
    "\n",
    "# Check if the main list contains the subsequence\n",
    "if is_subsequence(subsequence, main_list):\n",
    "    print(\"Main list contains the subsequence.\")\n",
    "else:\n",
    "    print(\"Main list does not contain the subsequence.\")"
   ]
  },
  {
   "cell_type": "markdown",
   "id": "9057f1e7-b2bc-42bc-8f17-92cb4d4bf060",
   "metadata": {},
   "source": [
    "50. Swap two elements in a list by their indices."
   ]
  },
  {
   "cell_type": "code",
   "execution_count": 80,
   "id": "21db3332-7b4e-40f2-b2b2-fc6d57870a4e",
   "metadata": {},
   "outputs": [
    {
     "name": "stdout",
     "output_type": "stream",
     "text": [
      "List after swapping elements: [1, 4, 3, 2, 5]\n"
     ]
    }
   ],
   "source": [
    "def swap_elements(lst,index1,index2):\n",
    "   # Perform the swap\n",
    "    lst[index1], lst[index2] = lst[index2], lst[index1]\n",
    "\n",
    "    return lst\n",
    "\n",
    "# Example usage\n",
    "my_list = [1, 2, 3, 4, 5]\n",
    "index_to_swap1 = 1\n",
    "index_to_swap2 = 3\n",
    "\n",
    "result = swap_elements(my_list, index_to_swap1, index_to_swap2)\n",
    "print(\"List after swapping elements:\", result)"
   ]
  },
  {
   "cell_type": "markdown",
   "id": "6e4edb77-77dc-4880-b7af-71758ff4e06d",
   "metadata": {},
   "source": [
    "#### Tuple Based Practice Problem :"
   ]
  },
  {
   "cell_type": "markdown",
   "id": "6ef24b7e-df2a-4055-8912-43fc9a8c0ca0",
   "metadata": {},
   "source": [
    "1. Create a tuple with integers from 1 to 5."
   ]
  },
  {
   "cell_type": "code",
   "execution_count": 82,
   "id": "a4c2a76a-82a9-4f16-bc69-2cb41e4652a2",
   "metadata": {},
   "outputs": [
    {
     "name": "stdout",
     "output_type": "stream",
     "text": [
      "(1, 2, 3, 4, 5)\n"
     ]
    }
   ],
   "source": [
    "my_tuple=tuple(range(1,6))\n",
    "print(my_tuple)\n",
    "            "
   ]
  },
  {
   "cell_type": "markdown",
   "id": "0774c19b-4e45-4411-ade5-626fbb9bfba1",
   "metadata": {},
   "source": [
    "2. Access the third element of a tuple."
   ]
  },
  {
   "cell_type": "code",
   "execution_count": 85,
   "id": "b6332d7f-2e15-4865-b625-f2d65a794730",
   "metadata": {},
   "outputs": [
    {
     "name": "stdout",
     "output_type": "stream",
     "text": [
      "Third element of the tuple 30\n"
     ]
    }
   ],
   "source": [
    "my_tuple=(10,20,30,4,50)\n",
    "print(\"Third element of the tuple\",my_tuple[2])"
   ]
  },
  {
   "cell_type": "markdown",
   "id": "a867652b-29d0-4e03-a00a-bc9189b9dc54",
   "metadata": {},
   "source": [
    "3. Find the length of a tuple without using the `len()` function."
   ]
  },
  {
   "cell_type": "code",
   "execution_count": 88,
   "id": "bea72177-4dce-4bdb-80c4-15203961b42d",
   "metadata": {},
   "outputs": [
    {
     "name": "stdout",
     "output_type": "stream",
     "text": [
      "9\n"
     ]
    }
   ],
   "source": [
    "my_tuple=(1,2,3,4,5,6,7,8,9)\n",
    "# Initialize a counter variable to count the elements in the tuple\n",
    "count = 0\n",
    "\n",
    "# Iterate through the elements of the tuple using a loop\n",
    "for _ in my_tuple:\n",
    "    count += 1\n",
    "\n",
    "# Print the count\n",
    "print(count)"
   ]
  },
  {
   "cell_type": "markdown",
   "id": "e71287f5-f82b-4be7-8d16-1cb8445fb24e",
   "metadata": {},
   "source": [
    "4. Count the occurrences of an element in a tuple."
   ]
  },
  {
   "cell_type": "code",
   "execution_count": 97,
   "id": "68e375f9-0172-417c-9cb2-2dce51ce54b3",
   "metadata": {},
   "outputs": [
    {
     "name": "stdout",
     "output_type": "stream",
     "text": [
      "1: 2 \n",
      "2: 1 \n",
      "3: 2 \n",
      "4: 1 \n",
      "5: 2 \n",
      "6: 1 \n",
      "7: 2 \n"
     ]
    }
   ],
   "source": [
    "my_tuple = (1, 1, 2, 3, 3, 4, 5, 5, 6, 7, 7)\n",
    "\n",
    "# Initialize an empty dictionary to count occurrences\n",
    "count_dict = {}\n",
    "\n",
    "# Iterate through each element in my_tuple\n",
    "for element in my_tuple:\n",
    "    # Check if the element is already a key in the dictionary\n",
    "    if element in count_dict:\n",
    "        count_dict[element] += 1\n",
    "    else:\n",
    "        # If the element is not in the dictionary, create a new key with value 1\n",
    "        count_dict[element] = 1\n",
    "\n",
    "# Print the count of occurrences for each element\n",
    "for element, count in count_dict.items():\n",
    "    print(f\"{element}: {count} \")\n",
    "        "
   ]
  },
  {
   "cell_type": "code",
   "execution_count": 103,
   "id": "9a7ee646-7a22-4417-a5cd-35e99110cc3a",
   "metadata": {},
   "outputs": [
    {
     "name": "stdout",
     "output_type": "stream",
     "text": [
      "3\n"
     ]
    }
   ],
   "source": [
    "my_tuple = (1, 1, 2, 3, 3, 3, 5, 5, 6, 7, 7)\n",
    "element_to_be_count = 3\n",
    "count = 0\n",
    "\n",
    "# Iterate through each element in my_tuple\n",
    "for element in my_tuple:\n",
    "    # Check if the current element is equal to the specified number\n",
    "    if element == element_to_be_count:\n",
    "        count += 1\n",
    "\n",
    "# Print the count of occurrences of the specified number\n",
    "print(count)"
   ]
  },
  {
   "cell_type": "markdown",
   "id": "38e4f57a-8f63-4487-81e3-324467f06011",
   "metadata": {},
   "source": [
    "5. Find the index of the first occurrence of an element in a tuple."
   ]
  },
  {
   "cell_type": "code",
   "execution_count": 9,
   "id": "f4322a6d-e18f-4a99-9e55-7622b1b822d8",
   "metadata": {},
   "outputs": [
    {
     "name": "stdout",
     "output_type": "stream",
     "text": [
      "Element 500 not found in the tuple\n"
     ]
    }
   ],
   "source": [
    "my_tupe=[100,200,300,400,500,500,600]\n",
    "element_to_find=500\n",
    "try:\n",
    "    # Attempt to find the index of the specified element in the tuple\n",
    "    index_of_element = my_tuple.index(element_to_find)\n",
    "    print(f\"Element {element_to_find} is found at index {index_of_element}\")\n",
    "except ValueError:\n",
    "    # Handle the case where the element is not found in the tuple\n",
    "    print(f\"Element {element_to_find} not found in the tuple\")"
   ]
  },
  {
   "cell_type": "markdown",
   "id": "ea29a115-5aba-4cbb-95f0-752d5294e480",
   "metadata": {},
   "source": [
    "6. Check if an element exists in a tuple."
   ]
  },
  {
   "cell_type": "code",
   "execution_count": 11,
   "id": "a7ccfd38-3d84-4112-a8cf-5b0337f772e3",
   "metadata": {},
   "outputs": [
    {
     "name": "stdout",
     "output_type": "stream",
     "text": [
      "Element 16 found\n"
     ]
    }
   ],
   "source": [
    "my_tuple=(12,13,4,15,16,17)\n",
    "element_to_find=16\n",
    "\n",
    "# Check if the specified element is present in the tuple\n",
    "if element_to_find in my_tuple:\n",
    "    print(f\"Element {element_to_find} found\")\n",
    "else:\n",
    "    print(f\"Element {element_to_find} not in the tuple\")"
   ]
  },
  {
   "cell_type": "markdown",
   "id": "92e290b3-2a1f-4fbf-b01c-3d977bb9961b",
   "metadata": {},
   "source": [
    "7. Convert a tuple to a list."
   ]
  },
  {
   "cell_type": "code",
   "execution_count": 15,
   "id": "d0007c38-f6b1-41d8-94af-5365a5e8fb31",
   "metadata": {},
   "outputs": [
    {
     "name": "stdout",
     "output_type": "stream",
     "text": [
      "Converted list: [12, 13, 4, 15, 16, 17]\n"
     ]
    }
   ],
   "source": [
    "my_tuple=(12,13,4,15,16,17)\n",
    "\n",
    "print(\"Converted list:\",list(my_tuple))"
   ]
  },
  {
   "cell_type": "markdown",
   "id": "112ae54d-8eac-41ca-b6cd-e41f18828f11",
   "metadata": {},
   "source": [
    "8. Convert a list to a tuple."
   ]
  },
  {
   "cell_type": "code",
   "execution_count": 14,
   "id": "c47d580a-23e3-4336-95b8-18d688fc3b71",
   "metadata": {},
   "outputs": [
    {
     "name": "stdout",
     "output_type": "stream",
     "text": [
      "Converted tuple: (12, 13, 4, 15, 16, 17)\n"
     ]
    }
   ],
   "source": [
    "my_list=[12,13,4,15,16,17]\n",
    "\n",
    "print(\"Converted tuple:\",tuple(my_list))"
   ]
  },
  {
   "cell_type": "markdown",
   "id": "723ba721-1b73-4d0f-af47-6ab898e2186b",
   "metadata": {},
   "source": [
    "9. Unpack the elements of a tuple into variables."
   ]
  },
  {
   "cell_type": "code",
   "execution_count": 25,
   "id": "9c8f041c-193b-4384-98a0-b1fad535707d",
   "metadata": {},
   "outputs": [
    {
     "name": "stdout",
     "output_type": "stream",
     "text": [
      "var1: 10\n",
      "var2: 20\n",
      "var3: 30\n"
     ]
    }
   ],
   "source": [
    "# Unpack the values from the tuple into individual variables\n",
    "var1, var2, var3 = my_tuple\n",
    "\n",
    "# Print the values of the variables\n",
    "print(f\"var1: {var1}\\nvar2: {var2}\\nvar3: {var3}\")"
   ]
  },
  {
   "cell_type": "markdown",
   "id": "64b9d51d-2389-48c3-949c-5d6e52c59380",
   "metadata": {},
   "source": [
    "10. Create a tuple of even numbers from 1 to 10."
   ]
  },
  {
   "cell_type": "code",
   "execution_count": 1,
   "id": "66dbef7f-e973-4eb6-aeb7-d9e9f95c6ecc",
   "metadata": {},
   "outputs": [
    {
     "name": "stdout",
     "output_type": "stream",
     "text": [
      "Even numbers tuple: (2, 4, 6, 8, 10)\n"
     ]
    }
   ],
   "source": [
    "# Using list comprehension to create a list of even numbers from 1 to 10\n",
    "even_list = [element for element in range(1, 11) if element % 2 == 0]\n",
    "\n",
    "# Converting the list to a tuple and printing the result\n",
    "print(\"Even numbers tuple:\", tuple(even_list))"
   ]
  },
  {
   "cell_type": "markdown",
   "id": "47d9cc4e-40d7-44ba-8d22-f8b7161bf331",
   "metadata": {},
   "source": [
    "11. Create a tuple of odd numbers from 1 to 10."
   ]
  },
  {
   "cell_type": "code",
   "execution_count": 2,
   "id": "7f626369-d66f-4f58-8a49-ef2833fd99ef",
   "metadata": {},
   "outputs": [
    {
     "name": "stdout",
     "output_type": "stream",
     "text": [
      "Odd numbers tuple: (1, 3, 5, 7, 9)\n"
     ]
    }
   ],
   "source": [
    "# Using list comprehension to create a list of odd numbers from 1 to 10\n",
    "odd_list = [element for element in range(1, 11) if element % 2 != 0]\n",
    "\n",
    "# Converting the list to a tuple and printing the result\n",
    "print(\"Odd numbers tuple:\", tuple(odd_list))"
   ]
  },
  {
   "cell_type": "markdown",
   "id": "bd2764f8-771d-4b95-937f-f7dbb57388cd",
   "metadata": {},
   "source": [
    "12. Concatenate two tuples."
   ]
  },
  {
   "cell_type": "code",
   "execution_count": 5,
   "id": "85311bbb-0305-4a69-85fd-aad68e3565da",
   "metadata": {},
   "outputs": [
    {
     "name": "stdout",
     "output_type": "stream",
     "text": [
      "Concatenated Tuple: (1, 2, 3, 4, 5, 6, 7, 8, 9, 10)\n"
     ]
    }
   ],
   "source": [
    "# Two tuples to be concatenated\n",
    "tuple1 = (1, 2, 3, 4, 5)\n",
    "tuple2 = (6, 7, 8, 9, 10)\n",
    "\n",
    "# Concatenating the two tuples using the + operator\n",
    "conc_tuple = tuple1 + tuple2\n",
    "\n",
    "# Printing the result\n",
    "print(\"Concatenated Tuple:\", conc_tuple)"
   ]
  },
  {
   "cell_type": "markdown",
   "id": "f2cce794-05b8-43cd-8a7d-09646046c670",
   "metadata": {},
   "source": [
    "13. Repeat a tuple three times."
   ]
  },
  {
   "cell_type": "code",
   "execution_count": 7,
   "id": "3634f94f-4f2c-4e6b-a9bb-262cc3bf9d98",
   "metadata": {},
   "outputs": [
    {
     "name": "stdout",
     "output_type": "stream",
     "text": [
      "Repeated tuple: (1, 2, 3, 4, 5, 1, 2, 3, 4, 5, 1, 2, 3, 4, 5)\n"
     ]
    }
   ],
   "source": [
    "# Original tuple\n",
    "tuple1 = (1, 2, 3, 4, 5)\n",
    "\n",
    "# Repeating the tuple three times using the * operator\n",
    "repeated_tuple = tuple1 * 3\n",
    "\n",
    "# Printing the result\n",
    "print(\"Repeated tuple:\", repeated_tuple)"
   ]
  },
  {
   "cell_type": "markdown",
   "id": "bbf7473c-963c-4995-a743-174d3557937e",
   "metadata": {},
   "source": [
    "14. Check if a tuple is empty."
   ]
  },
  {
   "cell_type": "code",
   "execution_count": 10,
   "id": "8be3feaf-7722-4199-a7a8-ea14ab6fe7f9",
   "metadata": {},
   "outputs": [
    {
     "name": "stdout",
     "output_type": "stream",
     "text": [
      "The empty_tuple is empty.\n",
      "The non_empty_tuple is not empty.\n"
     ]
    }
   ],
   "source": [
    "# Step 1: Define two tuples\n",
    "empty_tuple = ()\n",
    "non_empty_tuple = (1, 2, 3)\n",
    "\n",
    "# Step 2: Check if the tuples are empty\n",
    "if not empty_tuple:\n",
    "    print(\"The empty_tuple is empty.\")\n",
    "else:\n",
    "    print(\"The empty_tuple is not empty.\")\n",
    "\n",
    "if not non_empty_tuple:\n",
    "    print(\"The non_empty_tuple is empty.\")\n",
    "else:\n",
    "    print(\"The non_empty_tuple is not empty.\")"
   ]
  },
  {
   "cell_type": "markdown",
   "id": "df00a6fa-b544-47e9-8787-4d138071e236",
   "metadata": {},
   "source": [
    "15. Create a nested tuple."
   ]
  },
  {
   "cell_type": "code",
   "execution_count": 11,
   "id": "ee737688-5645-4edc-aa90-a4246e5fdb02",
   "metadata": {},
   "outputs": [
    {
     "name": "stdout",
     "output_type": "stream",
     "text": [
      "Nested tuple: ((1, 2, 3), ('a', 'b', 'c'), (True, False))\n"
     ]
    }
   ],
   "source": [
    "# Step 1: Create a nested tuple\n",
    "nested_tuple = ((1, 2, 3), ('a', 'b', 'c'), (True, False))\n",
    "\n",
    "# Step 2: Print the nested tuple\n",
    "print(\"Nested tuple:\", nested_tuple)"
   ]
  },
  {
   "cell_type": "markdown",
   "id": "cea7605b-716a-4c15-b093-8180955fe44d",
   "metadata": {},
   "source": [
    "16. Access the first element of a nested tuple."
   ]
  },
  {
   "cell_type": "code",
   "execution_count": 15,
   "id": "0447869d-afe5-435b-9745-fd48341be3ef",
   "metadata": {},
   "outputs": [
    {
     "name": "stdout",
     "output_type": "stream",
     "text": [
      "(1, 2, 3)\n"
     ]
    }
   ],
   "source": [
    "# Original nested tuple\n",
    "nested_tuple = ((1, 2, 3), ('a', 'b', 'c'), (True, False))\n",
    "\n",
    "# Accessing the first element of the outer tuple\n",
    "first_element = nested_tuple[0]\n",
    "\n",
    "# Printing the result\n",
    "print(first_element)"
   ]
  },
  {
   "cell_type": "markdown",
   "id": "0e0fb4a5-dd20-4c2d-9645-43ab80e860f4",
   "metadata": {},
   "source": [
    "17. Create a tuple with a single element."
   ]
  },
  {
   "cell_type": "code",
   "execution_count": 18,
   "id": "e1ba3147-1e74-495e-ac0d-b7f62c112ca5",
   "metadata": {},
   "outputs": [
    {
     "name": "stdout",
     "output_type": "stream",
     "text": [
      "Single Element Tuple: (7,)\n"
     ]
    }
   ],
   "source": [
    "# Creating a single-element tuple\n",
    "single_ele_tuple = (7,)\n",
    "\n",
    "# Printing the single-element tuple\n",
    "print(\"Single Element Tuple:\", single_ele_tuple)"
   ]
  },
  {
   "cell_type": "markdown",
   "id": "9301ae04-eab3-4f05-9e97-15bf67200bae",
   "metadata": {},
   "source": [
    "18. Compare two tuples."
   ]
  },
  {
   "cell_type": "code",
   "execution_count": 19,
   "id": "1b8b674b-7baa-49e5-84b0-0aa59ad2dac6",
   "metadata": {},
   "outputs": [
    {
     "name": "stdout",
     "output_type": "stream",
     "text": [
      "tuple1 == tuple2: False\n",
      "tuple1 != tuple2: True\n",
      "tuple1 < tuple2: True\n",
      "tuple1 <= tuple2: True\n",
      "tuple1 > tuple2: False\n",
      "tuple1 >= tuple2: False\n"
     ]
    }
   ],
   "source": [
    "# Step 1: Create two tuples\n",
    "tuple1 = (1, 2, 3)\n",
    "tuple2 = (1, 2, 4)\n",
    "\n",
    "# Step 2: Compare the two tuples using comparison operators\n",
    "print(\"tuple1 == tuple2:\", tuple1 == tuple2)  # Equality check\n",
    "print(\"tuple1 != tuple2:\", tuple1 != tuple2)  # Inequality check\n",
    "print(\"tuple1 < tuple2:\", tuple1 < tuple2)    # Less than check\n",
    "print(\"tuple1 <= tuple2:\", tuple1 <= tuple2)  # Less than or equal to check\n",
    "print(\"tuple1 > tuple2:\", tuple1 > tuple2)    # Greater than check\n",
    "print(\"tuple1 >= tuple2:\", tuple1 >= tuple2)  # Greater than or equal to check"
   ]
  },
  {
   "cell_type": "markdown",
   "id": "1906ecab-2636-4a34-8946-fee7c6837fcf",
   "metadata": {},
   "source": [
    "19. Delete a tuple."
   ]
  },
  {
   "cell_type": "code",
   "execution_count": 23,
   "id": "a2fd924a-02b2-42ee-8daa-e48fba43bf77",
   "metadata": {},
   "outputs": [
    {
     "ename": "NameError",
     "evalue": "name 'my_tuple' is not defined",
     "output_type": "error",
     "traceback": [
      "\u001b[0;31m---------------------------------------------------------------------------\u001b[0m",
      "\u001b[0;31mNameError\u001b[0m                                 Traceback (most recent call last)",
      "Cell \u001b[0;32mIn[23], line 3\u001b[0m\n\u001b[1;32m      1\u001b[0m my_tuple\u001b[38;5;241m=\u001b[39m(\u001b[38;5;241m1\u001b[39m,\u001b[38;5;241m2\u001b[39m,\u001b[38;5;241m3\u001b[39m,\u001b[38;5;241m4\u001b[39m,\u001b[38;5;241m5\u001b[39m)\n\u001b[1;32m      2\u001b[0m \u001b[38;5;28;01mdel\u001b[39;00m my_tuple\n\u001b[0;32m----> 3\u001b[0m \u001b[38;5;28mprint\u001b[39m(\u001b[38;5;124m\"\u001b[39m\u001b[38;5;124mDeleted tuple:\u001b[39m\u001b[38;5;124m\"\u001b[39m,\u001b[43mmy_tuple\u001b[49m)\n",
      "\u001b[0;31mNameError\u001b[0m: name 'my_tuple' is not defined"
     ]
    }
   ],
   "source": [
    "my_tuple=(1,2,3,4,5)\n",
    "del my_tuple\n",
    "print(\"Deleted tuple:\",my_tuple)"
   ]
  },
  {
   "cell_type": "markdown",
   "id": "dd339ed0-9f03-418d-8f7d-c5ae079b9ea4",
   "metadata": {},
   "source": [
    "20. Slice a tuple."
   ]
  },
  {
   "cell_type": "code",
   "execution_count": 28,
   "id": "1cc22355-fc5a-4c5b-b1fb-16bceffe6fde",
   "metadata": {},
   "outputs": [
    {
     "name": "stdout",
     "output_type": "stream",
     "text": [
      "Sliced tuple: (4, 5, 6, 7, 8)\n"
     ]
    }
   ],
   "source": [
    "# Create a tuple\n",
    "my_tuple = (1, 2, 3, 4, 5, 6, 7, 8, 9, 10)\n",
    "\n",
    "# Slice the tuple to get a portion of it\n",
    "sliced_tuple = my_tuple[3:8]  # Elements from index 3 to 8 (end index is exclusive)\n",
    "\n",
    "# Print the sliced tuple\n",
    "print(\"Sliced tuple:\", sliced_tuple)"
   ]
  },
  {
   "cell_type": "markdown",
   "id": "ed580f34-fc0d-448c-bd6f-2fa762ae279d",
   "metadata": {},
   "source": [
    "21. Find the maximum value in a tuple."
   ]
  },
  {
   "cell_type": "code",
   "execution_count": 30,
   "id": "5bf57a02-65f8-4d05-91f0-a30b10bbe0d9",
   "metadata": {},
   "outputs": [
    {
     "name": "stdout",
     "output_type": "stream",
     "text": [
      "Maximum value: 500\n"
     ]
    }
   ],
   "source": [
    "# Create a tuple\n",
    "my_tuple = (100, 200, 500, 145, 230)\n",
    "\n",
    "# Find the maximum value in the tuple using the 'max()' function\n",
    "max_value = max(my_tuple)\n",
    "\n",
    "#  Print the maximum value\n",
    "print(\"Maximum value:\", max_value)"
   ]
  },
  {
   "cell_type": "markdown",
   "id": "6c60f135-656e-4b64-b793-6365f027c238",
   "metadata": {},
   "source": [
    "22. Find the minimum value in a tuple."
   ]
  },
  {
   "cell_type": "code",
   "execution_count": 31,
   "id": "eb12632f-4615-4b8d-94a6-0ebba9780790",
   "metadata": {},
   "outputs": [
    {
     "name": "stdout",
     "output_type": "stream",
     "text": [
      "Minimum value: 100\n"
     ]
    }
   ],
   "source": [
    "# Create a tuple\n",
    "my_tuple = (100, 200, 500, 145, 230)\n",
    "\n",
    "# Find the minimum value in the tuple using the 'min()' function\n",
    "min_value = min(my_tuple)\n",
    "\n",
    "# Step 3: Print the maximum value\n",
    "print(\"Minimum value:\", min_value)"
   ]
  },
  {
   "cell_type": "markdown",
   "id": "e4da4ec9-c01f-4508-81a5-ffa1dc1a1e5d",
   "metadata": {},
   "source": [
    "23. Convert a string to a tuple of characters."
   ]
  },
  {
   "cell_type": "code",
   "execution_count": 32,
   "id": "9fdae01a-a52b-4181-88ba-a0d67caa6c4c",
   "metadata": {},
   "outputs": [
    {
     "name": "stdout",
     "output_type": "stream",
     "text": [
      "Tuple of characters: ('H', 'e', 'l', 'l', 'o', ',', ' ', 'W', 'o', 'r', 'l', 'd', '!')\n"
     ]
    }
   ],
   "source": [
    "# Create a string\n",
    "my_string = \"Hello, World!\"\n",
    "\n",
    "#Convert the string to a tuple of characters\n",
    "tuple_of_characters = tuple(my_string)\n",
    "\n",
    "# Print the tuple of characters\n",
    "print(\"Tuple of characters:\", tuple_of_characters)"
   ]
  },
  {
   "cell_type": "markdown",
   "id": "84c05782-210b-4790-8ece-99426679f29a",
   "metadata": {},
   "source": [
    "24. Convert a tuple of characters to a string."
   ]
  },
  {
   "cell_type": "code",
   "execution_count": 33,
   "id": "ce7e7d63-6942-4185-81c1-740c289d948f",
   "metadata": {},
   "outputs": [
    {
     "name": "stdout",
     "output_type": "stream",
     "text": [
      "String from tuple: Hello World!\n"
     ]
    }
   ],
   "source": [
    "# Create a tuple of characters\n",
    "tuple_of_characters = ('H', 'e', 'l', 'l', 'o', ' ', 'W', 'o', 'r', 'l', 'd', '!')\n",
    "\n",
    "# Convert the tuple of characters to a string using the 'join()' method\n",
    "string_from_tuple = ''.join(tuple_of_characters)\n",
    "\n",
    "# Print the resulting string\n",
    "print(\"String from tuple:\", string_from_tuple)"
   ]
  },
  {
   "cell_type": "markdown",
   "id": "af08b42a-6d97-4bb5-98a4-4bbd03b06def",
   "metadata": {},
   "source": [
    "25. Create a tuple from multiple data types."
   ]
  },
  {
   "cell_type": "code",
   "execution_count": 34,
   "id": "7946b775-5781-4823-9a12-96f9164980a9",
   "metadata": {},
   "outputs": [
    {
     "name": "stdout",
     "output_type": "stream",
     "text": [
      "(1, 'hello', 3.14, True)\n"
     ]
    }
   ],
   "source": [
    "# Creating a tuple with elements of different data types\n",
    "mixed_tuple = (1, \"hello\", 3.14, True)\n",
    "\n",
    "# Printing the tuple\n",
    "print(mixed_tuple)"
   ]
  },
  {
   "cell_type": "markdown",
   "id": "b902288b-9a08-482e-9a4d-1c75e0c2f86a",
   "metadata": {},
   "source": [
    "26. Check if two tuples are identical."
   ]
  },
  {
   "cell_type": "code",
   "execution_count": 7,
   "id": "3c5868ea-c805-4574-a0ef-f5fdb88b8809",
   "metadata": {},
   "outputs": [
    {
     "name": "stdout",
     "output_type": "stream",
     "text": [
      "Tuples are identical\n"
     ]
    }
   ],
   "source": [
    "# Original tuples\n",
    "tuple1 = (2, 3, 4, 5)\n",
    "tuple2 = (5, 4, 3, 2)\n",
    "\n",
    "# Sorting tuple2\n",
    "tuple1 = sorted(tuple1)\n",
    "tuple2 = sorted(tuple2)\n",
    "\n",
    "# Checking if the sorted tuple2 is identical to tuple1\n",
    "if tuple1 == tuple2:\n",
    "    print(\"Tuples are identical\")\n",
    "else:\n",
    "    print(\"Tuples are not identical\")"
   ]
  },
  {
   "cell_type": "markdown",
   "id": "34368baf-45cf-4f5c-9ef0-abefbd1c207d",
   "metadata": {},
   "source": [
    "27. Sort the elements of a tuple."
   ]
  },
  {
   "cell_type": "code",
   "execution_count": 10,
   "id": "67912243-edcf-4e44-b5aa-29700c83d336",
   "metadata": {},
   "outputs": [
    {
     "name": "stdout",
     "output_type": "stream",
     "text": [
      "Sorted tuple: (67, 89, 123, 132)\n"
     ]
    }
   ],
   "source": [
    "# Create a tuple\n",
    "my_tuple = (123,132,67,89)\n",
    "\n",
    "# Convert the tuple to a list, sort the list, and convert it back to a tuple\n",
    "sorted_tuple = tuple(sorted(my_tuple))\n",
    "\n",
    "# Print the sorted tuple\n",
    "print(\"Sorted tuple:\", sorted_tuple)"
   ]
  },
  {
   "cell_type": "markdown",
   "id": "88ebe098-0fad-40c1-be32-28722325cc5e",
   "metadata": {},
   "source": [
    "28. Convert a tuple of integers to a tuple of strings."
   ]
  },
  {
   "cell_type": "code",
   "execution_count": 13,
   "id": "1762115b-07c2-4e44-8f6e-0a7552e38316",
   "metadata": {},
   "outputs": [
    {
     "name": "stdout",
     "output_type": "stream",
     "text": [
      "['1', '2', '3', '4', '5']\n"
     ]
    }
   ],
   "source": [
    "#Create a tuple of integers\n",
    "tuple_of_integers = (1, 2, 3, 4, 5)\n",
    "\n",
    "#Convert the tuple of integers to a tuple of strings using a list comprehension\n",
    "tuple_of_strings = tuple(str(item) for item in tuple_of_integers)\n",
    "\n",
    "# Step 3: Print the tuple of strings\n",
    "print(\"Tuple of strings:\", tuple_of_strings)"
   ]
  },
  {
   "cell_type": "markdown",
   "id": "3e46abe9-75ee-435a-b0bb-d40d60890173",
   "metadata": {},
   "source": [
    "29. Convert a tuple of strings to a tuple of integers."
   ]
  },
  {
   "cell_type": "code",
   "execution_count": 16,
   "id": "02fed837-8f8e-46ef-b82f-b8121d73bee5",
   "metadata": {},
   "outputs": [
    {
     "name": "stdout",
     "output_type": "stream",
     "text": [
      "Tuple of strings: (1, 2, 3, 4, 5)\n"
     ]
    }
   ],
   "source": [
    "#Create a tuple of string\n",
    "\n",
    "tuple_of_strings = (\"1\", \"2\", \"3\", \"4\", \"5\")\n",
    "\n",
    "#Convert the tuple of integers to a tuple of strings using a list comprehension\n",
    "tuple_of_integers = tuple(int(item) for item in tuple_of_strings)\n",
    "\n",
    "# Step 3: Print the tuple of strings\n",
    "print(\"Tuple of strings:\", tuple_of_integers)"
   ]
  },
  {
   "cell_type": "markdown",
   "id": "c76647ec-3092-4883-9853-c9ba1dd2bdeb",
   "metadata": {},
   "source": [
    "30. Merge two tuples."
   ]
  },
  {
   "cell_type": "code",
   "execution_count": 17,
   "id": "9f4e3696-c5b7-46cc-a6a0-f4e3989bd327",
   "metadata": {},
   "outputs": [
    {
     "name": "stdout",
     "output_type": "stream",
     "text": [
      "Merged tuple: (1, 2, 3, 4, 5, 6)\n"
     ]
    }
   ],
   "source": [
    "#Create two tuples\n",
    "tuple1 = (1, 2, 3)\n",
    "tuple2 = (4, 5, 6)\n",
    "\n",
    "# Merge the two tuples using the '+' operator\n",
    "merged_tuple = tuple1 + tuple2\n",
    "\n",
    "# Print the merged tuple\n",
    "print(\"Merged tuple:\", merged_tuple)"
   ]
  },
  {
   "cell_type": "markdown",
   "id": "0ea3d5ea-0c0e-472a-854d-f83d6449c46b",
   "metadata": {},
   "source": [
    "31. Flatten a nested tuple."
   ]
  },
  {
   "cell_type": "code",
   "execution_count": 25,
   "id": "3589e175-6df8-4fd6-bb9e-8f7fac5a5bb2",
   "metadata": {},
   "outputs": [
    {
     "name": "stdout",
     "output_type": "stream",
     "text": [
      "(1, 2, 3, 3, 4, 5, 5, 6, 'Red', 'Blue')\n"
     ]
    }
   ],
   "source": [
    "def flattened_tuple(nested_tuple):\n",
    "    flattened = []\n",
    "    for item in nested_tuple:\n",
    "        if isinstance(item, tuple):\n",
    "            flattened.extend(flattened_tuple(item))\n",
    "        else:\n",
    "            flattened.append(item)\n",
    "    return flattened\n",
    "\n",
    "# Original nested tuple\n",
    "nested_tuple = (1, 2, 3, (3, 4, 5), (5, 6), ('Red', 'Blue'))\n",
    "\n",
    "# Calling the function to flatten the nested tuple\n",
    "result = tuple(flattened_tuple(nested_tuple))\n",
    "\n",
    "# Printing the flattened tuple\n",
    "print(result)"
   ]
  },
  {
   "cell_type": "markdown",
   "id": "ced3e433-1655-4b44-aaac-6423e4990b85",
   "metadata": {},
   "source": [
    "32. Create a tuple of the first 5 prime numbers."
   ]
  },
  {
   "cell_type": "code",
   "execution_count": 6,
   "id": "09460818-c815-4e2f-bdd5-4c430cfc562d",
   "metadata": {},
   "outputs": [
    {
     "name": "stdout",
     "output_type": "stream",
     "text": [
      "First five prime numbers are: (2, 3, 5, 7, 11)\n"
     ]
    }
   ],
   "source": [
    "def prime_numbers(num):\n",
    "    if num <= 1:\n",
    "        return False\n",
    "    for i in range(2, int(num**0.5) + 1):\n",
    "        if num % i == 0:\n",
    "            return False\n",
    "    # If no divisors are found, the number is prime\n",
    "    return True\n",
    "\n",
    "# Create a list of prime numbers between 2 and 100 using list comprehension\n",
    "prime_num_list = [num for num in range(2, 100) if prime_numbers(num)]\n",
    "\n",
    "# Print the first five prime numbers using tuple slicing\n",
    "print(\"First five prime numbers are:\", tuple(prime_num_list[:5]))"
   ]
  },
  {
   "cell_type": "markdown",
   "id": "5c8e84e5-9642-400f-bf03-68e99dfb49d5",
   "metadata": {},
   "source": [
    "33. Check if a tuple is a palindrome."
   ]
  },
  {
   "cell_type": "code",
   "execution_count": 4,
   "id": "1d2cef78-5cfa-41b8-a7f1-d8c5bc8b8ce9",
   "metadata": {},
   "outputs": [
    {
     "name": "stdout",
     "output_type": "stream",
     "text": [
      "palindrome_check1 is Not a Palindrome: False\n",
      "palindrome_check2 is a Palindrome: True\n"
     ]
    }
   ],
   "source": [
    "def is_palindrome(tup):\n",
    "    # Check if the tuple is equal to its reversed version\n",
    "    return tup == tup[::-1]\n",
    "\n",
    "tuple1 = (1, 2, 3, 4, 5)\n",
    "tuple2 = (1, 2, 3, 2, 1)\n",
    "\n",
    "# Perform palindrome check for the first tuple\n",
    "palindrome_check1 = is_palindrome(tuple1)\n",
    "\n",
    "# Perform palindrome check for the second tuple\n",
    "palindrome_check2 = is_palindrome(tuple2)\n",
    "\n",
    "# Print the results of the palindrome checks\n",
    "print(\"palindrome_check1 is Not a Palindrome:\", palindrome_check1)\n",
    "print(\"palindrome_check2 is a Palindrome:\", palindrome_check2)\n"
   ]
  },
  {
   "cell_type": "markdown",
   "id": "a030c48e-1d98-455b-83f9-7477361f8673",
   "metadata": {},
   "source": [
    "34. Create a tuple of squares of numbers from 1 to 5."
   ]
  },
  {
   "cell_type": "code",
   "execution_count": 7,
   "id": "16fa5eb1-f488-4c09-9302-4947d810ee43",
   "metadata": {},
   "outputs": [
    {
     "name": "stdout",
     "output_type": "stream",
     "text": [
      "Tuple of squares: (1, 4, 9, 16, 25)\n"
     ]
    }
   ],
   "source": [
    "square_list = [n**2 for n in range(1, 6)]  # Creates a list of squares from 1 to 5\n",
    "square_tuple = tuple(square_list)  # Converts the list to a tuple\n",
    "print(\"Tuple of squares:\", square_tuple)  # Prints the tuple"
   ]
  },
  {
   "cell_type": "markdown",
   "id": "a6556532-bec2-4592-89fb-60d3a26fbbf8",
   "metadata": {},
   "source": [
    "35. Filter out all even numbers from a tuple."
   ]
  },
  {
   "cell_type": "code",
   "execution_count": 13,
   "id": "9237ea23-47f6-413e-b297-a98f8b39887c",
   "metadata": {},
   "outputs": [
    {
     "name": "stdout",
     "output_type": "stream",
     "text": [
      "Filtered Tuple (odd numbers only): (1, 3, 5, 7, 9)\n"
     ]
    }
   ],
   "source": [
    "my_tuple = (1, 2, 3, 4, 5, 6, 7, 8, 9, 10)\n",
    "\n",
    "# Create a filtered tuple containing only odd numbers from the original tuple\n",
    "filtered_tuple = tuple(n for n in my_tuple if n % 2 != 0)\n",
    "\n",
    "# Print the result\n",
    "print(\"Filtered Tuple (odd numbers only):\", filtered_tuple)"
   ]
  },
  {
   "cell_type": "markdown",
   "id": "ab4b4c43-1670-44ee-b0d5-d7412fedac3f",
   "metadata": {},
   "source": [
    "36. Multiply all elements in a tuple by 2."
   ]
  },
  {
   "cell_type": "code",
   "execution_count": 15,
   "id": "7786a082-b55a-4c3b-9f82-7921e4a239c3",
   "metadata": {},
   "outputs": [
    {
     "name": "stdout",
     "output_type": "stream",
     "text": [
      "Tuple multiplied by 2: (2, 4, 6, 8, 10)\n"
     ]
    }
   ],
   "source": [
    "my_tuple = (1, 2, 3, 4, 5)\n",
    "\n",
    "# Create a new tuple by multiplying each element of the original tuple by 2\n",
    "tuple_by2 = tuple(n * 2 for n in my_tuple)\n",
    "\n",
    "# Print the result\n",
    "print(\"Tuple multiplied by 2:\", tuple_by2)"
   ]
  },
  {
   "cell_type": "markdown",
   "id": "5026ac6a-bb33-42d5-9271-60e304902e08",
   "metadata": {},
   "source": [
    "37. Create a tuple of random numbers."
   ]
  },
  {
   "cell_type": "code",
   "execution_count": 17,
   "id": "41b17dcd-ca9f-4ebd-8a14-a5a51bb74a6d",
   "metadata": {},
   "outputs": [
    {
     "name": "stdout",
     "output_type": "stream",
     "text": [
      "Random tuple: (75, 73, 61, 64, 67, 24, 15, 4, 10, 24)\n"
     ]
    }
   ],
   "source": [
    "import random\n",
    "\n",
    "# Create a tuple of random numbers using a list comprehension\n",
    "random_tuple = tuple(random.randint(1, 100) for _ in range(10))  # Generating 10 random numbers between 1 and 100\n",
    "\n",
    "# Print the tuple of random numbers\n",
    "print(\"Random tuple:\", random_tuple)"
   ]
  },
  {
   "cell_type": "markdown",
   "id": "1fd26cc6-cdff-4d10-89ad-0f3312ce14b6",
   "metadata": {},
   "source": [
    "38. Check if a tuple is sorted."
   ]
  },
  {
   "cell_type": "code",
   "execution_count": 19,
   "id": "3eaba0ec-bc7a-42c5-87d0-9fded01ed398",
   "metadata": {},
   "outputs": [
    {
     "name": "stdout",
     "output_type": "stream",
     "text": [
      "sorted_tuple is sorted: True\n",
      "unsorted_tuple is sorted: False\n"
     ]
    }
   ],
   "source": [
    "# Function to check if a tuple is sorted\n",
    "def is_sorted(tup):\n",
    "    for i in range(len(tup) - 1):\n",
    "        if tup[i] > tup[i + 1]:\n",
    "            return False\n",
    "    return True\n",
    "\n",
    "# Create tuples for testing\n",
    "sorted_tuple = (1, 2, 3, 4, 5)\n",
    "unsorted_tuple = (5, 3, 1, 4, 2)\n",
    "\n",
    "# Check if the tuples are sorted\n",
    "is_sorted1 = is_sorted(sorted_tuple)\n",
    "is_sorted2 = is_sorted(unsorted_tuple)\n",
    "\n",
    "# Print the results\n",
    "print(\"sorted_tuple is sorted:\", is_sorted1)\n",
    "print(\"unsorted_tuple is sorted:\", is_sorted2)"
   ]
  },
  {
   "cell_type": "markdown",
   "id": "e27dce49-d686-4df7-b1cb-ef4f62aa5ceb",
   "metadata": {},
   "source": [
    "39. Rotate a tuple to the left by `n` positions."
   ]
  },
  {
   "cell_type": "code",
   "execution_count": 23,
   "id": "06e8725e-ba0b-4438-84bb-afe3b22e394c",
   "metadata": {},
   "outputs": [
    {
     "name": "stdout",
     "output_type": "stream",
     "text": [
      "(4, 5, 1, 2, 3)\n"
     ]
    }
   ],
   "source": [
    "def rotate_tuple_left(tup, n):\n",
    "    n = n % len(tup)  # Ensure n is within the range of tuple length\n",
    "    rotated_tuple = tup[n:] + tup[:n]  # Rotate the tuple\n",
    "    return rotated_tuple\n",
    "\n",
    "# Example tuple\n",
    "my_tuple = (1, 2, 3, 4, 5)\n",
    "n_positions = 3\n",
    "result = rotate_tuple_left(my_tuple, n_positions)\n",
    "print(result)"
   ]
  },
  {
   "cell_type": "markdown",
   "id": "84e538ff-abd5-46af-829c-af4279618f03",
   "metadata": {},
   "source": [
    "40. Rotate a tuple to the right by `n` positions."
   ]
  },
  {
   "cell_type": "code",
   "execution_count": 24,
   "id": "1489821f-6657-4e75-a525-a80208928236",
   "metadata": {},
   "outputs": [
    {
     "name": "stdout",
     "output_type": "stream",
     "text": [
      "(4, 5, 1, 2, 3)\n"
     ]
    }
   ],
   "source": [
    "def rotate_tuple_right(tup, n):\n",
    "    n = n % len(tup)  # Ensure n is within the range of tuple length\n",
    "    rotated_tuple = tup[-n:] + tup[:-n]  # Rotate the tuple\n",
    "    return rotated_tuple\n",
    "\n",
    "# Example tuple\n",
    "my_tuple = (1, 2, 3, 4, 5)\n",
    "n_positions = 2\n",
    "result = rotate_tuple_right(my_tuple, n_positions)\n",
    "print(result)"
   ]
  },
  {
   "cell_type": "markdown",
   "id": "9fa8bb21-05e3-452f-a52f-cc428f2e6bd4",
   "metadata": {},
   "source": [
    "41. Create a tuple of the first 5 Fibonacci numbers."
   ]
  },
  {
   "cell_type": "code",
   "execution_count": 39,
   "id": "56003721-b540-4cdd-9209-bedc75a3abd0",
   "metadata": {},
   "outputs": [
    {
     "name": "stdout",
     "output_type": "stream",
     "text": [
      "First 5 Fibonacci numbers:\n",
      "0\n",
      "1\n",
      "1\n",
      "2\n",
      "3\n"
     ]
    }
   ],
   "source": [
    "def fib_series(n):\n",
    "    # Initialize the first two numbers of the Fibonacci series\n",
    "    a, b = 0, 1\n",
    "    \n",
    "    # Generate Fibonacci series up to the specified number of terms\n",
    "    for _ in range(n):\n",
    "        yield a  # Yield the current Fibonacci number\n",
    "        a, b = b, a + b  # Update values for the next iteration\n",
    "\n",
    "fib_tuple = fib_series(5)  # Create a generator for the first 5 Fibonacci numbers\n",
    "\n",
    "# Iterate through the generator and print each Fibonacci number\n",
    "print(\"First 5 Fibonacci numbers:\")\n",
    "for num in fib_tuple:\n",
    "    print(num)"
   ]
  },
  {
   "cell_type": "markdown",
   "id": "cc2f3bc6-8822-43d0-aa03-9945a63bf2d5",
   "metadata": {},
   "source": [
    "42. Create a tuple from user input."
   ]
  },
  {
   "cell_type": "code",
   "execution_count": 41,
   "id": "4f923060-44c9-4dbb-8d84-35195ccbdf4d",
   "metadata": {},
   "outputs": [
    {
     "name": "stdin",
     "output_type": "stream",
     "text": [
      "Enter elements separated by commas:  H,e,l,l,o\n"
     ]
    },
    {
     "name": "stdout",
     "output_type": "stream",
     "text": [
      "User input tuple: ('H', 'e', 'l', 'l', 'o')\n"
     ]
    }
   ],
   "source": [
    "# Taking user input for creating a tuple\n",
    "input_str = input(\"Enter elements separated by commas: \")\n",
    "\n",
    "# Splitting the input string into a list of strings\n",
    "input_list = input_str.split(',')\n",
    "\n",
    "# Converting the list of strings to a tuple\n",
    "user_tuple = tuple(input_list)\n",
    "\n",
    "# Printing the created tuple\n",
    "print(\"User input tuple:\", user_tuple)"
   ]
  },
  {
   "cell_type": "markdown",
   "id": "2b8ba11e-0410-4e23-b160-4d261a0dff80",
   "metadata": {},
   "source": [
    "43. Swap two elements in a tuple."
   ]
  },
  {
   "cell_type": "code",
   "execution_count": 48,
   "id": "bec6d5af-299e-442b-b8d3-0853873a3544",
   "metadata": {},
   "outputs": [
    {
     "name": "stdout",
     "output_type": "stream",
     "text": [
      "Swapped Tuple: (1, 2, 5, 4, 3)\n"
     ]
    }
   ],
   "source": [
    "# Original tuple\n",
    "my_tuple = (1, 2, 3, 4, 5)\n",
    "\n",
    "# Indices to swap\n",
    "index1 = 2\n",
    "index2 = 4\n",
    "\n",
    "# Use a generator comprehension to create a swapped tuple\n",
    "swapped_tuple = tuple(\n",
    "    (my_tuple[i] if i not in (index1, index2) else \n",
    "     my_tuple[index2] if i == index1 else\n",
    "     my_tuple[index1])\n",
    "    for i in range(len(my_tuple))\n",
    ")\n",
    "\n",
    "# Print the result\n",
    "print(\"Swapped Tuple:\", swapped_tuple)"
   ]
  },
  {
   "cell_type": "markdown",
   "id": "6f6dacdb-9425-4027-befa-96f5787a10d2",
   "metadata": {},
   "source": [
    "44. Reverse the elements of a tuple."
   ]
  },
  {
   "cell_type": "code",
   "execution_count": 54,
   "id": "f6ac361c-28eb-447c-a0f2-a363495f3de4",
   "metadata": {},
   "outputs": [
    {
     "name": "stdout",
     "output_type": "stream",
     "text": [
      "(5, 4, 3, 2, 1)\n"
     ]
    }
   ],
   "source": [
    "# Original tuple\n",
    "my_tuple = (1, 2, 3, 4, 5)\n",
    "\n",
    "# Create a reversed tuple using slicing\n",
    "rev_tuple = my_tuple[::-1]\n",
    "\n",
    "# Print the reversed tuple\n",
    "print(rev_tuple)"
   ]
  },
  {
   "cell_type": "markdown",
   "id": "fffea290-44a1-4405-8628-e62d739eed30",
   "metadata": {},
   "source": [
    "45. Create a tuple of the first `n` powers of 2."
   ]
  },
  {
   "cell_type": "code",
   "execution_count": 56,
   "id": "f73f73ba-3762-4d94-8cfb-c4b59bd13418",
   "metadata": {},
   "outputs": [
    {
     "name": "stdout",
     "output_type": "stream",
     "text": [
      "Tuple of the first 5 powers of 2: (1, 2, 4, 8, 16)\n"
     ]
    }
   ],
   "source": [
    "# Define the value of n\n",
    "n = 5\n",
    "\n",
    "# Create a tuple of the first n powers of 2 using a list comprehension\n",
    "powers_of_2_tuple = tuple(2 ** i for i in range(n))\n",
    "\n",
    "# Print the tuple of powers of 2\n",
    "print(\"Tuple of the first\", n, \"powers of 2:\", powers_of_2_tuple)"
   ]
  },
  {
   "cell_type": "markdown",
   "id": "feb4b8d5-22e6-45f6-9233-2eca26c832b4",
   "metadata": {},
   "source": [
    "46. Find the longest string in a tuple of strings."
   ]
  },
  {
   "cell_type": "code",
   "execution_count": 58,
   "id": "7b70a485-c858-48d4-83e7-215bcab55d93",
   "metadata": {},
   "outputs": [
    {
     "name": "stdout",
     "output_type": "stream",
     "text": [
      "pwskills\n"
     ]
    }
   ],
   "source": [
    "my_tuple=(\"Hello\",\"pwskills\",\"DSA\")\n",
    "longest=\" \"\n",
    "for item in my_tuple:\n",
    "    if len(item)>len(longest):\n",
    "        longest=item\n",
    "print(longest)"
   ]
  },
  {
   "cell_type": "code",
   "execution_count": 60,
   "id": "7c0972c0-d62c-41ea-a852-515c552deac1",
   "metadata": {},
   "outputs": [
    {
     "name": "stdout",
     "output_type": "stream",
     "text": [
      "Longest string: pwskills\n"
     ]
    }
   ],
   "source": [
    "# Create a tuple of strings\n",
    "string_tuple = (\"Hello\",\"pwskills\",\"DSA\")\n",
    "\n",
    "# Find the longest string in the tuple\n",
    "longest_string = max(string_tuple, key=len)\n",
    "\n",
    "# Print the longest string\n",
    "print(\"Longest string:\", longest_string)"
   ]
  },
  {
   "cell_type": "markdown",
   "id": "983b04e1-7830-42e5-95da-95c0462585da",
   "metadata": {},
   "source": [
    "47. Find the shortest string in a tuple of strings."
   ]
  },
  {
   "cell_type": "code",
   "execution_count": 62,
   "id": "2b160c9b-4b1e-4dc7-a19b-c50390bffa92",
   "metadata": {},
   "outputs": [
    {
     "name": "stdout",
     "output_type": "stream",
     "text": [
      "Shortest string: DSA\n"
     ]
    }
   ],
   "source": [
    "# Create a tuple of strings\n",
    "string_tuple = (\"Hello\",\"pwskills\",\"DSA\")\n",
    "\n",
    "# Find the shortest string in the tuple\n",
    "shortest_string = min(string_tuple, key=len)\n",
    "\n",
    "# Print the longest string\n",
    "print(\"Shortest string:\", shortest_string)"
   ]
  },
  {
   "cell_type": "markdown",
   "id": "8c988592-9b71-4864-92e7-e61d0c7c6f00",
   "metadata": {},
   "source": [
    "48. Create a tuple of the first `n` triangular numbers."
   ]
  },
  {
   "cell_type": "code",
   "execution_count": 64,
   "id": "febe334f-f226-43e3-b7e0-6801b58abc7f",
   "metadata": {},
   "outputs": [
    {
     "name": "stdout",
     "output_type": "stream",
     "text": [
      "Tuple of the first 5 triangular numbers: (1, 3, 6, 10, 15)\n"
     ]
    }
   ],
   "source": [
    "# Define the value of n\n",
    "n = 5\n",
    "\n",
    "# Create a tuple of the first n triangular numbers using a list comprehension\n",
    "triangular_numbers_tuple = tuple((i * (i + 1)) // 2 for i in range(1, n + 1))\n",
    "\n",
    "# Print the tuple of triangular numbers\n",
    "print(\"Tuple of the first\", n, \"triangular numbers:\", triangular_numbers_tuple)"
   ]
  },
  {
   "cell_type": "markdown",
   "id": "66e51c8a-0202-45ce-a0d2-6866688e6764",
   "metadata": {},
   "source": [
    "49. Check if a tuple contains another tuple as a subsequence."
   ]
  },
  {
   "cell_type": "code",
   "execution_count": 65,
   "id": "f49d5905-9a4d-4130-bcea-91a10bfbffb2",
   "metadata": {},
   "outputs": [
    {
     "name": "stdout",
     "output_type": "stream",
     "text": [
      "Main tuple contains subsequence tuple: True\n"
     ]
    }
   ],
   "source": [
    "# Function to check if a tuple contains another tuple as a subsequence\n",
    "def contains_subsequence(main_tuple, sub_tuple):\n",
    "    sub_length = len(sub_tuple)\n",
    "    for i in range(len(main_tuple) - sub_length + 1):\n",
    "        if main_tuple[i:i+sub_length] == sub_tuple:\n",
    "            return True\n",
    "    return False\n",
    "\n",
    "# Main tuple\n",
    "main_tuple = (1, 2, 3, 4, 5, 6, 7, 8, 9)\n",
    "\n",
    "# Subsequence tuple\n",
    "sub_tuple = (3, 4, 5)\n",
    "\n",
    "# Check if the main tuple contains the subsequence tuple\n",
    "contains_subseq = contains_subsequence(main_tuple, sub_tuple)\n",
    "\n",
    "# Print the result\n",
    "print(\"Main tuple contains subsequence tuple:\", contains_subseq)"
   ]
  },
  {
   "cell_type": "markdown",
   "id": "e7cb684b-06c6-4c13-9d86-3da9cdc5fa77",
   "metadata": {},
   "source": [
    "50. Create a tuple of alternating 1s and 0s of length `n`."
   ]
  },
  {
   "cell_type": "code",
   "execution_count": 66,
   "id": "41d76d90-051d-4652-8c6d-34429390f5d7",
   "metadata": {},
   "outputs": [
    {
     "name": "stdout",
     "output_type": "stream",
     "text": [
      "Tuple of alternating 1s and 0s: (0, 1, 0, 1, 0, 1, 0, 1, 0, 1)\n"
     ]
    }
   ],
   "source": [
    "# Define the value of n\n",
    "n = 10\n",
    "\n",
    "# Create a tuple of alternating 1s and 0s using a list comprehension\n",
    "alternating_tuple = tuple(i % 2 for i in range(n))\n",
    "\n",
    "# Print the tuple of alternating 1s and 0s\n",
    "print(\"Tuple of alternating 1s and 0s:\", alternating_tuple)"
   ]
  },
  {
   "cell_type": "markdown",
   "id": "b60b39b8-0e32-4377-bea4-a6c5cc5f28e4",
   "metadata": {},
   "source": [
    "#### Set Based Practice Problem :"
   ]
  },
  {
   "cell_type": "markdown",
   "id": "f42cfb46-e078-4ad5-a799-67204a6d5566",
   "metadata": {},
   "source": [
    "1. Create a set with integers from 1 to 5."
   ]
  },
  {
   "cell_type": "code",
   "execution_count": 4,
   "id": "e87c0965-6a6f-4d2c-a9e1-75038bd1eaea",
   "metadata": {},
   "outputs": [
    {
     "name": "stdout",
     "output_type": "stream",
     "text": [
      "{1, 2, 3, 4, 5}\n"
     ]
    }
   ],
   "source": [
    "# Using a set comprehension to generate a set containing integers from 1 to 5\n",
    "my_set = set(i for i in range(1, 6))\n",
    "print(my_set)"
   ]
  },
  {
   "cell_type": "markdown",
   "id": "e1d771bc-9367-4a8f-9605-23879ff93de3",
   "metadata": {},
   "source": [
    "2. Add an element to a set."
   ]
  },
  {
   "cell_type": "code",
   "execution_count": 4,
   "id": "989d6147-f69e-42b2-b5cc-739fa76e24de",
   "metadata": {},
   "outputs": [
    {
     "name": "stdout",
     "output_type": "stream",
     "text": [
      "Original set: {1, 2, 3, 4, 5}\n",
      "New set: {1, 2, 3, 4, 5, 6}\n"
     ]
    }
   ],
   "source": [
    "# Using a set comprehension to generate a set containing integers from 1 to 5\n",
    "my_set = set(i for i in range(1, 6))\n",
    "print(\"Original set:\",my_set)\n",
    "my_set.add(6)\n",
    "print(\"New set:\",my_set)"
   ]
  },
  {
   "cell_type": "markdown",
   "id": "93d71c6e-83b2-471b-8165-aa1830cefd94",
   "metadata": {},
   "source": [
    "3. Remove an element from a set."
   ]
  },
  {
   "cell_type": "code",
   "execution_count": 7,
   "id": "5b48b2ec-3751-448f-846a-989d454c6680",
   "metadata": {},
   "outputs": [
    {
     "name": "stdout",
     "output_type": "stream",
     "text": [
      "Original set: {1, 2, 3, 4, 5}\n",
      "Pop set: {2, 3, 4, 5}\n",
      "Remove set: {2, 4, 5}\n"
     ]
    }
   ],
   "source": [
    "# Using a set comprehension to generate a set containing integers from 1 to 5\n",
    "my_set = set(i for i in range(1, 6))\n",
    "print(\"Original set:\",my_set)\n",
    "my_set.pop()\n",
    "print(\"Pop set:\",my_set)\n",
    "my_set.remove(3)\n",
    "print(\"Remove set:\",my_set)"
   ]
  },
  {
   "cell_type": "markdown",
   "id": "4b0b1dc4-5042-4eae-8ea5-68f68486cf93",
   "metadata": {},
   "source": [
    "4. Check if an element exists in a set."
   ]
  },
  {
   "cell_type": "code",
   "execution_count": 12,
   "id": "34713133-412d-4648-bb46-a75fb9d46c69",
   "metadata": {},
   "outputs": [
    {
     "name": "stdin",
     "output_type": "stream",
     "text": [
      "Enter the element to be checked: 9\n"
     ]
    },
    {
     "name": "stdout",
     "output_type": "stream",
     "text": [
      "Element 9 not found\n"
     ]
    }
   ],
   "source": [
    "# Set of integers to check against\n",
    "my_set = {1, 2, 3, 4, 5}\n",
    "\n",
    "# User input to specify the element to be checked\n",
    "element_to_check = int(input(\"Enter the element to be checked:\"))\n",
    "\n",
    "# Check if the entered element is in the set\n",
    "if element_to_check in my_set:\n",
    "    print(f\"Element {element_to_check} found\")\n",
    "else:\n",
    "    print(f\"Element {element_to_check} not found\")"
   ]
  },
  {
   "cell_type": "markdown",
   "id": "53a86406-4d15-4a75-9743-af56872ca1a6",
   "metadata": {},
   "source": [
    "5. Find the length of a set without using the `len()` function."
   ]
  },
  {
   "cell_type": "code",
   "execution_count": 14,
   "id": "655312a4-34b5-4dc7-ba09-cd2b15c91f04",
   "metadata": {},
   "outputs": [
    {
     "name": "stdout",
     "output_type": "stream",
     "text": [
      "Count of elements in the set: 9\n"
     ]
    }
   ],
   "source": [
    "my_set={1,2,3,4,5,6,7,8,9}\n",
    "count=0\n",
    "for _ in my_set:\n",
    "    count+=1\n",
    "print(\"Count of elements in the set:\",count)"
   ]
  },
  {
   "cell_type": "markdown",
   "id": "56b751e1-20fc-41bd-8605-c53296049719",
   "metadata": {},
   "source": [
    "6. Clear all elements from a set."
   ]
  },
  {
   "cell_type": "code",
   "execution_count": 16,
   "id": "7830f11c-66eb-4317-8387-7bdebeac6658",
   "metadata": {},
   "outputs": [
    {
     "name": "stdout",
     "output_type": "stream",
     "text": [
      "Set after clearing: set()\n"
     ]
    }
   ],
   "source": [
    "# Initialize a set of integers\n",
    "my_set = {1, 2, 3, 4, 5, 6, 7, 8, 9}\n",
    "\n",
    "# Clear all elements from the set\n",
    "my_set.clear()\n",
    "\n",
    "# Print the set after clearing its elements\n",
    "print(\"Set after clearing:\", my_set)"
   ]
  },
  {
   "cell_type": "markdown",
   "id": "eb8daf37-6c47-4246-a5f9-2a3b74a0c711",
   "metadata": {},
   "source": [
    "7. Create a set of even numbers from 1 to 10."
   ]
  },
  {
   "cell_type": "code",
   "execution_count": 28,
   "id": "3efd3884-486f-4311-bba9-8efa364722ff",
   "metadata": {},
   "outputs": [
    {
     "name": "stdout",
     "output_type": "stream",
     "text": [
      "{2, 4, 6, 8, 10}\n"
     ]
    }
   ],
   "source": [
    "# Create an empty set to store even numbers\n",
    "even_set = set()\n",
    "\n",
    "# Add each even number to the set\n",
    "for num in range(1, 11):\n",
    "    if num % 2 == 0:\n",
    "        even_set.add(num)\n",
    "\n",
    "# Print the resulting set of even numbers\n",
    "print(even_set)"
   ]
  },
  {
   "cell_type": "markdown",
   "id": "b2f015cc-c1c0-416f-80cb-cb928fc2f6d2",
   "metadata": {},
   "source": [
    "8. Create a set of odd numbers from 1 to 10."
   ]
  },
  {
   "cell_type": "code",
   "execution_count": 29,
   "id": "96c0f0a8-dc14-41f5-ab26-a09dfa00df06",
   "metadata": {},
   "outputs": [
    {
     "name": "stdout",
     "output_type": "stream",
     "text": [
      "Set of odd numbers from 1 to 10: {1, 3, 5, 7, 9}\n"
     ]
    }
   ],
   "source": [
    "# Using a set comprehension to generate a set containing odd numbers\n",
    "odd_numbers_set = {num for num in range(1, 11) if num % 2 != 0}\n",
    "\n",
    "# Step 2: Print the resulting set of odd numbers\n",
    "print(\"Set of odd numbers from 1 to 10:\", odd_numbers_set)"
   ]
  },
  {
   "cell_type": "markdown",
   "id": "8f2e1af7-43ce-4ed7-96cf-4a717fee1a0e",
   "metadata": {},
   "source": [
    "9. Find the union of two sets."
   ]
  },
  {
   "cell_type": "code",
   "execution_count": 31,
   "id": "6c2cda1c-981e-4c68-b462-ab95b2b7a1a2",
   "metadata": {},
   "outputs": [
    {
     "name": "stdout",
     "output_type": "stream",
     "text": [
      "Union of sets: {1, 2, 3, 4, 5, 6, 7, 8, 9, 10}\n"
     ]
    }
   ],
   "source": [
    "# Define two sets, set1 and set2\n",
    "set1 = {1, 2, 3, 4, 5}\n",
    "set2 = {6, 7, 8, 9, 10}\n",
    "\n",
    "# Perform the union of set1 and set2\n",
    "union_set = set1.union(set2)\n",
    "\n",
    "# Print the resulting union set\n",
    "print(\"Union of sets:\", union_set)"
   ]
  },
  {
   "cell_type": "markdown",
   "id": "753fe055-d1b8-40f4-99f5-887215f7ed91",
   "metadata": {},
   "source": [
    "10. Find the intersection of two sets."
   ]
  },
  {
   "cell_type": "code",
   "execution_count": 33,
   "id": "a03ee426-a653-45fc-939e-15261e83613d",
   "metadata": {},
   "outputs": [
    {
     "name": "stdout",
     "output_type": "stream",
     "text": [
      "Intersection of sets: {1, 3}\n"
     ]
    }
   ],
   "source": [
    "# Define two sets, set1 and set2\n",
    "set1 = {1, 2, 3, 4, 5}\n",
    "set2 = {6, 7, 3, 1, 10}\n",
    "\n",
    "# Perform the intersection of set1 and set2\n",
    "intersection_set = set1.intersection(set2)\n",
    "\n",
    "# Print the resulting intersected set\n",
    "print(\"Intersection of sets:\", intersection_set)"
   ]
  },
  {
   "cell_type": "markdown",
   "id": "6af58968-efe3-4799-83d5-200ccf91df9b",
   "metadata": {},
   "source": [
    "11. Find the difference between two sets."
   ]
  },
  {
   "cell_type": "code",
   "execution_count": 35,
   "id": "0c073804-fa78-488a-b431-d4b47f27cb28",
   "metadata": {},
   "outputs": [
    {
     "name": "stdout",
     "output_type": "stream",
     "text": [
      "Difference of sets: {2, 4, 5}\n"
     ]
    }
   ],
   "source": [
    "# Define two sets, set1 and set2\n",
    "set1 = {1, 2, 3, 4, 5}\n",
    "set2 = {6, 7, 3, 1, 10}\n",
    "\n",
    "# Perform the differnece of set1 and set2\n",
    "difference_set = set1.difference(set2)\n",
    "\n",
    "# Print the resulting  set\n",
    "print(\"Difference of sets:\", difference_set)"
   ]
  },
  {
   "cell_type": "markdown",
   "id": "82fbfa6a-ca43-4ce6-9457-0ffa159ea675",
   "metadata": {},
   "source": [
    "12. Check if a set is a subset of another set."
   ]
  },
  {
   "cell_type": "code",
   "execution_count": 38,
   "id": "b96fd298-9408-462e-81ca-825d15c33dd1",
   "metadata": {},
   "outputs": [
    {
     "name": "stdout",
     "output_type": "stream",
     "text": [
      "Is set1 containing set2: True\n"
     ]
    }
   ],
   "source": [
    "# Define two sets, set1 and set2\n",
    "set1 = {1, 2, 3, 4, 5}\n",
    "set2 = {1, 2, 3}\n",
    "\n",
    "# Check if set2 is a subset of set1\n",
    "subset_check = set2.issubset(set1)\n",
    "\n",
    "# Print the result indicating whether set1 contains set2\n",
    "print(\"Is set1 containing set2:\", subset_check)"
   ]
  },
  {
   "cell_type": "markdown",
   "id": "c23a6220-1700-4905-9f63-228565d55c62",
   "metadata": {},
   "source": [
    "13. Check if a set is a superset of another set."
   ]
  },
  {
   "cell_type": "code",
   "execution_count": 40,
   "id": "7f6f2e2c-cd0d-4a24-8f78-2ee66199f1a6",
   "metadata": {},
   "outputs": [
    {
     "name": "stdout",
     "output_type": "stream",
     "text": [
      "Is set1 superset of  set2: True\n"
     ]
    }
   ],
   "source": [
    "# Define two sets, set1 and set2\n",
    "set1 = {1, 2, 3, 4, 5}\n",
    "set2 = {1, 2, 3}\n",
    "\n",
    "# Check if set1 is a superset of set2\n",
    "superset_check = set1.issuperset(set2)\n",
    "\n",
    "# Print the result indicating whether set1 contains set2\n",
    "print(\"Is set1 superset of set2:\", superset_check)"
   ]
  },
  {
   "cell_type": "markdown",
   "id": "5d40313b-3ef8-4371-9e7c-1723f97c421d",
   "metadata": {},
   "source": [
    "14. Create a set from a list.\n"
   ]
  },
  {
   "cell_type": "code",
   "execution_count": 43,
   "id": "41c5b020-a1c6-47fd-915f-315b1c492b85",
   "metadata": {},
   "outputs": [
    {
     "name": "stdout",
     "output_type": "stream",
     "text": [
      "Original List: [1, 2, 3, 9, 9, 1, 5]\n",
      "Set from List: {1, 2, 3, 5, 9}\n"
     ]
    }
   ],
   "source": [
    "# Create a list of elements\n",
    "my_list = [1, 2, 3, 9, 9, 1, 5]\n",
    "\n",
    "# Use the set() constructor to convert the list into a set\n",
    "my_set = set(my_list)\n",
    "\n",
    "# Print the original list and the resulting set\n",
    "print(\"Original List:\", my_list)\n",
    "print(\"Set from List:\", my_set)"
   ]
  },
  {
   "cell_type": "markdown",
   "id": "498ddb22-3581-4b87-8544-15362b4de184",
   "metadata": {},
   "source": [
    "15. Convert a set to a list."
   ]
  },
  {
   "cell_type": "code",
   "execution_count": 45,
   "id": "137641d7-892e-4cbf-b32c-2c734534acc8",
   "metadata": {},
   "outputs": [
    {
     "name": "stdout",
     "output_type": "stream",
     "text": [
      "Original Set: {1, 2, 3, 4, 5, 6, 9}\n",
      "Converted List: [1, 2, 3, 4, 5, 6, 9]\n"
     ]
    }
   ],
   "source": [
    "# Create a set with some elements\n",
    "my_set = {1, 2, 3, 1, 4, 9, 3, 5, 6}\n",
    "\n",
    "# Step 2: Convert the set to a list using the list() function\n",
    "my_list = list(my_set)\n",
    "\n",
    "# Step 3: Print the original set and the converted list\n",
    "print(\"Original Set:\", my_set)\n",
    "print(\"Converted List:\", my_list)"
   ]
  },
  {
   "cell_type": "markdown",
   "id": "302fd699-4038-4663-ab11-f77731e3de72",
   "metadata": {},
   "source": [
    "16. Remove a random element from a set."
   ]
  },
  {
   "cell_type": "code",
   "execution_count": 50,
   "id": "12b82c1c-10d6-4d78-887b-9c40ebe2cbf1",
   "metadata": {},
   "outputs": [
    {
     "name": "stdout",
     "output_type": "stream",
     "text": [
      "Original set: {1, 2, 3, 4, 5}\n",
      "Updated set after removing 4 : {1, 2, 3, 5}\n"
     ]
    }
   ],
   "source": [
    "import random \n",
    "\n",
    "# Create a set with some elements\n",
    "my_set = {1, 2, 3, 4, 5}\n",
    "\n",
    "# Display the original set\n",
    "print(\"Original set:\", my_set)\n",
    "\n",
    "# Choose a random element from the set using the random.choice() function\n",
    "random_element = random.choice(list(my_set))\n",
    "\n",
    "# Remove the chosen random element from the set using the remove() method\n",
    "my_set.remove(random_element)\n",
    "\n",
    "# Display the updated set after removing the random element\n",
    "print(\"Updated set after removing\", random_element, \":\", my_set)"
   ]
  },
  {
   "cell_type": "markdown",
   "id": "b5764502-937f-409e-b509-737f9a8a528c",
   "metadata": {},
   "source": [
    "17. Pop an element from a set."
   ]
  },
  {
   "cell_type": "code",
   "execution_count": 52,
   "id": "6e00121b-542a-4b1b-ade1-1d9a0789a928",
   "metadata": {},
   "outputs": [
    {
     "name": "stdout",
     "output_type": "stream",
     "text": [
      "Original set: {1, 2, 3, 4, 5}\n",
      "Popped element: 1\n",
      "Set after popping: {2, 3, 4, 5}\n"
     ]
    }
   ],
   "source": [
    "# Create a set with some elements\n",
    "my_set = {1, 2, 3, 4, 5}\n",
    "\n",
    "# Print the original set\n",
    "print(\"Original set:\", my_set)\n",
    "\n",
    "# Pop an element from the set using the pop() method\n",
    "popped_element = my_set.pop()\n",
    "\n",
    "# Print the element that was popped\n",
    "print(\"Popped element:\", popped_element)\n",
    "\n",
    "# Print the set after popping an element\n",
    "print(\"Set after popping:\", my_set)"
   ]
  },
  {
   "cell_type": "markdown",
   "id": "c730f2f3-d1d8-4a9c-a907-0f3aff868d5c",
   "metadata": {},
   "source": [
    "18. Check if two sets have no elements in common."
   ]
  },
  {
   "cell_type": "code",
   "execution_count": 54,
   "id": "96800da3-98d5-4891-a831-bf68c2aa1e5e",
   "metadata": {},
   "outputs": [
    {
     "name": "stdout",
     "output_type": "stream",
     "text": [
      "The two sets have no elements in common.\n"
     ]
    }
   ],
   "source": [
    "\n",
    "# Step 1: Define two sets\n",
    "set1 = {1, 2, 3, 4}\n",
    "set2 = {5, 6, 7, 8}\n",
    "\n",
    "# Step 2: Check if the intersection of the two sets is empty\n",
    "# The intersection is the set of elements that are common to both sets\n",
    "common_elements = set1.intersection(set2)\n",
    "\n",
    "# Step 3: Check if the common_elements set is empty\n",
    "if not common_elements:\n",
    "    print(\"The two sets have no elements in common.\")\n",
    "else:\n",
    "    print(\"The two sets have common elements:\", common_elements)"
   ]
  },
  {
   "cell_type": "code",
   "execution_count": 64,
   "id": "279767a8-8177-4269-95d4-27014a21eed1",
   "metadata": {},
   "outputs": [
    {
     "name": "stdout",
     "output_type": "stream",
     "text": [
      "No elements in common\n"
     ]
    }
   ],
   "source": [
    "set1={1,3,4}\n",
    "set2={5,6,7}\n",
    "no_common=True\n",
    "for element in set1:\n",
    "    if element in set2:\n",
    "        no_common=False\n",
    "        break\n",
    "if no_common:\n",
    "    print(\"No elements in common\")\n",
    "else:\n",
    "    print(\"common elements found\")\n",
    "       "
   ]
  },
  {
   "cell_type": "markdown",
   "id": "a36f0dbb-bdbf-4bb9-a486-6e19abd1d396",
   "metadata": {},
   "source": [
    "19. Find the symmetric difference between two sets."
   ]
  },
  {
   "cell_type": "code",
   "execution_count": 65,
   "id": "56f646f1-c114-48dc-828e-1e5d4720e159",
   "metadata": {},
   "outputs": [
    {
     "name": "stdout",
     "output_type": "stream",
     "text": [
      "Symmetric Difference: {1, 2, 3, 6, 7, 8}\n"
     ]
    }
   ],
   "source": [
    "# Define two sets\n",
    "set1 = {1, 2, 3, 4, 5}\n",
    "set2 = {4, 5, 6, 7, 8}\n",
    "\n",
    "# Calculate the symmetric difference using the ^ operator\n",
    "symmetric_difference = set1 ^ set2\n",
    "\n",
    "# Print the symmetric difference\n",
    "print(\"Symmetric Difference:\", symmetric_difference)"
   ]
  },
  {
   "cell_type": "markdown",
   "id": "0bd07cda-9804-4581-a59a-aab034d232ba",
   "metadata": {},
   "source": [
    "20. Update a set with elements from another set."
   ]
  },
  {
   "cell_type": "code",
   "execution_count": 66,
   "id": "7a03510f-46a4-4be3-812a-848ed2126cc1",
   "metadata": {},
   "outputs": [
    {
     "name": "stdout",
     "output_type": "stream",
     "text": [
      "Set 1: {1, 2, 3}\n",
      "Set 2: {3, 4, 5}\n",
      "Updated Set 1: {1, 2, 3, 4, 5}\n"
     ]
    }
   ],
   "source": [
    "# Create the first set\n",
    "set1 = {1, 2, 3}\n",
    "print(\"Set 1:\", set1)\n",
    "\n",
    "# Create the second set\n",
    "set2 = {3, 4, 5}\n",
    "print(\"Set 2:\", set2)\n",
    "\n",
    "# Update set1 with elements from set2\n",
    "set1.update(set2)\n",
    "print(\"Updated Set 1:\", set1)"
   ]
  },
  {
   "cell_type": "markdown",
   "id": "bcbee179-4de5-4882-b18b-f0a3ec6d9b51",
   "metadata": {},
   "source": [
    "21. Create a set of the first 5 prime numbers."
   ]
  },
  {
   "cell_type": "code",
   "execution_count": 82,
   "id": "ac2f0e76-a46e-4b8b-bc5b-86c42c06673c",
   "metadata": {},
   "outputs": [
    {
     "name": "stdout",
     "output_type": "stream",
     "text": [
      "Set of the first five prime numbers between 2 and 99: {2, 3, 5, 7, 11}\n"
     ]
    }
   ],
   "source": [
    "# Function to check if a number is prime\n",
    "def is_prime(num):\n",
    "    if num <= 1:\n",
    "        return False\n",
    "    for i in range(2, int(num**0.5)+1):\n",
    "        if num % i == 0:\n",
    "            return False\n",
    "    return True\n",
    "\n",
    "# List comprehension to generate the first five prime numbers between 2 and 99\n",
    "prime_numbers = [num for num in range(2, 100) if is_prime(num)][:5]\n",
    "\n",
    "# Convert the list of prime numbers to a set and print\n",
    "print(\"Set of the first five prime numbers between 2 and 99:\", set(prime_numbers))"
   ]
  },
  {
   "cell_type": "markdown",
   "id": "330bfac9-d9e1-4d55-937f-18dcbb108c37",
   "metadata": {},
   "source": [
    "22. Check if two sets are identical."
   ]
  },
  {
   "cell_type": "code",
   "execution_count": 84,
   "id": "6969af76-b048-4aec-9b20-9f045f59bf60",
   "metadata": {},
   "outputs": [
    {
     "name": "stdout",
     "output_type": "stream",
     "text": [
      "Sets are identical\n"
     ]
    }
   ],
   "source": [
    "# Define two sets, set1 and set2\n",
    "set1 = {1, 2, 3, 4}\n",
    "set2 = {3, 4, 1, 2}\n",
    "\n",
    "# Check if set1 and set2 are identical\n",
    "if set1 == set2:\n",
    "    print(\"Sets are identical\")\n",
    "else:\n",
    "    print(\"Sets are not identical\")\n"
   ]
  },
  {
   "cell_type": "markdown",
   "id": "ea11ee87-2238-4311-b721-45199a6b6341",
   "metadata": {},
   "source": [
    "23. Create a frozen set."
   ]
  },
  {
   "cell_type": "code",
   "execution_count": 85,
   "id": "dfdcf3a8-4a1e-4eb0-ac6a-b505b04377d8",
   "metadata": {},
   "outputs": [
    {
     "name": "stdout",
     "output_type": "stream",
     "text": [
      "Frozen Set: frozenset({1, 2, 3, 4, 5})\n"
     ]
    }
   ],
   "source": [
    "# Define a list of elements \n",
    "elements = [1, 2, 3, 4, 5]\n",
    "\n",
    "# Create a frozen set using the 'frozenset' constructor \n",
    "my_frozen_set = frozenset(elements)\n",
    "\n",
    "# Print the frozen set\n",
    "print(\"Frozen Set:\", my_frozen_set)"
   ]
  },
  {
   "cell_type": "markdown",
   "id": "ef533052-64fa-4b66-97a9-8d356587e354",
   "metadata": {},
   "source": [
    "24. Check if a set is disjoint with another set."
   ]
  },
  {
   "cell_type": "code",
   "execution_count": 88,
   "id": "df4fed26-f86b-4a97-8a1f-063922f1f703",
   "metadata": {},
   "outputs": [
    {
     "name": "stdout",
     "output_type": "stream",
     "text": [
      "Are the sets disjoint? True\n"
     ]
    }
   ],
   "source": [
    "# Define the two sets you want to check for disjointness\n",
    "set1 = {1, 2, 3, 4}\n",
    "set2 = {5, 6, 7, 8}\n",
    "\n",
    "# Use the `isdisjoint()` method to check if the sets are disjoint\n",
    "disjoint_status = set1.isdisjoint(set2)\n",
    "\n",
    "# Step 3: Print the result\n",
    "print(\"Are the sets disjoint?\", disjoint_status)"
   ]
  },
  {
   "cell_type": "markdown",
   "id": "45ad48f4-1ba2-4f0b-a64b-7ad3deca4c2b",
   "metadata": {},
   "source": [
    "25. Create a set of squares of numbers from 1 to 5."
   ]
  },
  {
   "cell_type": "code",
   "execution_count": 91,
   "id": "6bcaf923-36a3-43f2-a680-4033d141f056",
   "metadata": {},
   "outputs": [
    {
     "name": "stdout",
     "output_type": "stream",
     "text": [
      "Set of squares: {1, 4, 9, 16, 25}\n"
     ]
    }
   ],
   "source": [
    "# Create a set using a set comprehension to store the squares of numbers from 1 to 5\n",
    "my_set = set(n**2 for n in range(1, 6))\n",
    "\n",
    "# Print the set of squares\n",
    "print(\"Set of squares:\", my_set)"
   ]
  },
  {
   "cell_type": "markdown",
   "id": "b867fff3-b735-4643-8bca-82349ed40a2b",
   "metadata": {},
   "source": [
    "26. Filter out all even numbers from a set."
   ]
  },
  {
   "cell_type": "code",
   "execution_count": 95,
   "id": "742f978b-42cb-474f-9157-b50ed340d1ab",
   "metadata": {},
   "outputs": [
    {
     "name": "stdout",
     "output_type": "stream",
     "text": [
      "Filtered odd set: {1, 3, 5, 7, 9}\n"
     ]
    }
   ],
   "source": [
    "# Original set of integers from 1 to 10\n",
    "my_set = {1, 2, 3, 4, 5, 6, 7, 8, 9, 10}\n",
    "\n",
    "# Create a set using a set comprehension to filter out even numbers\n",
    "# The condition n % 2 != 0 ensures only odd numbers are included\n",
    "odd_set = set(n for n in my_set if n % 2 != 0)\n",
    "\n",
    "# Print the filtered set containing only odd numbers\n",
    "print(\"Filtered odd set:\", odd_set)"
   ]
  },
  {
   "cell_type": "markdown",
   "id": "097afc11-5426-4d19-9f34-4ad96dbbab7a",
   "metadata": {},
   "source": [
    "27. Multiply all elements in a set by 2."
   ]
  },
  {
   "cell_type": "code",
   "execution_count": 100,
   "id": "909f4598-fe6f-4ede-b9a8-5b09b64b7bc6",
   "metadata": {},
   "outputs": [
    {
     "name": "stdout",
     "output_type": "stream",
     "text": [
      "Original Set: {1, 2, 3, 4, 5}\n",
      "Multiplied Set: {2, 4, 6, 8, 10}\n"
     ]
    }
   ],
   "source": [
    "# Create a set with integers from 1 to 5\n",
    "original_set = {1, 2, 3, 4, 5}\n",
    "\n",
    "# Initialize an empty set to store the multiplied elements\n",
    "multiplied_set = set()\n",
    "\n",
    "# Loop through each element in the original set\n",
    "for num in original_set:\n",
    "    # Multiply the current element by 2\n",
    "    multiplied_num = num * 2\n",
    "\n",
    "    # Add the multiplied element to the multiplied_set\n",
    "    multiplied_set.add(multiplied_num)\n",
    "\n",
    "# The original_set remains unchanged\n",
    "print(\"Original Set:\", original_set)\n",
    "\n",
    "# Display the set with elements multiplied by 2\n",
    "print(\"Multiplied Set:\", multiplied_set)"
   ]
  },
  {
   "cell_type": "markdown",
   "id": "c547abf7-2502-4133-ba65-3248f6a81fd7",
   "metadata": {},
   "source": [
    "28. Create a set of random numbers."
   ]
  },
  {
   "cell_type": "code",
   "execution_count": 115,
   "id": "20afb577-6527-44eb-b65c-d1afb1843bdb",
   "metadata": {},
   "outputs": [
    {
     "name": "stdout",
     "output_type": "stream",
     "text": [
      "Random Integers Set: {64, 35, 76, 51, 58}\n"
     ]
    }
   ],
   "source": [
    "import random \n",
    "\n",
    "# Create an empty set to store randomly generated integers\n",
    "random_integers_set = set()\n",
    "\n",
    "# Generate and add random integers between 10 and 100 to the set\n",
    "for _ in range(1, 6):\n",
    "    random_integer = random.randint(10, 100)\n",
    "    random_integers_set.add(random_integer)\n",
    "\n",
    "# Print the set of randomly generated integers\n",
    "print(\"Random Integers Set:\", random_integers_set)"
   ]
  },
  {
   "cell_type": "markdown",
   "id": "e721af3a-f97e-4204-a5b2-7196b7c9beff",
   "metadata": {},
   "source": [
    "29. Check if a set is empty."
   ]
  },
  {
   "cell_type": "code",
   "execution_count": 119,
   "id": "a94b43b3-b7b3-4584-aa94-51bec3565fa8",
   "metadata": {},
   "outputs": [
    {
     "name": "stdout",
     "output_type": "stream",
     "text": [
      "The set is empty.\n"
     ]
    }
   ],
   "source": [
    "# Create a set (you can replace this with your own set)\n",
    "my_set = set()\n",
    "\n",
    "# Check if the set is empty using the 'if' statement\n",
    "if not my_set:\n",
    "    print(\"The set is empty.\")\n",
    "else:\n",
    "    print(\"The set is not empty.\")"
   ]
  },
  {
   "cell_type": "markdown",
   "id": "33c2557b-cb03-41dd-8fe3-6285078a64ef",
   "metadata": {},
   "source": [
    "30. Create a nested set (hint: use frozenset)."
   ]
  },
  {
   "cell_type": "code",
   "execution_count": 120,
   "id": "5f51d245-2621-4925-8dff-5af4c9ad7674",
   "metadata": {},
   "outputs": [
    {
     "name": "stdout",
     "output_type": "stream",
     "text": [
      "Nested Set: {frozenset({1, 2, 3, 4, 5}), frozenset({6, 7, 8, 9, 10})}\n"
     ]
    }
   ],
   "source": [
    "#  Create the inner sets\n",
    "set1 = {1, 2, 3, 4, 5}\n",
    "set2 = {6, 7, 8, 9, 10}\n",
    "\n",
    "# Create frozensets from the inner sets\n",
    "frozen_set1 = frozenset(set1)\n",
    "frozen_set2 = frozenset(set2)\n",
    "\n",
    "# Create the nested set using the frozensets\n",
    "nested_set = {frozen_set1, frozen_set2}\n",
    "\n",
    "# Print the nested set\n",
    "print(\"Nested Set:\", nested_set)"
   ]
  },
  {
   "cell_type": "markdown",
   "id": "70da71d2-eb36-480b-995c-bfb1dd0b194d",
   "metadata": {},
   "source": [
    "31. Remove an element from a set using the discard method."
   ]
  },
  {
   "cell_type": "code",
   "execution_count": 125,
   "id": "fcc88d28-6243-4a14-ad01-c583a9a3be7f",
   "metadata": {},
   "outputs": [
    {
     "name": "stdout",
     "output_type": "stream",
     "text": [
      "Initial set: {1, 2, 3, 4, 5}\n",
      "Set after removing 3 : {1, 2, 4, 5}\n"
     ]
    }
   ],
   "source": [
    "# Create a set with some elements\n",
    "my_set = {1, 2, 3, 4, 5}\n",
    "\n",
    "# Display the initial set\n",
    "print(\"Initial set:\", my_set)\n",
    "\n",
    "# Define the element to be removed\n",
    "element_to_remove = 3\n",
    "\n",
    "# Use the discard() method to remove the element from the set\n",
    "# If the element is not present in the set, discard() won't raise an error\n",
    "my_set.discard(element_to_remove)\n",
    "\n",
    "# Display the set after removing the element\n",
    "print(\"Set after removing\", element_to_remove, \":\", my_set)"
   ]
  },
  {
   "cell_type": "markdown",
   "id": "de4f4e5a-1e9d-4121-bf82-39640ead823d",
   "metadata": {},
   "source": [
    "32. Compare two sets."
   ]
  },
  {
   "cell_type": "code",
   "execution_count": 130,
   "id": "46a8419b-0e20-40b5-9dd0-0ddb3d478ab6",
   "metadata": {},
   "outputs": [
    {
     "name": "stdout",
     "output_type": "stream",
     "text": [
      "Set 1: {1, 2, 3, 4, 5}\n",
      "Set 2: {4, 5, 6, 7, 8}\n",
      "Is set1 a subset of set2? False\n",
      "Is set2 a subset of set1? False\n",
      "Intersection: {4, 5}\n",
      "Union: {1, 2, 3, 4, 5, 6, 7, 8}\n",
      "Elements in set1 but not in set2: {1, 2, 3}\n",
      "Elements in set2 but not in set1: {8, 6, 7}\n"
     ]
    }
   ],
   "source": [
    "# Step 1: Define two sets\n",
    "set1 = {1, 2, 3, 4, 5}\n",
    "set2 = {4, 5, 6, 7, 8}\n",
    "\n",
    "# Step 2: Use set operations to compare the sets\n",
    "# Check if set1 is a subset of set2\n",
    "is_subset = set1.issubset(set2)\n",
    "\n",
    "# Check if set2 is a subset of set1\n",
    "is_superset = set1.issuperset(set2)\n",
    "\n",
    "# Find the intersection of the sets\n",
    "intersection = set1.intersection(set2)\n",
    "\n",
    "# Find the union of the sets\n",
    "union = set1.union(set2)\n",
    "\n",
    "# Find the elements that are in set1 but not in set2\n",
    "difference1 = set1.difference(set2)\n",
    "\n",
    "# Find the elements that are in set2 but not in set1\n",
    "difference2 = set2.difference(set1)\n",
    "\n",
    "# Step 3: Print the results\n",
    "print(\"Set 1:\", set1)\n",
    "print(\"Set 2:\", set2)\n",
    "print(\"Is set1 a subset of set2?\", is_subset)\n",
    "print(\"Is set2 a subset of set1?\", is_superset)\n",
    "print(\"Intersection:\", intersection)\n",
    "print(\"Union:\", union)\n",
    "print(\"Elements in set1 but not in set2:\", difference1)\n",
    "print(\"Elements in set2 but not in set1:\", difference2)"
   ]
  },
  {
   "cell_type": "markdown",
   "id": "99b49b8b-d051-4d32-aba0-fcd53a51cc78",
   "metadata": {},
   "source": [
    "33. Create a set from a string."
   ]
  },
  {
   "cell_type": "code",
   "execution_count": 132,
   "id": "2414a6cd-cd6b-42e4-a60d-cccf3f481736",
   "metadata": {},
   "outputs": [
    {
     "name": "stdout",
     "output_type": "stream",
     "text": [
      "{'h', 'R', 'a', 'u', 'b', 'y'}\n"
     ]
    }
   ],
   "source": [
    "# Define the input string\n",
    "input_string = \"Rubayah\"\n",
    "\n",
    "# Use the set() constructor to create a set from the characters in the string\n",
    "char_set = set(input_string)\n",
    "\n",
    "# Print the resulting set\n",
    "print(char_set)"
   ]
  },
  {
   "cell_type": "markdown",
   "id": "981f10c2-6133-4344-91fc-b66bb20dfcd2",
   "metadata": {},
   "source": [
    "34. Convert a set of strings to a set of integers."
   ]
  },
  {
   "cell_type": "code",
   "execution_count": 137,
   "id": "a885d008-305b-4d04-a0cc-edea63466f32",
   "metadata": {},
   "outputs": [
    {
     "name": "stdout",
     "output_type": "stream",
     "text": [
      "Original String Set: {'123', '789', '456'}\n",
      "Converted Integer Set: {456, 123, 789}\n"
     ]
    }
   ],
   "source": [
    "# Create a set of strings\n",
    "string_set = {\"123\", \"456\", \"789\"}\n",
    "\n",
    "# Initialize an empty set to store integers\n",
    "integer_set = set()\n",
    "\n",
    "# Iterate through each string in the string set\n",
    "for string in string_set:\n",
    "    # Convert the string to an integer using the int() function\n",
    "    integer_value = int(string)\n",
    "\n",
    "    # Add the integer to the integer set\n",
    "    integer_set.add(integer_value)\n",
    "\n",
    "# Print the original string set and the converted integer set\n",
    "print(\"Original String Set:\", string_set)\n",
    "print(\"Converted Integer Set:\", integer_set)"
   ]
  },
  {
   "cell_type": "markdown",
   "id": "e45d9abc-2fce-4d0c-b633-5ab5f14f9933",
   "metadata": {},
   "source": [
    "35. Convert a set of integers to a set of strings."
   ]
  },
  {
   "cell_type": "code",
   "execution_count": 140,
   "id": "babcf7d3-1ca4-4e9e-a8ca-377c1016e3cd",
   "metadata": {},
   "outputs": [
    {
     "name": "stdout",
     "output_type": "stream",
     "text": [
      "Original integers_set: {1, 2, 3, 4, 5}\n",
      "Converted strings_set: {'4', '5', '2', '1', '3'}\n"
     ]
    }
   ],
   "source": [
    "# Step 1: Create a set of integers\n",
    "integers_set = {1, 2, 3, 4, 5}\n",
    "\n",
    "# Step 2: Initialize an empty set to store the strings\n",
    "strings_set = set()\n",
    "\n",
    "# Step 3: Iterate through each integer in the integers_set\n",
    "for num in integers_set:\n",
    "    # Step 4: Convert the integer to a string using the str() function\n",
    "    num_str = str(num)\n",
    "\n",
    "    # Step 5: Add the string representation to the strings_set\n",
    "    strings_set.add(num_str)\n",
    "\n",
    "# Step 6: Print the original integers_set and the converted strings_set\n",
    "print(\"Original integers_set:\", integers_set)\n",
    "print(\"Converted strings_set:\", strings_set)"
   ]
  },
  {
   "cell_type": "markdown",
   "id": "b109a8ac-eb6e-4a8c-8413-7c78c47a0498",
   "metadata": {},
   "source": [
    "36. Create a set from a tuple."
   ]
  },
  {
   "cell_type": "code",
   "execution_count": 142,
   "id": "4ee1a15a-d2ee-4122-aa9a-7553e7843dc0",
   "metadata": {},
   "outputs": [
    {
     "name": "stdout",
     "output_type": "stream",
     "text": [
      "Set created from tuple: {1, 2, 3}\n"
     ]
    }
   ],
   "source": [
    "# Create a tuple named 'numbers_tuple'\n",
    "numbers_tuple = (1, 2, 3)\n",
    "\n",
    "# Convert the tuple 'numbers_tuple' to a set named 'numbers_set'\n",
    "numbers_set = set(numbers_tuple)\n",
    "\n",
    "# Print the set 'numbers_set'\n",
    "print(\"Set created from tuple:\", numbers_set)"
   ]
  },
  {
   "cell_type": "markdown",
   "id": "2237112a-affd-46fe-9562-f34025af4574",
   "metadata": {},
   "source": [
    "37. Convert a set to a tuple."
   ]
  },
  {
   "cell_type": "code",
   "execution_count": 143,
   "id": "c30893e4-7f19-420d-90b1-cbed8e212454",
   "metadata": {},
   "outputs": [
    {
     "name": "stdout",
     "output_type": "stream",
     "text": [
      "Tuple created from set: (1, 2, 3, 4, 5)\n"
     ]
    }
   ],
   "source": [
    "# Create a set named 'my_set'\n",
    "my_set = {1, 2, 3, 4, 5}\n",
    "\n",
    "# Convert the set 'my_set' to a tuple named 'my_tuple'\n",
    "my_tuple = tuple(my_set)\n",
    "\n",
    "# Print the tuple 'my_tuple'\n",
    "print(\"Tuple created from set:\", my_tuple)"
   ]
  },
  {
   "cell_type": "markdown",
   "id": "9889d75d-87b1-4bb2-b891-16c170b85698",
   "metadata": {},
   "source": [
    "38. Find the maximum value in a set."
   ]
  },
  {
   "cell_type": "code",
   "execution_count": 145,
   "id": "ede901f1-9cd5-4c46-80ab-82106d6e652f",
   "metadata": {},
   "outputs": [
    {
     "name": "stdout",
     "output_type": "stream",
     "text": [
      "Maximum value in the set: 400\n"
     ]
    }
   ],
   "source": [
    "# Create a set named 'numeric_set'\n",
    "numeric_set = {100, 400, 200, 300}\n",
    "\n",
    "# Find the maximum value in the set using the 'max()' function\n",
    "max_value = max(numeric_set)\n",
    "\n",
    "# Print the maximum value found in the set\n",
    "print(\"Maximum value in the set:\", max_value)"
   ]
  },
  {
   "cell_type": "markdown",
   "id": "6b4f32a8-f54f-4ffb-9512-042ea0f6889c",
   "metadata": {},
   "source": [
    "39. Find the minimum value in a set."
   ]
  },
  {
   "cell_type": "code",
   "execution_count": 152,
   "id": "5e1262e4-88c9-4342-a38f-e2f928a8f1b6",
   "metadata": {},
   "outputs": [
    {
     "name": "stdout",
     "output_type": "stream",
     "text": [
      "Minimum value in the set: 100\n"
     ]
    }
   ],
   "source": [
    "# Create a set named 'numeric_set'\n",
    "numeric_set = {100, 400, 200, 300}\n",
    "\n",
    "# Initialize a variable 'min_value' to None to track the minimum value\n",
    "min_value = None\n",
    "\n",
    "# Iterate through the elements in the set to find the minimum value\n",
    "for num in numeric_set:\n",
    "    # Check if 'min_value' is None or if the current element is smaller than 'min_value'\n",
    "    if min_value is None or num < min_value:\n",
    "        # Update 'min_value' if conditions are met\n",
    "        min_value = num\n",
    "\n",
    "# Print the minimum value found in the set\n",
    "print(\"Minimum value in the set:\", min_value)"
   ]
  },
  {
   "cell_type": "markdown",
   "id": "cd44d612-e1cf-44ab-be7f-3367af4852d3",
   "metadata": {},
   "source": [
    "40. Create a set from user input."
   ]
  },
  {
   "cell_type": "code",
   "execution_count": 159,
   "id": "44ad1fcb-9b02-44b6-8930-d013a2cf4777",
   "metadata": {},
   "outputs": [
    {
     "name": "stdout",
     "output_type": "stream",
     "text": [
      "Enter data until 'done' is typed. Type 'done' to finish.\n"
     ]
    },
    {
     "name": "stdin",
     "output_type": "stream",
     "text": [
      "Enter data:  hello\n",
      "Enter data:  world,\n",
      "Enter data:  Good Morning!\n",
      "Enter data:  done\n"
     ]
    },
    {
     "name": "stdout",
     "output_type": "stream",
     "text": [
      "Final set: {'hello', 'Good Morning!', 'world,'}\n"
     ]
    }
   ],
   "source": [
    "my_set = set()\n",
    "\n",
    "# Prompt the user to enter data until \"done\" is typed\n",
    "print(\"Enter data until 'done' is typed. Type 'done' to finish.\")\n",
    "while True:\n",
    "    # Get user input\n",
    "    user_input = input(\"Enter data: \")\n",
    "    \n",
    "    # Check if the user entered \"done\" to exit the loop\n",
    "    if user_input.lower() == \"done\":\n",
    "        break\n",
    "    else:\n",
    "        # Add the user input to the set\n",
    "        my_set.add(user_input)\n",
    "\n",
    "# Print the final set\n",
    "print(\"Final set:\", my_set)"
   ]
  },
  {
   "cell_type": "markdown",
   "id": "7dd901bc-ed8b-4639-97a5-def2199d6142",
   "metadata": {},
   "source": [
    "41. Check if the intersection of two sets is empty. "
   ]
  },
  {
   "cell_type": "code",
   "execution_count": 164,
   "id": "796b08af-1ab9-4308-bd4c-1cd26b72cc06",
   "metadata": {},
   "outputs": [
    {
     "name": "stdout",
     "output_type": "stream",
     "text": [
      "The intersection set is empty.\n"
     ]
    }
   ],
   "source": [
    "# Create two sets, 'set1' and 'set2'\n",
    "set1 = {1, 2, 3}\n",
    "set2 = {5, 6, 7}\n",
    "\n",
    "# Find the intersection of 'set1' and 'set2'\n",
    "intersection_set = set1.intersection(set2)\n",
    "\n",
    "# Check if the intersection set is empty\n",
    "if not intersection_set:\n",
    "    print(\"The intersection set is empty.\")\n",
    "else:\n",
    "    print(\"The intersection set is not empty.\")"
   ]
  },
  {
   "cell_type": "markdown",
   "id": "99de38eb-021f-45b1-b59c-a89f6cfd8a8d",
   "metadata": {},
   "source": [
    "42. Create a set of the first 5 Fibonacci numbers."
   ]
  },
  {
   "cell_type": "code",
   "execution_count": 21,
   "id": "eb3a8758-e314-4382-ac82-fb0ffe75b854",
   "metadata": {},
   "outputs": [
    {
     "name": "stdout",
     "output_type": "stream",
     "text": [
      "Set of the first 5 Fibonacci numbers: {0, 1, 2, 3, 5}\n"
     ]
    }
   ],
   "source": [
    "# Initialize an empty set to store the first 5 Fibonacci numbers\n",
    "fib_set = set()\n",
    "\n",
    "# Initialize the first two Fibonacci numbers\n",
    "a, b = 0, 1\n",
    "\n",
    "# Loop to generate the first 5 Fibonacci numbers\n",
    "for _ in range(6): \n",
    "    fib_set.add(a)\n",
    "\n",
    "    # Calculate the next Fibonacci number\n",
    "    a, b = b, a + b\n",
    "\n",
    "# Print the set of the first 5 Fibonacci numbers\n",
    "print(\"Set of the first 5 Fibonacci numbers:\", fib_set)"
   ]
  },
  {
   "cell_type": "markdown",
   "id": "e6efbb41-cbca-430a-837e-12bf4aa447ee",
   "metadata": {},
   "source": [
    "43. Remove duplicates from a list using sets."
   ]
  },
  {
   "cell_type": "code",
   "execution_count": 24,
   "id": "63ca767d-3470-4067-a541-72dd885c7a3c",
   "metadata": {},
   "outputs": [
    {
     "name": "stdout",
     "output_type": "stream",
     "text": [
      "Original List: [2, 4, 6, 8, 4, 10, 6, 12, 14, 8]\n",
      "List with Duplicates Removed: [2, 4, 6, 8, 10, 12, 14]\n"
     ]
    }
   ],
   "source": [
    "# Define a list with duplicates\n",
    "original_list = [2, 4, 6, 8, 4, 10, 6, 12, 14, 8]\n",
    "\n",
    "# Convert the list to a set\n",
    "unique_set = set(original_list)\n",
    "\n",
    "# Convert the set back to a list\n",
    "unique_list = list(unique_set)\n",
    "\n",
    "# Print the original list and the list with duplicates removed\n",
    "print(\"Original List:\", original_list)\n",
    "print(\"List with Duplicates Removed:\", unique_list)"
   ]
  },
  {
   "cell_type": "markdown",
   "id": "6fca7df4-c609-4f1c-a349-a99175b6b081",
   "metadata": {},
   "source": [
    "44. Check if two sets have the same elements, regardless of their count."
   ]
  },
  {
   "cell_type": "code",
   "execution_count": 26,
   "id": "b53d2689-7b4e-4709-af4c-469f88feca8f",
   "metadata": {},
   "outputs": [
    {
     "name": "stdout",
     "output_type": "stream",
     "text": [
      "The sets have the same elements.\n"
     ]
    }
   ],
   "source": [
    "def have_same_elements(set1, set2):\n",
    "    # Convert the sets to lists and sort them\n",
    "    sorted_list1 = sorted(list(set1))\n",
    "    sorted_list2 = sorted(list(set2))\n",
    "\n",
    "    # Compare the sorted lists to check if they are equal\n",
    "    return sorted_list1 == sorted_list2\n",
    "\n",
    "# Example sets\n",
    "set1 = {1, 2, 3, 2, 1}\n",
    "set2 = {3, 1, 2}\n",
    "\n",
    "# Check if the sets have the same elements\n",
    "result = have_same_elements(set1, set2)\n",
    "\n",
    "# Print the result\n",
    "if result:\n",
    "    print(\"The sets have the same elements.\")\n",
    "else:\n",
    "    print(\"The sets do not have the same elements.\")"
   ]
  },
  {
   "cell_type": "markdown",
   "id": "41c4f8f2-1baa-4129-9fcc-6ba6295b0212",
   "metadata": {},
   "source": [
    "45. Create a set of the first `n` powers of 2."
   ]
  },
  {
   "cell_type": "code",
   "execution_count": 34,
   "id": "96319153-8910-4953-9c5d-c99c8b68432d",
   "metadata": {},
   "outputs": [
    {
     "name": "stdout",
     "output_type": "stream",
     "text": [
      "Set of powers of 2 up to 5 : {1, 2, 4, 8, 16}\n"
     ]
    }
   ],
   "source": [
    "def generate_pow_2(n):\n",
    "    # Initialize an empty set to store powers of 2\n",
    "    powers_set = set()\n",
    "\n",
    "    # Loop to generate powers of 2 up to n\n",
    "    for i in range(n):\n",
    "        # Calculate the current power of 2\n",
    "        power = 2 ** i\n",
    "\n",
    "        # Add the current power of 2 to the set\n",
    "        powers_set.add(power)\n",
    "\n",
    "    # Return the set of powers of 2\n",
    "    return powers_set\n",
    "\n",
    "# Define the value of n\n",
    "n = 5\n",
    "\n",
    "# Call the function to generate the set of powers of 2 up to n\n",
    "powers_set = generate_pow_2(n)\n",
    "\n",
    "# Print the resulting set\n",
    "print(\"Set of powers of 2 up to\", n, \":\", powers_set)\n",
    "\n"
   ]
  },
  {
   "cell_type": "markdown",
   "id": "97446d26-b2b9-4b89-a439-9e0675a906d4",
   "metadata": {},
   "source": [
    "46. Find the common elements between a set and a list."
   ]
  },
  {
   "cell_type": "code",
   "execution_count": 18,
   "id": "674383da-c648-456d-868e-9090d71d7735",
   "metadata": {},
   "outputs": [
    {
     "name": "stdout",
     "output_type": "stream",
     "text": [
      "Common elements: {3, 4}\n"
     ]
    }
   ],
   "source": [
    "# Define a set and a list\n",
    "my_set = {1, 2, 3, 4, 5, 0}\n",
    "my_list = [3, 4, 9, 8, 15]\n",
    "\n",
    "# Convert the list to a set\n",
    "my_list = set(my_list)\n",
    "\n",
    "# Use the intersection method to find common elements\n",
    "common_elements = my_set.intersection(my_list)\n",
    "\n",
    "#  Print the common elements\n",
    "print(\"Common elements:\", common_elements)"
   ]
  },
  {
   "cell_type": "markdown",
   "id": "b7c3d8c5-49d6-4b47-a4e3-c6d78e798aaf",
   "metadata": {},
   "source": [
    "47. Create a set of the first `n` triangular numbers."
   ]
  },
  {
   "cell_type": "code",
   "execution_count": 30,
   "id": "f08d8a57-e46c-4f1e-adc3-11c3bdad7a66",
   "metadata": {},
   "outputs": [
    {
     "name": "stdout",
     "output_type": "stream",
     "text": [
      "{0, 1, 3, 6, 10, 15}\n"
     ]
    }
   ],
   "source": [
    "# Generate a set of triangular numbers up to the specified index\n",
    "def triangular_num(n):\n",
    "    return set((i * (i + 1)) // 2 for i in range(n + 1))\n",
    "\n",
    "# Example usage\n",
    "result_set = triangular_num(5)\n",
    "\n",
    "# Print the set of triangular numbers\n",
    "print(result_set)"
   ]
  },
  {
   "cell_type": "markdown",
   "id": "e2dd84f8-99d2-43e8-bbc7-f218dd550835",
   "metadata": {},
   "source": [
    "48. Check if a set contains another set as a subset."
   ]
  },
  {
   "cell_type": "code",
   "execution_count": 33,
   "id": "a0b33da3-3758-4fe5-924c-535271fa3bb1",
   "metadata": {},
   "outputs": [
    {
     "name": "stdout",
     "output_type": "stream",
     "text": [
      "set2 is a subset of set1\n"
     ]
    }
   ],
   "source": [
    "# Define two sets\n",
    "set1 = {1, 2, 3, 4, 5}\n",
    "set2 = {3, 4}\n",
    "\n",
    "# Check if set2 is a subset of set1\n",
    "is_subset = set2.issubset(set1)\n",
    "\n",
    "# Print the result\n",
    "if is_subset:\n",
    "    print(\"set2 is a subset of set1\")\n",
    "else:\n",
    "    print(\"set2 is not a subset of set1\")"
   ]
  },
  {
   "cell_type": "markdown",
   "id": "4d656c12-225b-4f77-9de2-f486cb295272",
   "metadata": {},
   "source": [
    "49. Create a set of alternating 1s and 0s of length `n`."
   ]
  },
  {
   "cell_type": "code",
   "execution_count": 36,
   "id": "d980332f-00d0-4473-a6c3-703967110e78",
   "metadata": {},
   "outputs": [
    {
     "name": "stdout",
     "output_type": "stream",
     "text": [
      "{0, 1}\n"
     ]
    }
   ],
   "source": [
    "def create_alternating_set(n):\n",
    "    # Initialize an empty set to store the alternating sequence.\n",
    "    alternating_set = set()\n",
    "\n",
    "    # Loop to generate alternating 1s and 0s.\n",
    "    for i in range(n):\n",
    "        # Alternate between adding 1 and 0 to the set based on whether i is even or odd.\n",
    "        if i % 2 == 0:\n",
    "            alternating_set.add(1)  # Add 1 if i is even.\n",
    "        else:\n",
    "            alternating_set.add(0)  # Add 0 if i is odd.\n",
    "\n",
    "    return alternating_set\n",
    "\n",
    "# Define the desired length of the alternating set.\n",
    "length_n = 10\n",
    "\n",
    "# Call the function to create the alternating set of length 'length_n'.\n",
    "result = create_alternating_set(length_n)\n",
    "\n",
    "# Print the resulting set.\n",
    "print(result)"
   ]
  },
  {
   "cell_type": "markdown",
   "id": "5d43aa6b-ad0d-4136-9c26-2aed8ac38996",
   "metadata": {},
   "source": [
    "50. Merge multiple sets into one."
   ]
  },
  {
   "cell_type": "code",
   "execution_count": 40,
   "id": "d307af1e-2893-49cf-8f5c-38c84f3d7576",
   "metadata": {},
   "outputs": [
    {
     "name": "stdout",
     "output_type": "stream",
     "text": [
      "Merged Set: {1, 2, 3, 4, 5, 7, 8}\n"
     ]
    }
   ],
   "source": [
    "# Define three sets: set1, set2, and set3\n",
    "set1 = {1, 2}\n",
    "set2 = {1, 2, 3, 4, 5}\n",
    "set3 = {7, 8}\n",
    "\n",
    "# Combine the sets using the union operation\n",
    "merged_set = set1.union(set2, set3)\n",
    "\n",
    "# Print the resulting merged set\n",
    "print(\"Merged Set:\", merged_set)"
   ]
  },
  {
   "cell_type": "code",
   "execution_count": null,
   "id": "f510e07c-0241-4f45-9813-a0980b00a17f",
   "metadata": {},
   "outputs": [],
   "source": []
  }
 ],
 "metadata": {
  "kernelspec": {
   "display_name": "Python 3 (ipykernel)",
   "language": "python",
   "name": "python3"
  },
  "language_info": {
   "codemirror_mode": {
    "name": "ipython",
    "version": 3
   },
   "file_extension": ".py",
   "mimetype": "text/x-python",
   "name": "python",
   "nbconvert_exporter": "python",
   "pygments_lexer": "ipython3",
   "version": "3.10.8"
  }
 },
 "nbformat": 4,
 "nbformat_minor": 5
}
